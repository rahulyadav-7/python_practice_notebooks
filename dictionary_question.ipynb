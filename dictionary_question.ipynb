{
  "cells": [
    {
      "cell_type": "markdown",
      "id": "3b6ad89b",
      "metadata": {},
      "source": [
        "1. Write a Python script to sort (ascending and descending) a dictionary by value"
      ]
    },
    {
      "cell_type": "code",
      "execution_count": null,
      "id": "33dcbc10",
      "metadata": {},
      "outputs": [],
      "source": []
    },
    {
      "cell_type": "markdown",
      "id": "f2cfc437",
      "metadata": {},
      "source": [
        "2. Write a Python script to add a key to a dictionary"
      ]
    },
    {
      "cell_type": "code",
      "execution_count": null,
      "id": "ce610c72",
      "metadata": {},
      "outputs": [],
      "source": []
    },
    {
      "cell_type": "markdown",
      "id": "602be0c9",
      "metadata": {},
      "source": [
        "3. Write a Python script to concatenate the following dictionaries to create a new one"
      ]
    },
    {
      "cell_type": "code",
      "execution_count": null,
      "id": "06ce4c5b",
      "metadata": {},
      "outputs": [],
      "source": []
    },
    {
      "cell_type": "markdown",
      "id": "7a8ae2d0",
      "metadata": {},
      "source": [
        "4. Write a Python script to check whether a given key already exists in a dictionary"
      ]
    },
    {
      "cell_type": "code",
      "execution_count": null,
      "id": "d59a55b5",
      "metadata": {},
      "outputs": [],
      "source": []
    },
    {
      "cell_type": "markdown",
      "id": "93034c7b",
      "metadata": {},
      "source": [
        "5. Write a Python program to iterate over dictionaries using for loops"
      ]
    },
    {
      "cell_type": "code",
      "execution_count": null,
      "id": "e8d39e59",
      "metadata": {},
      "outputs": [],
      "source": []
    },
    {
      "cell_type": "markdown",
      "id": "388433ba",
      "metadata": {},
      "source": [
        "6. Write a Python script to generate and print a dictionary that contains a number (between 1 and n) in the form (x, x*x)"
      ]
    },
    {
      "cell_type": "code",
      "execution_count": null,
      "id": "56bafb0f",
      "metadata": {},
      "outputs": [],
      "source": []
    },
    {
      "cell_type": "markdown",
      "id": "0c1e924a",
      "metadata": {},
      "source": [
        "7. Write a Python script to print a dictionary where the keys are numbers between 1 and 15 (both included) and the values are the square of the keys"
      ]
    },
    {
      "cell_type": "code",
      "execution_count": null,
      "id": "c526e568",
      "metadata": {},
      "outputs": [],
      "source": []
    },
    {
      "cell_type": "markdown",
      "id": "90eb0663",
      "metadata": {},
      "source": [
        "8. Write a Python script to merge two Python dictionaries"
      ]
    },
    {
      "cell_type": "code",
      "execution_count": null,
      "id": "a905b9cb",
      "metadata": {},
      "outputs": [],
      "source": []
    },
    {
      "cell_type": "markdown",
      "id": "16484937",
      "metadata": {},
      "source": [
        "9. Write a Python program to iterate over dictionaries using for loops"
      ]
    },
    {
      "cell_type": "code",
      "execution_count": null,
      "id": "9ad6355d",
      "metadata": {},
      "outputs": [],
      "source": []
    },
    {
      "cell_type": "markdown",
      "id": "9c98f687",
      "metadata": {},
      "source": [
        "10. Write a Python program to sum all the items in a dictionary"
      ]
    },
    {
      "cell_type": "code",
      "execution_count": null,
      "id": "1c908cbb",
      "metadata": {},
      "outputs": [],
      "source": []
    },
    {
      "cell_type": "markdown",
      "id": "58ed8cd8",
      "metadata": {},
      "source": [
        "11. Write a Python program to multiply all the items in a dictionary"
      ]
    },
    {
      "cell_type": "code",
      "execution_count": null,
      "id": "443d5fb2",
      "metadata": {},
      "outputs": [],
      "source": []
    },
    {
      "cell_type": "markdown",
      "id": "aa61dfd5",
      "metadata": {},
      "source": [
        "12. Write a Python program to remove a key from a dictionary"
      ]
    },
    {
      "cell_type": "code",
      "execution_count": null,
      "id": "92aac819",
      "metadata": {},
      "outputs": [],
      "source": []
    },
    {
      "cell_type": "markdown",
      "id": "fe37ceb6",
      "metadata": {},
      "source": [
        "13. Write a Python program to map two lists into a dictionary"
      ]
    },
    {
      "cell_type": "code",
      "execution_count": null,
      "id": "f37cde94",
      "metadata": {},
      "outputs": [],
      "source": []
    },
    {
      "cell_type": "markdown",
      "id": "5fd9c659",
      "metadata": {},
      "source": [
        "14. Write a Python program to sort a given dictionary by key"
      ]
    },
    {
      "cell_type": "code",
      "execution_count": null,
      "id": "e74ec357",
      "metadata": {},
      "outputs": [],
      "source": []
    },
    {
      "cell_type": "markdown",
      "id": "5448765e",
      "metadata": {},
      "source": [
        "15. Write a Python program to get the maximum and minimum values of a dictionary"
      ]
    },
    {
      "cell_type": "code",
      "execution_count": null,
      "id": "10019101",
      "metadata": {},
      "outputs": [],
      "source": []
    },
    {
      "cell_type": "markdown",
      "id": "8e28564e",
      "metadata": {},
      "source": [
        "16. Write a Python program to get a dictionary from an object's fields"
      ]
    },
    {
      "cell_type": "code",
      "execution_count": null,
      "id": "49ba3738",
      "metadata": {},
      "outputs": [],
      "source": []
    },
    {
      "cell_type": "markdown",
      "id": "dd1fb5bc",
      "metadata": {},
      "source": [
        "17. Write a Python program to remove duplicates from the dictionary"
      ]
    },
    {
      "cell_type": "code",
      "execution_count": null,
      "id": "83f3a622",
      "metadata": {},
      "outputs": [],
      "source": []
    },
    {
      "cell_type": "markdown",
      "id": "c90a1216",
      "metadata": {},
      "source": [
        "18. Write a Python program to check if a dictionary is empty or not"
      ]
    },
    {
      "cell_type": "code",
      "execution_count": null,
      "id": "17bc8cbe",
      "metadata": {},
      "outputs": [],
      "source": []
    },
    {
      "cell_type": "markdown",
      "id": "47ac5385",
      "metadata": {},
      "source": [
        "19. Write a Python program to combine two dictionary by adding values for common keys"
      ]
    },
    {
      "cell_type": "code",
      "execution_count": null,
      "id": "e44814d9",
      "metadata": {},
      "outputs": [],
      "source": []
    },
    {
      "cell_type": "markdown",
      "id": "867c3b00",
      "metadata": {},
      "source": [
        "20. Write a Python program to print all distinct values in a dictionary"
      ]
    },
    {
      "cell_type": "code",
      "execution_count": null,
      "id": "2c9c875a",
      "metadata": {},
      "outputs": [],
      "source": []
    },
    {
      "cell_type": "markdown",
      "id": "a76aa7d1",
      "metadata": {},
      "source": [
        "21. Write a Python program to create and display all combinations of letters, selecting each letter from a different key in a dictionary"
      ]
    },
    {
      "cell_type": "code",
      "execution_count": null,
      "id": "3f9b9a44",
      "metadata": {},
      "outputs": [],
      "source": []
    },
    {
      "cell_type": "markdown",
      "id": "64f04f4c",
      "metadata": {},
      "source": [
        "22. Write a Python program to find the highest 3 values of corresponding keys in a dictionary"
      ]
    },
    {
      "cell_type": "code",
      "execution_count": null,
      "id": "9151fd34",
      "metadata": {},
      "outputs": [],
      "source": []
    },
    {
      "cell_type": "markdown",
      "id": "5e25f261",
      "metadata": {},
      "source": [
        "23. Write a Python program to combine values in a list of dictionaries"
      ]
    },
    {
      "cell_type": "code",
      "execution_count": null,
      "id": "49d7a274",
      "metadata": {},
      "outputs": [],
      "source": []
    },
    {
      "cell_type": "markdown",
      "id": "62b18f88",
      "metadata": {},
      "source": [
        "24. Write a Python program to create a dictionary from a string"
      ]
    },
    {
      "cell_type": "code",
      "execution_count": null,
      "id": "838f848e",
      "metadata": {},
      "outputs": [],
      "source": []
    },
    {
      "cell_type": "markdown",
      "id": "1d105c01",
      "metadata": {},
      "source": [
        "25. Write a Python program to print a dictionary in table format"
      ]
    },
    {
      "cell_type": "code",
      "execution_count": null,
      "id": "587c01e0",
      "metadata": {},
      "outputs": [],
      "source": []
    },
    {
      "cell_type": "markdown",
      "id": "1bb8a72c",
      "metadata": {},
      "source": [
        "26. Write a Python program to count the values associated with a key in a dictionary"
      ]
    },
    {
      "cell_type": "code",
      "execution_count": null,
      "id": "573c3df5",
      "metadata": {},
      "outputs": [],
      "source": []
    },
    {
      "cell_type": "markdown",
      "id": "1ae9109a",
      "metadata": {},
      "source": [
        "27. Write a Python program to convert a list into a nested dictionary of keys"
      ]
    },
    {
      "cell_type": "code",
      "execution_count": null,
      "id": "ae1d284a",
      "metadata": {},
      "outputs": [],
      "source": []
    },
    {
      "cell_type": "markdown",
      "id": "64f30dfa",
      "metadata": {},
      "source": [
        "28. Write a Python program to sort a list alphabetically in a dictionary"
      ]
    },
    {
      "cell_type": "code",
      "execution_count": null,
      "id": "8e99534d",
      "metadata": {},
      "outputs": [],
      "source": []
    },
    {
      "cell_type": "markdown",
      "id": "f202ef6d",
      "metadata": {},
      "source": [
        "29. Write a Python program to remove spaces from dictionary keys"
      ]
    },
    {
      "cell_type": "code",
      "execution_count": null,
      "id": "aa833354",
      "metadata": {},
      "outputs": [],
      "source": []
    },
    {
      "cell_type": "markdown",
      "id": "ed8c4ee7",
      "metadata": {},
      "source": [
        "30. Write a Python program to get the top three items in a shop"
      ]
    },
    {
      "cell_type": "code",
      "execution_count": null,
      "id": "c8233d57",
      "metadata": {},
      "outputs": [],
      "source": []
    },
    {
      "cell_type": "markdown",
      "id": "80bde8f7",
      "metadata": {},
      "source": [
        "31. Write a Python program to get the key, value and item in a dictionary"
      ]
    },
    {
      "cell_type": "code",
      "execution_count": null,
      "id": "2ff6fe26",
      "metadata": {},
      "outputs": [],
      "source": []
    },
    {
      "cell_type": "markdown",
      "id": "423e3c99",
      "metadata": {},
      "source": [
        "32. Write a Python program to print a dictionary line by line"
      ]
    },
    {
      "cell_type": "code",
      "execution_count": null,
      "id": "7e5267c9",
      "metadata": {},
      "outputs": [],
      "source": []
    },
    {
      "cell_type": "markdown",
      "id": "07ab1d1a",
      "metadata": {},
      "source": [
        "33. Write a Python program to check if multiple keys exist in a dictionary"
      ]
    },
    {
      "cell_type": "code",
      "execution_count": null,
      "id": "fc4f9377",
      "metadata": {},
      "outputs": [],
      "source": []
    },
    {
      "cell_type": "markdown",
      "id": "2866a6e6",
      "metadata": {},
      "source": [
        "34. Write a Python program to count the number of items in a dictionary value that is a list"
      ]
    },
    {
      "cell_type": "code",
      "execution_count": null,
      "id": "fd604e8e",
      "metadata": {},
      "outputs": [],
      "source": []
    },
    {
      "cell_type": "markdown",
      "id": "e54d384f",
      "metadata": {},
      "source": [
        "35. Write a Python program to sort Counter by value"
      ]
    },
    {
      "cell_type": "code",
      "execution_count": null,
      "id": "b85395d9",
      "metadata": {},
      "outputs": [],
      "source": []
    },
    {
      "cell_type": "markdown",
      "id": "8b245e09",
      "metadata": {},
      "source": [
        "36. Write a Python program to create a dictionary from two lists without losing duplicate values"
      ]
    },
    {
      "cell_type": "code",
      "execution_count": null,
      "id": "cab2ce1b",
      "metadata": {},
      "outputs": [],
      "source": []
    },
    {
      "cell_type": "markdown",
      "id": "f73a7042",
      "metadata": {},
      "source": [
        "37. Write a Python program to replace dictionary values with their sums"
      ]
    },
    {
      "cell_type": "code",
      "execution_count": null,
      "id": "1422052a",
      "metadata": {},
      "outputs": [],
      "source": []
    },
    {
      "cell_type": "markdown",
      "id": "14708cc6",
      "metadata": {},
      "source": [
        "38. Write a Python program to match key values in two dictionaries"
      ]
    },
    {
      "cell_type": "code",
      "execution_count": null,
      "id": "845b3628",
      "metadata": {},
      "outputs": [],
      "source": []
    },
    {
      "cell_type": "markdown",
      "id": "8c2a2488",
      "metadata": {},
      "source": [
        "39. Write a Python program to store dictionary data in a JSON file"
      ]
    },
    {
      "cell_type": "code",
      "execution_count": null,
      "id": "91e0dc40",
      "metadata": {},
      "outputs": [],
      "source": []
    },
    {
      "cell_type": "markdown",
      "id": "35fd355e",
      "metadata": {},
      "source": [
        "40. Write a Python program to create a dictionary of keys x, y, and z where each key has as value a list from 11-20, 21-30, and 31-40 respectively"
      ]
    },
    {
      "cell_type": "code",
      "execution_count": null,
      "id": "f8305c60",
      "metadata": {},
      "outputs": [],
      "source": []
    },
    {
      "cell_type": "markdown",
      "id": "3520f2bc",
      "metadata": {},
      "source": [
        "41. Write a Python program to drop empty items from a given dictionary"
      ]
    },
    {
      "cell_type": "code",
      "execution_count": null,
      "id": "60105d69",
      "metadata": {},
      "outputs": [],
      "source": []
    },
    {
      "cell_type": "markdown",
      "id": "11824598",
      "metadata": {},
      "source": [
        "42. Write a Python program to filter a dictionary based on values"
      ]
    },
    {
      "cell_type": "code",
      "execution_count": null,
      "id": "11a002f0",
      "metadata": {},
      "outputs": [],
      "source": []
    },
    {
      "cell_type": "markdown",
      "id": "42e07dcf",
      "metadata": {},
      "source": [
        "43. Write a Python program to convert more than one list to a nested dictionary"
      ]
    },
    {
      "cell_type": "code",
      "execution_count": null,
      "id": "c206fc1c",
      "metadata": {},
      "outputs": [],
      "source": []
    },
    {
      "cell_type": "markdown",
      "id": "da63b7c8",
      "metadata": {},
      "source": [
        "44. Write a Python program to filter the height and width of students, which are stored in a dictionary"
      ]
    },
    {
      "cell_type": "code",
      "execution_count": null,
      "id": "37d32c21",
      "metadata": {},
      "outputs": [],
      "source": []
    },
    {
      "cell_type": "markdown",
      "id": "42ab6b39",
      "metadata": {},
      "source": [
        "45. Write a Python program to verify that all values in a dictionary are the same"
      ]
    },
    {
      "cell_type": "code",
      "execution_count": null,
      "id": "d4f7f265",
      "metadata": {},
      "outputs": [],
      "source": []
    },
    {
      "cell_type": "markdown",
      "id": "138da60d",
      "metadata": {},
      "source": [
        "46. Write a Python program to create a dictionary grouping a sequence of key-value pairs into a dictionary of lists"
      ]
    },
    {
      "cell_type": "code",
      "execution_count": null,
      "id": "11be4027",
      "metadata": {},
      "outputs": [],
      "source": []
    },
    {
      "cell_type": "markdown",
      "id": "bdde666d",
      "metadata": {},
      "source": [
        "47. Write a Python program to split a given dictionary of lists into lists of dictionaries"
      ]
    },
    {
      "cell_type": "code",
      "execution_count": null,
      "id": "f681d7c1",
      "metadata": {},
      "outputs": [],
      "source": []
    },
    {
      "cell_type": "markdown",
      "id": "9e129896",
      "metadata": {},
      "source": [
        "48. Write a Python program to remove a specified dictionary from a given list"
      ]
    },
    {
      "cell_type": "code",
      "execution_count": null,
      "id": "d9d731ce",
      "metadata": {},
      "outputs": [],
      "source": []
    },
    {
      "cell_type": "markdown",
      "id": "32d89a2d",
      "metadata": {},
      "source": [
        "49. Write a Python program to convert string values of a given dictionary into integer/float datatypes"
      ]
    },
    {
      "cell_type": "code",
      "execution_count": null,
      "id": "ff791de3",
      "metadata": {},
      "outputs": [],
      "source": []
    },
    {
      "cell_type": "markdown",
      "id": "4a493579",
      "metadata": {},
      "source": [
        "50. A Python dictionary contains List as a value"
      ]
    },
    {
      "cell_type": "code",
      "execution_count": null,
      "id": "508c90f2",
      "metadata": {},
      "outputs": [],
      "source": []
    },
    {
      "cell_type": "markdown",
      "id": "2d978ebb",
      "metadata": {},
      "source": [
        "51. A Python Dictionary contains List as a value"
      ]
    },
    {
      "cell_type": "code",
      "execution_count": null,
      "id": "b9173302",
      "metadata": {},
      "outputs": [],
      "source": []
    },
    {
      "cell_type": "markdown",
      "id": "22eae1fd",
      "metadata": {},
      "source": [
        "52. Write a Python program to extract a list of values from a given list of dictionaries"
      ]
    },
    {
      "cell_type": "code",
      "execution_count": null,
      "id": "085d72ea",
      "metadata": {},
      "outputs": [],
      "source": []
    },
    {
      "cell_type": "markdown",
      "id": "1fff4f97",
      "metadata": {},
      "source": [
        "53. Write a Python program to find the length of a dictionary of values"
      ]
    },
    {
      "cell_type": "code",
      "execution_count": null,
      "id": "17d1b9bc",
      "metadata": {},
      "outputs": [],
      "source": []
    },
    {
      "cell_type": "markdown",
      "id": "6294b542",
      "metadata": {},
      "source": [
        "54. Write a Python program to get the depth of a dictionary"
      ]
    },
    {
      "cell_type": "code",
      "execution_count": null,
      "id": "27cadff2",
      "metadata": {},
      "outputs": [],
      "source": []
    },
    {
      "cell_type": "markdown",
      "id": "57306a4e",
      "metadata": {},
      "source": [
        "55. Write a Python program to access dictionary key's element by index"
      ]
    },
    {
      "cell_type": "code",
      "execution_count": null,
      "id": "7794efe3",
      "metadata": {},
      "outputs": [],
      "source": []
    },
    {
      "cell_type": "markdown",
      "id": "60597f47",
      "metadata": {},
      "source": [
        "56. Write a Python program to convert a dictionary into a list of lists"
      ]
    },
    {
      "cell_type": "code",
      "execution_count": null,
      "id": "6aeed8e1",
      "metadata": {},
      "outputs": [],
      "source": []
    },
    {
      "cell_type": "markdown",
      "id": "752040c8",
      "metadata": {},
      "source": [
        "57. Write a Python program to filter even numbers from a dictionary of values"
      ]
    },
    {
      "cell_type": "code",
      "execution_count": null,
      "id": "f115fcd5",
      "metadata": {},
      "outputs": [],
      "source": []
    },
    {
      "cell_type": "markdown",
      "id": "462e5595",
      "metadata": {},
      "source": [
        "58. Write a Python program to get all combinations of key-value pairs in a given dictionary"
      ]
    },
    {
      "cell_type": "code",
      "execution_count": null,
      "id": "0f2abfba",
      "metadata": {},
      "outputs": [],
      "source": []
    },
    {
      "cell_type": "markdown",
      "id": "20d03443",
      "metadata": {},
      "source": [
        "59. Write a Python program to find the specified number of maximum values in a given dictionary"
      ]
    },
    {
      "cell_type": "code",
      "execution_count": null,
      "id": "230d4c24",
      "metadata": {},
      "outputs": [],
      "source": []
    },
    {
      "cell_type": "markdown",
      "id": "3e887457",
      "metadata": {},
      "source": [
        "60. Write a Python program to find the shortest list of values for the keys in a given dictionary"
      ]
    },
    {
      "cell_type": "code",
      "execution_count": null,
      "id": "678d1805",
      "metadata": {},
      "outputs": [],
      "source": []
    },
    {
      "cell_type": "markdown",
      "id": "123399cb",
      "metadata": {},
      "source": [
        "61. Write a Python program to count the frequency of a dictionary"
      ]
    },
    {
      "cell_type": "code",
      "execution_count": null,
      "id": "d2d82744",
      "metadata": {},
      "outputs": [],
      "source": []
    },
    {
      "cell_type": "markdown",
      "id": "04a3938a",
      "metadata": {},
      "source": [
        "62. Write a Python program to extract values from a given dictionary and create a list of lists from those values"
      ]
    },
    {
      "cell_type": "code",
      "execution_count": null,
      "id": "d1e4f0dc",
      "metadata": {},
      "outputs": [],
      "source": []
    },
    {
      "cell_type": "markdown",
      "id": "4540b3a0",
      "metadata": {},
      "source": [
        "63. Write a Python program to convert a given list of lists to a dictionary"
      ]
    },
    {
      "cell_type": "code",
      "execution_count": null,
      "id": "169cb9b0",
      "metadata": {},
      "outputs": [],
      "source": []
    },
    {
      "cell_type": "markdown",
      "id": "114c87a8",
      "metadata": {},
      "source": [
        "64. Write a Python program that creates key-value list pairings within a dictionary"
      ]
    },
    {
      "cell_type": "code",
      "execution_count": null,
      "id": "bfbb61d8",
      "metadata": {},
      "outputs": [],
      "source": []
    },
    {
      "cell_type": "markdown",
      "id": "648516b8",
      "metadata": {},
      "source": [
        "65. Write a Python program to get the total length of all values in a given dictionary with string values"
      ]
    },
    {
      "cell_type": "code",
      "execution_count": null,
      "id": "497eb920",
      "metadata": {},
      "outputs": [],
      "source": []
    },
    {
      "cell_type": "markdown",
      "id": "3da29a1b",
      "metadata": {},
      "source": [
        "66. Write a Python program to check if a specific key and a value exist in a dictionary"
      ]
    },
    {
      "cell_type": "code",
      "execution_count": null,
      "id": "981cc912",
      "metadata": {},
      "outputs": [],
      "source": []
    },
    {
      "cell_type": "markdown",
      "id": "5cd84966",
      "metadata": {},
      "source": [
        "67. Write a Python program to invert a given dictionary with non-unique hashable values"
      ]
    },
    {
      "cell_type": "code",
      "execution_count": null,
      "id": "25982295",
      "metadata": {},
      "outputs": [],
      "source": []
    },
    {
      "cell_type": "markdown",
      "id": "84662136",
      "metadata": {},
      "source": [
        "68. Write a Python program to combine two or more dictionaries, creating a list of values for each key"
      ]
    },
    {
      "cell_type": "code",
      "execution_count": null,
      "id": "13361af5",
      "metadata": {},
      "outputs": [],
      "source": []
    },
    {
      "cell_type": "markdown",
      "id": "c28009a7",
      "metadata": {},
      "source": [
        "69. Write a Python program to group the elements of a given list based on the given function"
      ]
    },
    {
      "cell_type": "code",
      "execution_count": null,
      "id": "8637849b",
      "metadata": {},
      "outputs": [],
      "source": []
    },
    {
      "cell_type": "markdown",
      "id": "af770256",
      "metadata": {},
      "source": [
        "70. Write a Python program to map the values of a given list to a dictionary using a function, where the key-value pairs consist of the original value as the key and the result of the function as the value"
      ]
    },
    {
      "cell_type": "code",
      "execution_count": null,
      "id": "44176d88",
      "metadata": {},
      "outputs": [],
      "source": []
    },
    {
      "cell_type": "markdown",
      "id": "3d184ef1",
      "metadata": {},
      "source": [
        "71. Write a Python program to retrieve the value of the nested key indicated by the given selector list from a dictionary or list"
      ]
    },
    {
      "cell_type": "code",
      "execution_count": null,
      "id": "7c1997d7",
      "metadata": {},
      "outputs": [],
      "source": []
    },
    {
      "cell_type": "markdown",
      "id": "ade6aa7c",
      "metadata": {},
      "source": [
        "72. Write a Python program to invert a dictionary with unique hashable values"
      ]
    },
    {
      "cell_type": "code",
      "execution_count": null,
      "id": "50539749",
      "metadata": {},
      "outputs": [],
      "source": []
    },
    {
      "cell_type": "markdown",
      "id": "6ac75919",
      "metadata": {},
      "source": [
        "73. Write a Python program to convert a list of dictionaries into a list of values corresponding to the specified key"
      ]
    },
    {
      "cell_type": "code",
      "execution_count": null,
      "id": "bda4c829",
      "metadata": {},
      "outputs": [],
      "source": []
    },
    {
      "cell_type": "markdown",
      "id": "c360b3d9",
      "metadata": {},
      "source": [
        "74. Write a Python program to create a dictionary with the same keys as the given dictionary and values generated by running the given function for each value"
      ]
    },
    {
      "cell_type": "code",
      "execution_count": null,
      "id": "5ccb50b1",
      "metadata": {},
      "outputs": [],
      "source": []
    },
    {
      "cell_type": "markdown",
      "id": "a367ca75",
      "metadata": {},
      "source": [
        "75. Write a Python program to find all keys in a dictionary that have the given value"
      ]
    },
    {
      "cell_type": "code",
      "execution_count": null,
      "id": "593e044b",
      "metadata": {},
      "outputs": [],
      "source": []
    },
    {
      "cell_type": "markdown",
      "id": "11ec2b78",
      "metadata": {},
      "source": [
        "76. Write a Python program to combine two lists into a dictionary"
      ]
    },
    {
      "cell_type": "code",
      "execution_count": null,
      "id": "c466fa9c",
      "metadata": {},
      "outputs": [],
      "source": []
    },
    {
      "cell_type": "markdown",
      "id": "1c4f5e5f",
      "metadata": {},
      "source": [
        "77. Write a Python program to transform a dictionary into a list of tuples"
      ]
    },
    {
      "cell_type": "code",
      "execution_count": null,
      "id": "e2c28c5e",
      "metadata": {},
      "outputs": [],
      "source": []
    },
    {
      "cell_type": "markdown",
      "id": "341e8c44",
      "metadata": {},
      "source": [
        "78. Write a Python program to create a flat list of all the keys in a flat dictionary"
      ]
    },
    {
      "cell_type": "code",
      "execution_count": null,
      "id": "aa88fc32",
      "metadata": {},
      "outputs": [],
      "source": []
    },
    {
      "cell_type": "markdown",
      "id": "2952a3de",
      "metadata": {},
      "source": [
        "79. Write a Python program to create a flat list of all the values in a flat dictionary"
      ]
    },
    {
      "cell_type": "code",
      "execution_count": null,
      "id": "62ef0b4e",
      "metadata": {},
      "outputs": [],
      "source": []
    },
    {
      "cell_type": "markdown",
      "id": "47e77661",
      "metadata": {},
      "source": [
        "80. Write a Python program to find the key of the maximum value in a dictionary"
      ]
    },
    {
      "cell_type": "code",
      "execution_count": null,
      "id": "ef106f5e",
      "metadata": {},
      "outputs": [],
      "source": []
    }
  ],
  "metadata": {
    "language_info": {
      "name": "python"
    }
  },
  "nbformat": 4,
  "nbformat_minor": 5
}