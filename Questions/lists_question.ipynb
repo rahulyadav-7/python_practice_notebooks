{
  "cells": [
    {
      "cell_type": "markdown",
      "id": "bc278c46",
      "metadata": {},
      "source": [
        "1.Write a Python program to sum all the items in a list."
      ]
    },
    {
      "cell_type": "code",
      "execution_count": null,
      "id": "2e403003",
      "metadata": {},
      "outputs": [],
      "source": []
    },
    {
      "cell_type": "markdown",
      "id": "6f51a7e8",
      "metadata": {},
      "source": [
        "2.Write a Python program to multiply all the items in a list."
      ]
    },
    {
      "cell_type": "code",
      "execution_count": null,
      "id": "1802d44e",
      "metadata": {},
      "outputs": [],
      "source": []
    },
    {
      "cell_type": "markdown",
      "id": "c2d61e02",
      "metadata": {},
      "source": [
        "3.Write a Python program to get the largest number from a list."
      ]
    },
    {
      "cell_type": "code",
      "execution_count": null,
      "id": "b026b67a",
      "metadata": {},
      "outputs": [],
      "source": []
    },
    {
      "cell_type": "markdown",
      "id": "83dd214c",
      "metadata": {},
      "source": [
        "4.Write a Python program to get the smallest number from a list."
      ]
    },
    {
      "cell_type": "code",
      "execution_count": null,
      "id": "a6f8e189",
      "metadata": {},
      "outputs": [],
      "source": []
    },
    {
      "cell_type": "markdown",
      "id": "4db2a08f",
      "metadata": {},
      "source": [
        "5.Write a Python program to count the number of strings from a given list of strings.The string length is 2 or more and the first and last characters are the same.Sample List : ['abc', 'xyz', 'aba', '1221']Expected Result : 2"
      ]
    },
    {
      "cell_type": "code",
      "execution_count": null,
      "id": "8cc28d8c",
      "metadata": {},
      "outputs": [],
      "source": []
    },
    {
      "cell_type": "markdown",
      "id": "f2b4c38a",
      "metadata": {},
      "source": [
        "6.Write a Python program to get a list, sorted in increasing order by the last element in each tuple from a given list of non-empty tuples.Sample List : [(2, 5), (1, 2), (4, 4), (2, 3), (2, 1)]Expected Result : [(2, 1), (1, 2), (2, 3), (4, 4), (2, 5)]"
      ]
    },
    {
      "cell_type": "code",
      "execution_count": null,
      "id": "8fec6570",
      "metadata": {},
      "outputs": [],
      "source": []
    },
    {
      "cell_type": "markdown",
      "id": "27b5a20d",
      "metadata": {},
      "source": [
        "7. Write a Python program to remove duplicates from a list."
      ]
    },
    {
      "cell_type": "code",
      "execution_count": null,
      "id": "fdb00121",
      "metadata": {},
      "outputs": [],
      "source": []
    },
    {
      "cell_type": "markdown",
      "id": "46b3d2f5",
      "metadata": {},
      "source": [
        "8. Write a Python program to check if a list is empty or not."
      ]
    },
    {
      "cell_type": "code",
      "execution_count": null,
      "id": "5f48df58",
      "metadata": {},
      "outputs": [],
      "source": []
    },
    {
      "cell_type": "markdown",
      "id": "e33c4c37",
      "metadata": {},
      "source": [
        "9. Write a Python program to clone or copy a list."
      ]
    },
    {
      "cell_type": "code",
      "execution_count": null,
      "id": "dd36e16d",
      "metadata": {},
      "outputs": [],
      "source": []
    },
    {
      "cell_type": "markdown",
      "id": "252120d1",
      "metadata": {},
      "source": [
        "10. Write a Python program to find the list of words that are longer than n from a given list of words."
      ]
    },
    {
      "cell_type": "code",
      "execution_count": null,
      "id": "95c5be0c",
      "metadata": {},
      "outputs": [],
      "source": []
    },
    {
      "cell_type": "markdown",
      "id": "cf6e0f00",
      "metadata": {},
      "source": [
        "11. Write a Python function that takes two lists and returns True if they have at least one common member."
      ]
    },
    {
      "cell_type": "code",
      "execution_count": null,
      "id": "ab1352bb",
      "metadata": {},
      "outputs": [],
      "source": []
    },
    {
      "cell_type": "markdown",
      "id": "04873b27",
      "metadata": {},
      "source": [
        "12. Write a Python program to print a specified list after removing the 0th, 4th and 5th elements.Sample List : ['Red', 'Green', 'White', 'Black', 'Pink', 'Yellow']Expected Output : ['Green', 'White', 'Black']"
      ]
    },
    {
      "cell_type": "code",
      "execution_count": null,
      "id": "d0feacc8",
      "metadata": {},
      "outputs": [],
      "source": []
    },
    {
      "cell_type": "markdown",
      "id": "e9b1fd51",
      "metadata": {},
      "source": [
        "13. Write a Python program to generate a 3*4*6 3D array whose each element is *."
      ]
    },
    {
      "cell_type": "code",
      "execution_count": null,
      "id": "aed17f8c",
      "metadata": {},
      "outputs": [],
      "source": []
    },
    {
      "cell_type": "markdown",
      "id": "b1ce579d",
      "metadata": {},
      "source": [
        "14. Write a Python program to print the numbers of a specified list after removing even numbers from it."
      ]
    },
    {
      "cell_type": "code",
      "execution_count": null,
      "id": "2145cfe8",
      "metadata": {},
      "outputs": [],
      "source": []
    },
    {
      "cell_type": "markdown",
      "id": "f0aec453",
      "metadata": {},
      "source": [
        "15. Write a Python program to shuffle and print a specified list."
      ]
    },
    {
      "cell_type": "code",
      "execution_count": null,
      "id": "5107a3ea",
      "metadata": {},
      "outputs": [],
      "source": []
    },
    {
      "cell_type": "markdown",
      "id": "94ce28ba",
      "metadata": {},
      "source": [
        "16. Write a Python program to generate and print a list of the first and last 5 elements where the values are square numbers between 1 and 30 (both included)."
      ]
    },
    {
      "cell_type": "code",
      "execution_count": null,
      "id": "ffe32184",
      "metadata": {},
      "outputs": [],
      "source": []
    },
    {
      "cell_type": "markdown",
      "id": "7556779c",
      "metadata": {},
      "source": [
        "17.Write a Python program to check if each number is prime in a given list of numbers.Return True if all numbers are prime otherwise False.Sample Data:([0, 3, 4, 7, 9]) -> False([3, 5, 7, 13]) -> True([1, 5, 3]) -> False"
      ]
    },
    {
      "cell_type": "code",
      "execution_count": null,
      "id": "1703611d",
      "metadata": {},
      "outputs": [],
      "source": []
    },
    {
      "cell_type": "markdown",
      "id": "10169dfe",
      "metadata": {},
      "source": [
        "18. Write a Python program to generate all permutations of a list in Python."
      ]
    },
    {
      "cell_type": "code",
      "execution_count": null,
      "id": "2a5cb050",
      "metadata": {},
      "outputs": [],
      "source": []
    },
    {
      "cell_type": "markdown",
      "id": "c953ae47",
      "metadata": {},
      "source": [
        "19. Write a Python program to calculate the difference between the two lists."
      ]
    },
    {
      "cell_type": "code",
      "execution_count": null,
      "id": "b8ab7b60",
      "metadata": {},
      "outputs": [],
      "source": []
    },
    {
      "cell_type": "markdown",
      "id": "e4de984c",
      "metadata": {},
      "source": [
        "20. Write a Python program to access the index of a list."
      ]
    },
    {
      "cell_type": "code",
      "execution_count": null,
      "id": "5e11b878",
      "metadata": {},
      "outputs": [],
      "source": []
    },
    {
      "cell_type": "markdown",
      "id": "06cdd9ed",
      "metadata": {},
      "source": [
        "21. Write a Python program to convert a list of characters into a string."
      ]
    },
    {
      "cell_type": "code",
      "execution_count": null,
      "id": "c0dfc980",
      "metadata": {},
      "outputs": [],
      "source": []
    },
    {
      "cell_type": "markdown",
      "id": "4d55e447",
      "metadata": {},
      "source": [
        "22. Write a Python program to find the index of an item in a specified list."
      ]
    },
    {
      "cell_type": "code",
      "execution_count": null,
      "id": "3ec8333c",
      "metadata": {},
      "outputs": [],
      "source": []
    },
    {
      "cell_type": "markdown",
      "id": "da7bca91",
      "metadata": {},
      "source": [
        "23. Write a Python program to flatten a shallow list."
      ]
    },
    {
      "cell_type": "code",
      "execution_count": null,
      "id": "59993a93",
      "metadata": {},
      "outputs": [],
      "source": []
    },
    {
      "cell_type": "markdown",
      "id": "ca785611",
      "metadata": {},
      "source": [
        "24. Write a Python program to append a list to the second list."
      ]
    },
    {
      "cell_type": "code",
      "execution_count": null,
      "id": "93784624",
      "metadata": {},
      "outputs": [],
      "source": []
    },
    {
      "cell_type": "markdown",
      "id": "15000c65",
      "metadata": {},
      "source": [
        "25. Write a Python program to select an item randomly from a list."
      ]
    },
    {
      "cell_type": "code",
      "execution_count": null,
      "id": "59368b9e",
      "metadata": {},
      "outputs": [],
      "source": []
    },
    {
      "cell_type": "markdown",
      "id": "bf6a79a0",
      "metadata": {},
      "source": [
        "26. Write a Python program to check whether two lists are circularly identical."
      ]
    },
    {
      "cell_type": "code",
      "execution_count": null,
      "id": "bb162cf7",
      "metadata": {},
      "outputs": [],
      "source": []
    },
    {
      "cell_type": "markdown",
      "id": "841b70d4",
      "metadata": {},
      "source": [
        "27. Write a Python program to find the second smallest number in a list."
      ]
    },
    {
      "cell_type": "code",
      "execution_count": null,
      "id": "5cf92db3",
      "metadata": {},
      "outputs": [],
      "source": []
    },
    {
      "cell_type": "markdown",
      "id": "0dbb555e",
      "metadata": {},
      "source": [
        "28. Write a Python program to find the second largest number in a list."
      ]
    },
    {
      "cell_type": "code",
      "execution_count": null,
      "id": "d390b185",
      "metadata": {},
      "outputs": [],
      "source": []
    },
    {
      "cell_type": "markdown",
      "id": "9d56e709",
      "metadata": {},
      "source": [
        "29. Write a Python program to get unique values from a list."
      ]
    },
    {
      "cell_type": "code",
      "execution_count": null,
      "id": "ead90142",
      "metadata": {},
      "outputs": [],
      "source": []
    },
    {
      "cell_type": "markdown",
      "id": "e5be8506",
      "metadata": {},
      "source": [
        "30. Write a Python program to get the frequency of elements in a list."
      ]
    },
    {
      "cell_type": "code",
      "execution_count": null,
      "id": "f7dc165e",
      "metadata": {},
      "outputs": [],
      "source": []
    },
    {
      "cell_type": "markdown",
      "id": "c88259c5",
      "metadata": {},
      "source": [
        "31. Write a Python program to count the number of elements in a list within a specified range."
      ]
    },
    {
      "cell_type": "code",
      "execution_count": null,
      "id": "8816ee79",
      "metadata": {},
      "outputs": [],
      "source": []
    },
    {
      "cell_type": "markdown",
      "id": "31a872f6",
      "metadata": {},
      "source": [
        "32. Write a Python program to check whether a list contains a sublist."
      ]
    },
    {
      "cell_type": "code",
      "execution_count": null,
      "id": "10d793cb",
      "metadata": {},
      "outputs": [],
      "source": []
    },
    {
      "cell_type": "markdown",
      "id": "ed17a5eb",
      "metadata": {},
      "source": [
        "33. Write a Python program to generate all sublists of a list."
      ]
    },
    {
      "cell_type": "code",
      "execution_count": null,
      "id": "e70cd962",
      "metadata": {},
      "outputs": [],
      "source": []
    },
    {
      "cell_type": "markdown",
      "id": "bfce1c00",
      "metadata": {},
      "source": [
        "34. Write a Python program that uses the Sieve of Eratosthenes method to compute prime numbers up to a specified number.Note: In mathematics, the sieve of Eratosthenes, (Ancient Greek: \u03ba\u03cc\u03c3\u03ba\u03b9\u03bd\u03bf\u03bd \u1f18\u03c1\u03b1\u03c4\u03bf\u03c3\u03b8\u03ad\u03bd\u03bf\u03c5\u03c2, k\u00f3skinon Eratosth\u00e9nous) one of a number of prime number sieves, is a simple, ancient algorithm for finding all prime numbers up to any given limit."
      ]
    },
    {
      "cell_type": "code",
      "execution_count": null,
      "id": "0552cb2f",
      "metadata": {},
      "outputs": [],
      "source": []
    },
    {
      "cell_type": "markdown",
      "id": "595ac1d4",
      "metadata": {},
      "source": [
        "35. Write a Python program to create a list by concatenating a given list with a range from 1 to n.Sample list : ['p', 'q']n =5Sample Output : ['p1', 'q1', 'p2', 'q2', 'p3', 'q3', 'p4', 'q4', 'p5', 'q5']"
      ]
    },
    {
      "cell_type": "code",
      "execution_count": null,
      "id": "0e896df4",
      "metadata": {},
      "outputs": [],
      "source": []
    },
    {
      "cell_type": "markdown",
      "id": "75b9da9f",
      "metadata": {},
      "source": [
        "36. Write a Python program to get a variable with an identification number or string."
      ]
    },
    {
      "cell_type": "code",
      "execution_count": null,
      "id": "a1cb7df3",
      "metadata": {},
      "outputs": [],
      "source": []
    },
    {
      "cell_type": "markdown",
      "id": "a51e86c1",
      "metadata": {},
      "source": [
        "37. Write a Python program to find common items in two lists."
      ]
    },
    {
      "cell_type": "code",
      "execution_count": null,
      "id": "5bfe492d",
      "metadata": {},
      "outputs": [],
      "source": []
    },
    {
      "cell_type": "markdown",
      "id": "f64651a3",
      "metadata": {},
      "source": [
        "38. Write a Python program to change the position of every n-th value to the (n+1)th in a list.Sample list: [0,1,2,3,4,5]Expected Output: [1, 0, 3, 2, 5, 4]"
      ]
    },
    {
      "cell_type": "code",
      "execution_count": null,
      "id": "dcb409a0",
      "metadata": {},
      "outputs": [],
      "source": []
    },
    {
      "cell_type": "markdown",
      "id": "e74f71d8",
      "metadata": {},
      "source": [
        "39. Write a Python program to convert a list of multiple integers into a single integer.Sample list: [11, 33, 50]Expected Output: 113350"
      ]
    },
    {
      "cell_type": "code",
      "execution_count": null,
      "id": "7446e3e1",
      "metadata": {},
      "outputs": [],
      "source": []
    },
    {
      "cell_type": "markdown",
      "id": "f73f740e",
      "metadata": {},
      "source": [
        "40. Write a Python program to split a list based on the first character of a word."
      ]
    },
    {
      "cell_type": "code",
      "execution_count": null,
      "id": "16864f6a",
      "metadata": {},
      "outputs": [],
      "source": []
    },
    {
      "cell_type": "markdown",
      "id": "702cf002",
      "metadata": {},
      "source": [
        "41. Write a Python program to create multiple lists."
      ]
    },
    {
      "cell_type": "code",
      "execution_count": null,
      "id": "e762e94a",
      "metadata": {},
      "outputs": [],
      "source": []
    },
    {
      "cell_type": "markdown",
      "id": "4f8c7fbb",
      "metadata": {},
      "source": [
        "42.Write a Python program to find missing and additional values in two lists.Sample data : Missing values in second list: b,a,cAdditional values in second list: g,h"
      ]
    },
    {
      "cell_type": "code",
      "execution_count": null,
      "id": "c188c786",
      "metadata": {},
      "outputs": [],
      "source": []
    },
    {
      "cell_type": "markdown",
      "id": "0c8a9ccf",
      "metadata": {},
      "source": [
        "43.Write a Python program to split a list into different variables."
      ]
    },
    {
      "cell_type": "code",
      "execution_count": null,
      "id": "5aee402d",
      "metadata": {},
      "outputs": [],
      "source": []
    },
    {
      "cell_type": "markdown",
      "id": "a95ebf35",
      "metadata": {},
      "source": [
        "44.Write a Python program to generate groups of five consecutive numbers in a list."
      ]
    },
    {
      "cell_type": "code",
      "execution_count": null,
      "id": "1358cc1f",
      "metadata": {},
      "outputs": [],
      "source": []
    },
    {
      "cell_type": "markdown",
      "id": "bd06e3ec",
      "metadata": {},
      "source": [
        "45.Write a Python program to convert a pair of values into a sorted unique array."
      ]
    },
    {
      "cell_type": "code",
      "execution_count": null,
      "id": "35e88bf6",
      "metadata": {},
      "outputs": [],
      "source": []
    },
    {
      "cell_type": "markdown",
      "id": "b76aded3",
      "metadata": {},
      "source": [
        "46.Write a Python program to select the odd items from a list."
      ]
    },
    {
      "cell_type": "code",
      "execution_count": null,
      "id": "b1b2a39c",
      "metadata": {},
      "outputs": [],
      "source": []
    },
    {
      "cell_type": "markdown",
      "id": "f84b0d1b",
      "metadata": {},
      "source": [
        "47.Write a Python program to insert an element before each element of a list."
      ]
    },
    {
      "cell_type": "code",
      "execution_count": null,
      "id": "49179cb2",
      "metadata": {},
      "outputs": [],
      "source": []
    },
    {
      "cell_type": "markdown",
      "id": "5061de6c",
      "metadata": {},
      "source": [
        "48.Write a Python program to print nested lists (each list on a new line) using the print() function."
      ]
    },
    {
      "cell_type": "code",
      "execution_count": null,
      "id": "f77f66f5",
      "metadata": {},
      "outputs": [],
      "source": []
    },
    {
      "cell_type": "markdown",
      "id": "04ab8bc7",
      "metadata": {},
      "source": [
        "49.Write a Python program to convert a list to a list of dictionaries.Sample lists: [\"Black\", \"Red\", \"Maroon\", \"Yellow\"], [\"#000000\", \"#FF0000\", \"#800000\", \"#FFFF00\"]Expected Output: [{'color_name': 'Black', 'color_code': '#000000'}, {'color_name': 'Red', 'color_code': '#FF0000'}, {'color_name': 'Maroon', 'color_code': '#800000'}, {'color_name': 'Yellow', 'color_code': '#FFFF00'}]"
      ]
    },
    {
      "cell_type": "code",
      "execution_count": null,
      "id": "d9f07c6d",
      "metadata": {},
      "outputs": [],
      "source": []
    },
    {
      "cell_type": "markdown",
      "id": "8594f488",
      "metadata": {},
      "source": [
        "50.Write a Python program to sort a list of nested dictionaries."
      ]
    },
    {
      "cell_type": "code",
      "execution_count": null,
      "id": "d39f2f1d",
      "metadata": {},
      "outputs": [],
      "source": []
    },
    {
      "cell_type": "markdown",
      "id": "41352b0c",
      "metadata": {},
      "source": [
        "51.Write a Python program to split a list every Nth element.Sample list: ['a', 'b', 'c', 'd', 'e', 'f', 'g', 'h', 'i', 'j', 'k', 'l', 'm', 'n']Expected Output: [['a', 'd', 'g', 'j', 'm'], ['b', 'e', 'h', 'k', 'n'], ['c', 'f', 'i', 'l']]"
      ]
    },
    {
      "cell_type": "code",
      "execution_count": null,
      "id": "d73c28e9",
      "metadata": {},
      "outputs": [],
      "source": []
    },
    {
      "cell_type": "markdown",
      "id": "3fc3f2e5",
      "metadata": {},
      "source": [
        "52.Write a Python program to compute the difference between two lists.Sample data: [\"red\", \"orange\", \"green\", \"blue\", \"white\"], [\"black\", \"yellow\", \"green\", \"blue\"]Expected Output: Color1-Color2: ['white', 'orange', 'red']Color2-Color1: ['black', 'yellow']"
      ]
    },
    {
      "cell_type": "code",
      "execution_count": null,
      "id": "bb716e20",
      "metadata": {},
      "outputs": [],
      "source": []
    },
    {
      "cell_type": "markdown",
      "id": "36a3b606",
      "metadata": {},
      "source": [
        "53.Write a Python program to create a list with infinite elements."
      ]
    },
    {
      "cell_type": "code",
      "execution_count": null,
      "id": "359180ef",
      "metadata": {},
      "outputs": [],
      "source": []
    },
    {
      "cell_type": "markdown",
      "id": "62196982",
      "metadata": {},
      "source": [
        "54.Write a Python program to concatenate elements of a list."
      ]
    },
    {
      "cell_type": "code",
      "execution_count": null,
      "id": "50436315",
      "metadata": {},
      "outputs": [],
      "source": []
    },
    {
      "cell_type": "markdown",
      "id": "0838f1c6",
      "metadata": {},
      "source": [
        "55.Write a Python program to remove key-value pairs from a list of dictionaries."
      ]
    },
    {
      "cell_type": "code",
      "execution_count": null,
      "id": "83c9480d",
      "metadata": {},
      "outputs": [],
      "source": []
    },
    {
      "cell_type": "markdown",
      "id": "0adef928",
      "metadata": {},
      "source": [
        "56.Write a Python program to convert a string to a list."
      ]
    },
    {
      "cell_type": "code",
      "execution_count": null,
      "id": "96f62734",
      "metadata": {},
      "outputs": [],
      "source": []
    },
    {
      "cell_type": "markdown",
      "id": "3fdf9163",
      "metadata": {},
      "source": [
        "57.Write a Python program to check if all items in a given list of strings are equal to a given string."
      ]
    },
    {
      "cell_type": "code",
      "execution_count": null,
      "id": "535a3c0a",
      "metadata": {},
      "outputs": [],
      "source": []
    },
    {
      "cell_type": "markdown",
      "id": "44df8b7e",
      "metadata": {},
      "source": [
        "58.Write a Python program to replace the last element in a list with another list.Sample data : [1, 3, 5, 7, 9, 10], [2, 4, 6, 8]Expected Output: [1, 3, 5, 7, 9, 2, 4, 6, 8]"
      ]
    },
    {
      "cell_type": "code",
      "execution_count": null,
      "id": "c354ef30",
      "metadata": {},
      "outputs": [],
      "source": []
    },
    {
      "cell_type": "markdown",
      "id": "853f458f",
      "metadata": {},
      "source": [
        "59.Write a Python program to check whether the n-th element exists in a given list."
      ]
    },
    {
      "cell_type": "code",
      "execution_count": null,
      "id": "ad021693",
      "metadata": {},
      "outputs": [],
      "source": []
    },
    {
      "cell_type": "markdown",
      "id": "106500ce",
      "metadata": {},
      "source": [
        "60.Write a Python program to find a tuple, the smallest second index value from a list of tuples."
      ]
    },
    {
      "cell_type": "code",
      "execution_count": null,
      "id": "485be01a",
      "metadata": {},
      "outputs": [],
      "source": []
    },
    {
      "cell_type": "markdown",
      "id": "d479527c",
      "metadata": {},
      "source": [
        "61.Write a Python program to create a list of empty dictionaries."
      ]
    },
    {
      "cell_type": "code",
      "execution_count": null,
      "id": "5e803823",
      "metadata": {},
      "outputs": [],
      "source": []
    },
    {
      "cell_type": "markdown",
      "id": "aed99229",
      "metadata": {},
      "source": [
        "62.Write a Python program to print a list of space-separated elements."
      ]
    },
    {
      "cell_type": "code",
      "execution_count": null,
      "id": "785b96eb",
      "metadata": {},
      "outputs": [],
      "source": []
    },
    {
      "cell_type": "markdown",
      "id": "d278744a",
      "metadata": {},
      "source": [
        "63.Write a Python program to insert a given string at the beginning of all items in a list.Sample list : [1,2,3,4], string : empExpected output : ['emp1', 'emp2', 'emp3', 'emp4']"
      ]
    },
    {
      "cell_type": "code",
      "execution_count": null,
      "id": "0537ddb4",
      "metadata": {},
      "outputs": [],
      "source": []
    },
    {
      "cell_type": "markdown",
      "id": "353b7ab6",
      "metadata": {},
      "source": [
        "64.Write a Python program to iterate over two lists simultaneously."
      ]
    },
    {
      "cell_type": "code",
      "execution_count": null,
      "id": "d0ac1643",
      "metadata": {},
      "outputs": [],
      "source": []
    },
    {
      "cell_type": "markdown",
      "id": "b407ee80",
      "metadata": {},
      "source": [
        "65.Write a Python program to move all zero digits to the end of a given list of numbers.Expected output:Original list:[3, 4, 0, 0, 0, 6, 2, 0, 6, 7, 6, 0, 0, 0, 9, 10, 7, 4, 4, 5, 3, 0, 0, 2, 9, 7, 1]Move all zero digits to end of the said list of numbers:[3, 4, 6, 2, 6, 7, 6, 9, 10, 7, 4, 4, 5, 3, 2, 9, 7, 1, 0, 0, 0, 0, 0, 0, 0, 0, 0]"
      ]
    },
    {
      "cell_type": "code",
      "execution_count": null,
      "id": "63ce1ab6",
      "metadata": {},
      "outputs": [],
      "source": []
    },
    {
      "cell_type": "markdown",
      "id": "d725bdbe",
      "metadata": {},
      "source": [
        "66.Write a Python program to find the list in a list of lists whose sum of elements is the highest.Sample lists: [1,2,3], [4,5,6], [10,11,12], [7,8,9]Expected Output: [10, 11, 12]"
      ]
    },
    {
      "cell_type": "code",
      "execution_count": null,
      "id": "01c69893",
      "metadata": {},
      "outputs": [],
      "source": []
    },
    {
      "cell_type": "markdown",
      "id": "8b718fda",
      "metadata": {},
      "source": [
        "67.Write a Python program to find all the values in a list that are greater than a specified number."
      ]
    },
    {
      "cell_type": "code",
      "execution_count": null,
      "id": "28829210",
      "metadata": {},
      "outputs": [],
      "source": []
    },
    {
      "cell_type": "markdown",
      "id": "12fe2a17",
      "metadata": {},
      "source": [
        "68.Write a Python program to extend a list without appending.Sample data: [10, 20, 30][40, 50, 60]Expected output : [40, 50, 60, 10, 20, 30]"
      ]
    },
    {
      "cell_type": "code",
      "execution_count": null,
      "id": "c18d7f3d",
      "metadata": {},
      "outputs": [],
      "source": []
    },
    {
      "cell_type": "markdown",
      "id": "5809b1e2",
      "metadata": {},
      "source": [
        "69.Write a Python program to remove duplicates from a list of lists.Sample list : [[10, 20], [40], [30, 56, 25], [10, 20], [33], [40]]New List : [[10, 20], [30, 56, 25], [33], [40]]"
      ]
    },
    {
      "cell_type": "code",
      "execution_count": null,
      "id": "f42f43d1",
      "metadata": {},
      "outputs": [],
      "source": []
    },
    {
      "cell_type": "markdown",
      "id": "81aa45ed",
      "metadata": {},
      "source": [
        "70. Write a Python program to find items starting with a specific character from a list.Expected Output:Original list:['abcd', 'abc', 'bcd', 'bkie', 'cder', 'cdsw', 'sdfsd', 'dagfa', 'acjd']Items start with a from the said list:['abcd', 'abc', 'acjd']Items start with d from the said list:['dagfa']Items start with w from the said list:[]"
      ]
    },
    {
      "cell_type": "code",
      "execution_count": null,
      "id": "278b453e",
      "metadata": {},
      "outputs": [],
      "source": []
    },
    {
      "cell_type": "markdown",
      "id": "8cde7e6d",
      "metadata": {},
      "source": [
        "71.Write a Python program to check whether all dictionaries in a list are empty or not.Sample list : [{},{},{}]Return value : TrueSample list : [{1,2},{},{}]Return value : False"
      ]
    },
    {
      "cell_type": "code",
      "execution_count": null,
      "id": "be90462d",
      "metadata": {},
      "outputs": [],
      "source": []
    },
    {
      "cell_type": "markdown",
      "id": "4acea287",
      "metadata": {},
      "source": [
        "72.Write a Python program to flatten a given nested list structure.Original list:[0, 10, [20, 30], 40, 50, [60, 70, 80], [90, 100, 110, 120]]Flatten list:[0, 10, 20, 30, 40, 50, 60, 70, 80, 90, 100, 110, 120]"
      ]
    },
    {
      "cell_type": "code",
      "execution_count": null,
      "id": "e6bc6b5c",
      "metadata": {},
      "outputs": [],
      "source": []
    },
    {
      "cell_type": "markdown",
      "id": "52e15a45",
      "metadata": {},
      "source": [
        "73.Write a Python program to remove consecutive (following each other continuously) duplicates (elements) from a given list.Original list:[0, 0, 1, 2, 3, 4, 4, 5, 6, 6, 6, 7, 8, 9, 4, 4]After removing consecutive duplicates:[0, 1, 2, 3, 4, 5, 6, 7, 8, 9, 4]"
      ]
    },
    {
      "cell_type": "code",
      "execution_count": null,
      "id": "623672e5",
      "metadata": {},
      "outputs": [],
      "source": []
    },
    {
      "cell_type": "markdown",
      "id": "757c0530",
      "metadata": {},
      "source": [
        "74.Write a Python program to pack consecutive duplicates of a given list of elements into sublists.Original list:[0, 0, 1, 2, 3, 4, 4, 5, 6, 6, 6, 7, 8, 9, 4, 4]After packing consecutive duplicates of the said list elements into sublists:[[0, 0], [1], [2], [3], [4, 4], [5], [6, 6, 6], [7], [8], [9], [4, 4]]"
      ]
    },
    {
      "cell_type": "code",
      "execution_count": null,
      "id": "eeb3bd87",
      "metadata": {},
      "outputs": [],
      "source": []
    },
    {
      "cell_type": "markdown",
      "id": "3283b065",
      "metadata": {},
      "source": [
        "75.Write a Python program to create a list reflecting the run-length encoding from a given list of integers or a given list of characters.Original list:[1, 1, 2, 3, 4, 4.3, 5, 1]List reflecting the run-length encoding from the said list:[[2, 1], [1, 2], [1, 3], [1, 4], [1, 4.3], [1, 5], [1, 1]]Original String:automaticallyList reflecting the run-length encoding from the said string:[[1, 'a'], [1, 'u'], [1, 't'], [1, 'o'], [1, 'm'], [1, 'a'], [1, 't'], [1, 'i'], [1, 'c'], [1, 'a'], [2, 'l'], [1, 'y']]"
      ]
    },
    {
      "cell_type": "code",
      "execution_count": null,
      "id": "ddf1098a",
      "metadata": {},
      "outputs": [],
      "source": []
    },
    {
      "cell_type": "markdown",
      "id": "7d8a47c0",
      "metadata": {},
      "source": [
        "76.Write a Python program to create a list reflecting the modified run-length encoding from a given list of integers or a given list of characters.Original list:[1, 1, 2, 3, 4, 4, 5, 1]List reflecting the modified run-length encoding from the said list:[[2, 1], 2, 3, [2, 4], 5, 1]Original String:aabcddddadnssList reflecting the modified run-length encoding from the said string:[[2, 'a'], 'b', 'c', [4, 'd'], 'a', 'd', 'n', [2, 's']]"
      ]
    },
    {
      "cell_type": "code",
      "execution_count": null,
      "id": "ed4ce13c",
      "metadata": {},
      "outputs": [],
      "source": []
    },
    {
      "cell_type": "markdown",
      "id": "e6ffaa88",
      "metadata": {},
      "source": [
        "77.Write a Python program to decode a run-length message.Original encoded list:[[2, 1], 2, 3, [2, 4], 5, 1]Decode a run-length encoded said list:[1, 1, 2, 3, 4, 4, 5, 1]"
      ]
    },
    {
      "cell_type": "code",
      "execution_count": null,
      "id": "bd45cf3e",
      "metadata": {},
      "outputs": [],
      "source": []
    },
    {
      "cell_type": "markdown",
      "id": "ead8b6ec",
      "metadata": {},
      "source": [
        "78.Write a Python program to split a given list into two parts where the length of the first part of the list is given.Original list:[1, 1, 2, 3, 4, 4, 5, 1]Length of the first part of the list: 3Splited the said list into two parts:([1, 1, 2], [3, 4, 4, 5, 1])"
      ]
    },
    {
      "cell_type": "code",
      "execution_count": null,
      "id": "de64b929",
      "metadata": {},
      "outputs": [],
      "source": []
    },
    {
      "cell_type": "markdown",
      "id": "10df7bba",
      "metadata": {},
      "source": [
        "79.Write a Python program to remove the K'th element from a given list, and print the updated list.Original list:[1, 1, 2, 3, 4, 4, 5, 1]After removing an element at the kth position of the said list:[1, 1, 3, 4, 4, 5, 1]"
      ]
    },
    {
      "cell_type": "code",
      "execution_count": null,
      "id": "a82a3a25",
      "metadata": {},
      "outputs": [],
      "source": []
    },
    {
      "cell_type": "markdown",
      "id": "cc00f44e",
      "metadata": {},
      "source": [
        "80.Write a Python program to insert an element at a specified position into a given list.Original list:[1, 1, 2, 3, 4, 4, 5, 1]After inserting an element at kth position in the said list:[1, 1, 12, 2, 3, 4, 4, 5, 1]"
      ]
    },
    {
      "cell_type": "code",
      "execution_count": null,
      "id": "7dad5c62",
      "metadata": {},
      "outputs": [],
      "source": []
    },
    {
      "cell_type": "markdown",
      "id": "3e4ebb18",
      "metadata": {},
      "source": [
        "81.Write a Python program to extract a given number of randomly selected elements from a given list.Original list:[1, 1, 2, 3, 4, 4, 5, 1]Selected 3 random numbers of the above list:[4, 4, 1]"
      ]
    },
    {
      "cell_type": "code",
      "execution_count": null,
      "id": "eaa097e0",
      "metadata": {},
      "outputs": [],
      "source": []
    },
    {
      "cell_type": "markdown",
      "id": "88184965",
      "metadata": {},
      "source": [
        "82.Write a Python program to generate combinations of n distinct objects taken from the elements of a given list.Original list:[1, 2, 3, 4, 5, 6, 7, 8, 9]Combinations of 2 distinct objects:[1, 2][1, 3][1, 4][1, 5]....[7, 8][7, 9][8, 9]"
      ]
    },
    {
      "cell_type": "code",
      "execution_count": null,
      "id": "a63e7cd9",
      "metadata": {},
      "outputs": [],
      "source": []
    },
    {
      "cell_type": "markdown",
      "id": "a4254f1f",
      "metadata": {},
      "source": [
        "83.Write a Python program to round every number in a given list of numbers and print the total sum multiplied by the length of the list.Original list: [22.4, 4.0, -16.22, -9.1, 11.0, -12.22, 14.2, -5.2, 17.5]Result:243"
      ]
    },
    {
      "cell_type": "code",
      "execution_count": null,
      "id": "49ea31c0",
      "metadata": {},
      "outputs": [],
      "source": []
    },
    {
      "cell_type": "markdown",
      "id": "e51967ae",
      "metadata": {},
      "source": [
        "84.Write a Python program to round the numbers in a given list, print the minimum and maximum numbers and multiply the numbers by 5.Print the unique numbers in ascending order separated by space.Original list: [22.4, 4.0, 16.22, 9.1, 11.0, 12.22, 14.2, 5.2, 17.5]Minimum value: 4Maximum value: 22Result:20 25 45 55 60 70 80 90 110"
      ]
    },
    {
      "cell_type": "code",
      "execution_count": null,
      "id": "4f2609a3",
      "metadata": {},
      "outputs": [],
      "source": []
    },
    {
      "cell_type": "markdown",
      "id": "beee214b",
      "metadata": {},
      "source": [
        "85.Write a Python program to create a multidimensional list (lists of lists) with zeros.Multidimensional list:[[0, 0], [0, 0], [0, 0]]"
      ]
    },
    {
      "cell_type": "code",
      "execution_count": null,
      "id": "325bb491",
      "metadata": {},
      "outputs": [],
      "source": []
    },
    {
      "cell_type": "markdown",
      "id": "95b35f52",
      "metadata": {},
      "source": [
        "86.Write a Python program to create a 3X3 grid with numbers.3X3 grid with numbers:[[1, 2, 3], [1, 2, 3], [1, 2, 3]]"
      ]
    },
    {
      "cell_type": "code",
      "execution_count": null,
      "id": "17d1533d",
      "metadata": {},
      "outputs": [],
      "source": []
    },
    {
      "cell_type": "markdown",
      "id": "62b30dff",
      "metadata": {},
      "source": [
        "87.Write a Python program to read a matrix from the console and print the sum for each column.As input from the user, accept matrix rows, columns, and elements separated by a space (each row).Input rows: 2Input columns: 2Input number of elements in a row (1, 2, 3):1 23 4sum for each column:4 6"
      ]
    },
    {
      "cell_type": "code",
      "execution_count": null,
      "id": "66422b16",
      "metadata": {},
      "outputs": [],
      "source": []
    },
    {
      "cell_type": "markdown",
      "id": "3ef25d71",
      "metadata": {},
      "source": [
        "88.Write a Python program to read a square matrix from the console and print the sum of the matrix's primary diagonal.Accept the size of the square matrix and elements for each column separated with a space (for every row) as input from the user.Input the size of the matrix: 32 3 44 5 63 4 7Sum of matrix primary diagonal:14"
      ]
    },
    {
      "cell_type": "code",
      "execution_count": null,
      "id": "1633bbd1",
      "metadata": {},
      "outputs": [],
      "source": []
    },
    {
      "cell_type": "markdown",
      "id": "fadee985",
      "metadata": {},
      "source": [
        "89.Write a Python program to Zip two given lists of lists.Original lists:[[1, 3], [5, 7], [9, 11]][[2, 4], [6, 8], [10, 12, 14]]Zipped list:[[1, 3, 2, 4], [5, 7, 6, 8], [9, 11, 10, 12, 14]]"
      ]
    },
    {
      "cell_type": "code",
      "execution_count": null,
      "id": "6a8589aa",
      "metadata": {},
      "outputs": [],
      "source": []
    },
    {
      "cell_type": "markdown",
      "id": "73bf9b85",
      "metadata": {},
      "source": [
        "90.Write a Python program to count the number of lists in a given list of lists.Original list:[[1, 3], [5, 7], [9, 11], [13, 15, 17]]Number of lists in said list of lists:4Original list:[[2, 4], [[6, 8], [4, 5, 8]], [10, 12, 14]]Number of lists in said list of lists:3"
      ]
    },
    {
      "cell_type": "code",
      "execution_count": null,
      "id": "82e11763",
      "metadata": {},
      "outputs": [],
      "source": []
    },
    {
      "cell_type": "markdown",
      "id": "84271efd",
      "metadata": {},
      "source": [
        "91.Write a Python program to find a list with maximum and minimum lengths.Original list:[[0], [1, 3], [5, 7], [9, 11], [13, 15, 17]]List with maximum length of lists:(3, [13, 15, 17])List with minimum length of lists:(1, [0])Original list:[[0], [1, 3], [5, 7], [9, 11], [3, 5, 7]]List with maximum length of lists:(3, [3, 5, 7])List with minimum length of lists:(1, [0])Original list:[[12], [1, 3], [1, 34, 5, 7], [9, 11], [3, 5, 7]]List with maximum length of lists:(4, [1, 34, 5, 7])List with minimum length of lists:(1, [12])"
      ]
    },
    {
      "cell_type": "code",
      "execution_count": null,
      "id": "1472eba9",
      "metadata": {},
      "outputs": [],
      "source": []
    },
    {
      "cell_type": "markdown",
      "id": "0f02222e",
      "metadata": {},
      "source": [
        "92.Write a Python program to check if a nested list is a subset of another nested list.Original list:[[1, 3], [5, 7], [9, 11], [13, 15, 17]][[1, 3], [13, 15, 17]]If the one of the said list is a subset of another.:TrueOriginal list:[[[1, 2], [2, 3]], [[3, 4], [5, 6]]][[[3, 4], [5, 6]]]If the one of the said list is a subset of another.:TrueOriginal list:[[[1, 2], [2, 3]], [[3, 4], [5, 7]]][[[3, 4], [5, 6]]]If the one of the said list is a subset of another.:False"
      ]
    },
    {
      "cell_type": "code",
      "execution_count": null,
      "id": "d56ea3ba",
      "metadata": {},
      "outputs": [],
      "source": []
    },
    {
      "cell_type": "markdown",
      "id": "7a736135",
      "metadata": {},
      "source": [
        "93.Write a Python program to count the number of sublists that contain a particular element.Original list:[[1, 3], [5, 7], [1, 11], [1, 15, 7]]Count 1 in the said list:3Count 7 in the said list:2Original list:[['A', 'B'], ['A', 'C'], ['A', 'D', 'E'], ['B', 'C', 'D']]Count 'A' in the said list:3Count 'E' in the said list:1"
      ]
    },
    {
      "cell_type": "code",
      "execution_count": null,
      "id": "fee40667",
      "metadata": {},
      "outputs": [],
      "source": []
    },
    {
      "cell_type": "markdown",
      "id": "35f3e46a",
      "metadata": {},
      "source": [
        "94.Write a Python program to count the number of unique sublists within a given list.Original list:[[1, 3], [5, 7], [1, 3], [13, 15, 17], [5, 7], [9, 11]]Number of unique lists of the said list:{(1, 3): 2, (5, 7): 2, (13, 15, 17): 1, (9, 11): 1}Original list:[['green', 'orange'], ['black'], ['green', 'orange'], ['white']]Number of unique lists of the said list:{('green', 'orange'): 2, ('black',): 1, ('white',): 1}"
      ]
    },
    {
      "cell_type": "code",
      "execution_count": null,
      "id": "6f5f6010",
      "metadata": {},
      "outputs": [],
      "source": []
    },
    {
      "cell_type": "markdown",
      "id": "6fe28994",
      "metadata": {},
      "source": [
        "95.Write a Python program to sort each sublist of strings in a given list of lists.Original list:[[2], [0], [1, 3], [0, 7], [9, 11], [13, 15, 17]]Sort the list of lists by length and value:[[0], [2], [0, 7], [1, 3], [9, 11], [13, 15, 17]]"
      ]
    },
    {
      "cell_type": "code",
      "execution_count": null,
      "id": "76c14a1b",
      "metadata": {},
      "outputs": [],
      "source": []
    },
    {
      "cell_type": "markdown",
      "id": "5def5999",
      "metadata": {},
      "source": [
        "96.Write a Python program to sort a given list of lists by length and value.Original list:[[2], [0], [1, 3], [0, 7], [9, 11], [13, 15, 17]]Sort the list of lists by length and value:[[0], [2], [0, 7], [1, 3], [9, 11], [13, 15, 17]]"
      ]
    },
    {
      "cell_type": "code",
      "execution_count": null,
      "id": "7c462c4c",
      "metadata": {},
      "outputs": [],
      "source": []
    },
    {
      "cell_type": "markdown",
      "id": "8eada863",
      "metadata": {},
      "source": [
        "97.Write a Python program to remove sublists from a given list of lists that contain an element outside a given range.Original list:[[2], [0], [1, 2, 3], [0, 1, 2, 3, 6, 7], [9, 11], [13, 14, 15, 17]]After removing sublists from a given list of lists, which contains an element outside the given range:[[13, 14, 15, 17]]"
      ]
    },
    {
      "cell_type": "code",
      "execution_count": null,
      "id": "9a91c069",
      "metadata": {},
      "outputs": [],
      "source": []
    },
    {
      "cell_type": "markdown",
      "id": "f1f9f3b5",
      "metadata": {},
      "source": [
        "98.Write a Python program to scramble the letters of a string in a given list.Original list:['Python', 'list', 'exercises', 'practice', 'solution']After scrambling the letters of the strings of the said list:['tnPhyo', 'tlis', 'ecrsseiex', 'ccpitear', 'noiltuos']"
      ]
    },
    {
      "cell_type": "code",
      "execution_count": null,
      "id": "92c363e8",
      "metadata": {},
      "outputs": [],
      "source": []
    },
    {
      "cell_type": "markdown",
      "id": "257e2d62",
      "metadata": {},
      "source": [
        "99.Write a Python program to find the maximum and minimum values in a given heterogeneous list.Original list:['Python', 3, 2, 4, 5, 'version']Maximum and Minimum values in the said list:(5, 2)"
      ]
    },
    {
      "cell_type": "code",
      "execution_count": null,
      "id": "9e624942",
      "metadata": {},
      "outputs": [],
      "source": []
    },
    {
      "cell_type": "markdown",
      "id": "84d6d601",
      "metadata": {},
      "source": [
        "100.Write a Python program to extract common index elements from more than one given list.Original lists:[1, 1, 3, 4, 5, 6, 7][0, 1, 2, 3, 4, 5, 7][0, 1, 2, 3, 4, 5, 7]Common index elements of the said lists:[1, 7]"
      ]
    },
    {
      "cell_type": "code",
      "execution_count": null,
      "id": "ac1ea09f",
      "metadata": {},
      "outputs": [],
      "source": []
    },
    {
      "cell_type": "markdown",
      "id": "3fb70631",
      "metadata": {},
      "source": [
        "101.Write a Python program to sort a given matrix in ascending order according to the sum of its rows.Original Matrix:[[1, 2, 3], [2, 4, 5], [1, 1, 1]]Sort the said matrix in ascending order according to the sum of its rows[[1, 1, 1], [1, 2, 3], [2, 4, 5]]Original Matrix:[[1, 2, 3], [-2, 4, -5], [1, -1, 1]]Sort the said matrix in ascending order according to the sum of its rows[[-2, 4, -5], [1, -1, 1], [1, 2, 3]]"
      ]
    },
    {
      "cell_type": "code",
      "execution_count": null,
      "id": "62a044f7",
      "metadata": {},
      "outputs": [],
      "source": []
    },
    {
      "cell_type": "markdown",
      "id": "761e5ee3",
      "metadata": {},
      "source": [
        "102.Write a Python program to extract specified size of strings from a give list of string values.Original list:['Python', 'list', 'exercises', 'practice', 'solution']length of the string to extract:8After extracting strings of specified length from the said list:['practice', 'solution']"
      ]
    },
    {
      "cell_type": "code",
      "execution_count": null,
      "id": "b8f81365",
      "metadata": {},
      "outputs": [],
      "source": []
    },
    {
      "cell_type": "markdown",
      "id": "7a99a9c3",
      "metadata": {},
      "source": [
        "103.Write a Python program to extract specified number of elements from a given list, which follows each other continuously.Original list:[1, 1, 3, 4, 4, 5, 6, 7]Extract 2 number of elements from the said list which follows each other continuously:[1, 4]Original lists:[0, 1, 2, 3, 4, 4, 4, 4, 5, 7]Extract 4 number of elements from the said list which follows each other continuously:[4]"
      ]
    },
    {
      "cell_type": "code",
      "execution_count": null,
      "id": "166df838",
      "metadata": {},
      "outputs": [],
      "source": []
    },
    {
      "cell_type": "markdown",
      "id": "82079c8f",
      "metadata": {},
      "source": [
        "104.Write a Python program to find the difference between consecutive numbers in a given list.Original list:[1, 1, 3, 4, 4, 5, 6, 7]Difference between consecutive numbers of the said list:[0, 2, 1, 0, 1, 1, 1]Original list:[4, 5, 8, 9, 6, 10]Difference between consecutive numbers of the said list:[1, 3, 1, -3, 4]"
      ]
    },
    {
      "cell_type": "code",
      "execution_count": null,
      "id": "73d00665",
      "metadata": {},
      "outputs": [],
      "source": []
    },
    {
      "cell_type": "markdown",
      "id": "ae4742be",
      "metadata": {},
      "source": [
        "105.Write a Python program to compute average of two given lists.Original list:[1, 1, 3, 4, 4, 5, 6, 7][0, 1, 2, 3, 4, 4, 5, 7, 8]Average of two lists:3.823529411764706"
      ]
    },
    {
      "cell_type": "code",
      "execution_count": null,
      "id": "83c05943",
      "metadata": {},
      "outputs": [],
      "source": []
    },
    {
      "cell_type": "markdown",
      "id": "576db195",
      "metadata": {},
      "source": [
        "106.Write a Python program to count integers in a given mixed list.Original list:[1, 'abcd', 3, 1.2, 4, 'xyz', 5, 'pqr', 7, -5, -12.22]Number of integers in the said mixed list:6"
      ]
    },
    {
      "cell_type": "code",
      "execution_count": null,
      "id": "4e696326",
      "metadata": {},
      "outputs": [],
      "source": []
    },
    {
      "cell_type": "markdown",
      "id": "cf2d5c8e",
      "metadata": {},
      "source": [
        "107.Write a Python program to remove a specified column from a given nested list.Original Nested list:[[1, 2, 3], [2, 4, 5], [1, 1, 1]]After removing 1st column:[[2, 3], [4, 5], [1, 1]]Original Nested list:[[1, 2, 3], [-2, 4, -5], [1, -1, 1]]After removing 3rd column:[[1, 2], [-2, 4], [1, -1]]"
      ]
    },
    {
      "cell_type": "code",
      "execution_count": null,
      "id": "4558a558",
      "metadata": {},
      "outputs": [],
      "source": []
    },
    {
      "cell_type": "markdown",
      "id": "bdeb0aeb",
      "metadata": {},
      "source": [
        "108.Write a Python program to extract a specified column from a given nested list.Original Nested list:[[1, 2, 3], [2, 4, 5], [1, 1, 1]]Extract 1st column:[1, 2, 1]Original Nested list:[[1, 2, 3], [-2, 4, -5], [1, -1, 1]]Extract 3rd column:[3, -5, 1]"
      ]
    },
    {
      "cell_type": "code",
      "execution_count": null,
      "id": "fffd843e",
      "metadata": {},
      "outputs": [],
      "source": []
    },
    {
      "cell_type": "markdown",
      "id": "a5e39dc5",
      "metadata": {},
      "source": [
        "109.Write a Python program to rotate a given list by a specified number of items in the right or left direction.original List:[1, 2, 3, 4, 5, 6, 7, 8, 9, 10]Rotate the said list in left direction by 4:[4, 5, 6, 7, 8, 9, 10, 1, 2, 3, 4]Rotate the said list in left direction by 2:[3, 4, 5, 6, 7, 8, 9, 10, 1, 2]Rotate the said list in Right direction by 4:[8, 9, 10, 1, 2, 3, 4, 5, 6]Rotate the said list in Right direction by 2:[9, 10, 1, 2, 3, 4, 5, 6, 7, 8]"
      ]
    },
    {
      "cell_type": "code",
      "execution_count": null,
      "id": "164c284f",
      "metadata": {},
      "outputs": [],
      "source": []
    },
    {
      "cell_type": "markdown",
      "id": "150e037c",
      "metadata": {},
      "source": [
        "110.Write a Python program to find the item with the most occurrences in a given list.Original list:[2, 3, 8, 4, 7, 9, 8, 2, 6, 5, 1, 6, 1, 2, 3, 4, 6, 9, 1, 2]Item with maximum occurrences of the said list:2"
      ]
    },
    {
      "cell_type": "code",
      "execution_count": null,
      "id": "19d4effb",
      "metadata": {},
      "outputs": [],
      "source": []
    },
    {
      "cell_type": "markdown",
      "id": "65c83449",
      "metadata": {},
      "source": [
        "111.Write a Python program to access multiple elements at a specified index from a given list.Original list:[2, 3, 8, 4, 7, 9, 8, 2, 6, 5, 1, 6, 1, 2, 3, 4, 6, 9, 1, 2]Index list:[0, 3, 5, 7, 10]Items with specified index of the said list:[2, 4, 9, 2, 1]"
      ]
    },
    {
      "cell_type": "code",
      "execution_count": null,
      "id": "2a930652",
      "metadata": {},
      "outputs": [],
      "source": []
    },
    {
      "cell_type": "markdown",
      "id": "c49df9e9",
      "metadata": {},
      "source": [
        "112.Write a Python program to check whether a specified list is sorted or not.Original list:[1, 2, 4, 6, 8, 10, 12, 14, 16, 17]Is the said list is sorted!TrueOriginal list:[1, 2, 4, 6, 8, 10, 12, 14, 16, 17]Is the said list is sorted!False"
      ]
    },
    {
      "cell_type": "code",
      "execution_count": null,
      "id": "65bb2350",
      "metadata": {},
      "outputs": [],
      "source": []
    },
    {
      "cell_type": "markdown",
      "id": "68091ef2",
      "metadata": {},
      "source": [
        "113.Write a Python program to remove duplicate dictionary entries from a given list.Original list with duplicate dictionary:[{'Green': '#008000'}, {'Black': '#000000'}, {'Blue': '#0000FF'}, {'Green': '#008000'}]After removing duplicate dictionary of the said list:[{'Black': '#000000'}, {'Blue': '#0000FF'}, {'Green': '#008000'}]"
      ]
    },
    {
      "cell_type": "code",
      "execution_count": null,
      "id": "7e6c305d",
      "metadata": {},
      "outputs": [],
      "source": []
    },
    {
      "cell_type": "markdown",
      "id": "fb1d519f",
      "metadata": {},
      "source": [
        "114.Write a Python program to extract the nth element from a given list of tuples.Original list:[('Greyson Fulton', 98, 99), ('Brady Kent', 97, 96), ('Wyatt Knott', 91, 94), ('Beau Turnbull', 94, 98)]Extract nth element ( n = 0 ) from the said list of tuples:['Greyson Fulton', 'Brady Kent', 'Wyatt Knott', 'Beau Turnbull']Extract nth element ( n = 2 ) from the said list of tuples:[99, 96, 94, 98]"
      ]
    },
    {
      "cell_type": "code",
      "execution_count": null,
      "id": "72092e05",
      "metadata": {},
      "outputs": [],
      "source": []
    },
    {
      "cell_type": "markdown",
      "id": "c4d303e7",
      "metadata": {},
      "source": [
        "115.Write a Python program to check if the elements of a given list are unique or not.Original list:[1, 2, 4, 6, 8, 2, 1, 4, 10, 12, 14, 12, 16, 17]Is the said list contains all unique elements!FalseOriginal list:[2, 4, 6, 8, 10, 12, 14]Is the said list contains all unique elements!True"
      ]
    },
    {
      "cell_type": "code",
      "execution_count": null,
      "id": "7156e2f6",
      "metadata": {},
      "outputs": [],
      "source": []
    },
    {
      "cell_type": "markdown",
      "id": "f06395e5",
      "metadata": {},
      "source": [
        "116.Write a Python program to sort a list of lists by a given index of the inner list.Original list:[('Greyson Fulton', 98, 99), ('Brady Kent', 97, 96), ('Wyatt Knott', 91, 94), ('Beau Turnbull', 94, 98)]Sort the said list of lists by a given index ( Index = 0 ) of the inner list[('Beau Turnbull', 94, 98), ('Brady Kent', 97, 96), ('Greyson Fulton', 98, 99), ('Wyatt Knott', 91, 94)]Sort the said list of lists by a given index ( Index = 2 ) of the inner list[('Wyatt Knott', 91, 94), ('Brady Kent', 97, 96), ('Beau Turnbull', 94, 98), ('Greyson Fulton', 98, 99)]"
      ]
    },
    {
      "cell_type": "code",
      "execution_count": null,
      "id": "572c41e0",
      "metadata": {},
      "outputs": [],
      "source": []
    },
    {
      "cell_type": "markdown",
      "id": "daaadd20",
      "metadata": {},
      "source": [
        "117.Write a Python program to remove all elements from a given list that are present in another list.Original lists:list1: [1, 2, 3, 4, 5, 6, 7, 8, 9, 10]list2: [2, 4, 6, 8]Remove all elements from 'list1' present in 'list2:[1, 3, 5, 7, 9, 10]"
      ]
    },
    {
      "cell_type": "code",
      "execution_count": null,
      "id": "90c8e919",
      "metadata": {},
      "outputs": [],
      "source": []
    },
    {
      "cell_type": "markdown",
      "id": "5e9a1aef",
      "metadata": {},
      "source": [
        "118.Write a Python program to find the difference between elements (n+1th - nth) of a given list of numeric values.Original list:[1, 2, 3, 4, 5, 6, 7, 8, 9, 10]Dfference between elements (n+1th - nth) of the said list :[1, 1, 1, 1, 1, 1, 1, 1, 1]Original list:[2, 4, 6, 8]Dfference between elements (n+1th - nth) of the said list :[2, 2, 2]"
      ]
    },
    {
      "cell_type": "code",
      "execution_count": null,
      "id": "5b8457d9",
      "metadata": {},
      "outputs": [],
      "source": []
    },
    {
      "cell_type": "markdown",
      "id": "3a749554",
      "metadata": {},
      "source": [
        "119.Write a Python program to check if a substring appears in a given list of string values.Original list:['red', 'black', 'white', 'green', 'orange']Substring to search:ackCheck if a substring presents in the said list of string values:TrueSubstring to search:abcCheck if a substring presents in the said list of string values:False"
      ]
    },
    {
      "cell_type": "code",
      "execution_count": null,
      "id": "0ce994ae",
      "metadata": {},
      "outputs": [],
      "source": []
    },
    {
      "cell_type": "markdown",
      "id": "bcd1ca09",
      "metadata": {},
      "source": [
        "120.Write a Python program to create a list taking alternate elements from a given list.Original list:['red', 'black', 'white', 'green', 'orange']List with alternate elements from the said list:['red', 'white', 'orange']Original list:[2, 0, 3, 4, 0, 2, 8, 3, 4, 2]List with alternate elements from the said list:[2, 3, 0, 8, 4]"
      ]
    },
    {
      "cell_type": "code",
      "execution_count": null,
      "id": "3f32fd74",
      "metadata": {},
      "outputs": [],
      "source": []
    },
    {
      "cell_type": "markdown",
      "id": "9fc06cd9",
      "metadata": {},
      "source": [
        "121.Write a Python program to find nested list elements that are present in another list.Original lists:[1, 2, 3, 4, 5, 6, 7, 8, 9, 10, 11, 12, 13, 14][[12, 18, 23, 25, 45], [7, 11, 19, 24, 28], [1, 5, 8, 18, 15, 16]]Intersection of said nested lists:[[12], [7, 11], [1, 5, 8]]"
      ]
    },
    {
      "cell_type": "code",
      "execution_count": null,
      "id": "cf32a72d",
      "metadata": {},
      "outputs": [],
      "source": []
    },
    {
      "cell_type": "markdown",
      "id": "cfec4711",
      "metadata": {},
      "source": [
        "122.Write a Python program to find common elements in a nested list.Original lists:[[12, 18, 23, 25, 45], [7, 12, 18, 24, 28], [1, 5, 8, 12, 15, 16, 18]]Common element(s) in nested lists:[18, 12]"
      ]
    },
    {
      "cell_type": "code",
      "execution_count": null,
      "id": "8671fc39",
      "metadata": {},
      "outputs": [],
      "source": []
    },
    {
      "cell_type": "markdown",
      "id": "fbf1f4a8",
      "metadata": {},
      "source": [
        "123.Write a Python program to reverse strings in a given list of string values.Original lists:['Red', 'Green', 'Blue', 'White', 'Black']Reverse strings of the said given list:['deR', 'neerG', 'eulB', 'etihW', 'kcalB']"
      ]
    },
    {
      "cell_type": "code",
      "execution_count": null,
      "id": "86bc7f28",
      "metadata": {},
      "outputs": [],
      "source": []
    },
    {
      "cell_type": "markdown",
      "id": "f5be6ece",
      "metadata": {},
      "source": [
        "124.Write a Python program to find the maximum and minimum product of pairs of tuples within a given list.The original list, tuple : [(2, 7), (2, 6), (1, 8), (4, 9)]Maximum and minimum product from the pairs of the said tuple of list:(36, 8)"
      ]
    },
    {
      "cell_type": "code",
      "execution_count": null,
      "id": "d1db8352",
      "metadata": {},
      "outputs": [],
      "source": []
    },
    {
      "cell_type": "markdown",
      "id": "a9e28dd3",
      "metadata": {},
      "source": [
        "125.Write a Python program to calculate the product of the unique numbers in a given list.Original List : [10, 20, 30, 40, 20, 50, 60, 40]Product of the unique numbers of the said list: 720000000"
      ]
    },
    {
      "cell_type": "code",
      "execution_count": null,
      "id": "b7e0d0e5",
      "metadata": {},
      "outputs": [],
      "source": []
    },
    {
      "cell_type": "markdown",
      "id": "b5cfda48",
      "metadata": {},
      "source": [
        "126.Write a Python program to interleave multiple lists of the same length.Original list:list1: [1, 2, 3, 4, 5, 6, 7]list2: [10, 20, 30, 40, 50, 60, 70]list3: [100, 200, 300, 400, 500, 600, 700]Interleave multiple lists:[1, 10, 100, 2, 20, 200, 3, 30, 300, 4, 40, 400, 5, 50, 500, 6, 60, 600, 7, 70, 700]"
      ]
    },
    {
      "cell_type": "code",
      "execution_count": null,
      "id": "b25f8db2",
      "metadata": {},
      "outputs": [],
      "source": []
    },
    {
      "cell_type": "markdown",
      "id": "08ce9070",
      "metadata": {},
      "source": [
        "127.Write a Python program to remove words from a given list of strings containing a character or string.Original list:list1: ['Red color', 'Orange#', 'Green', 'Orange @', 'White']Character list:['#', 'color', '@']New list:['Red', '', 'Green', 'Orange', 'White']"
      ]
    },
    {
      "cell_type": "code",
      "execution_count": null,
      "id": "47a6cf09",
      "metadata": {},
      "outputs": [],
      "source": []
    },
    {
      "cell_type": "markdown",
      "id": "4f32f37f",
      "metadata": {},
      "source": [
        "128.Write a Python program to calculate the sum of the numbers in a list between the indices of a specified range.Original list:[2, 1, 5, 6, 8, 3, 4, 9, 10, 11, 8, 12]Range: 8 , 10Sum of the specified range:29"
      ]
    },
    {
      "cell_type": "code",
      "execution_count": null,
      "id": "4912ac3f",
      "metadata": {},
      "outputs": [],
      "source": []
    },
    {
      "cell_type": "markdown",
      "id": "b651906f",
      "metadata": {},
      "source": [
        "129.Write a Python program to reverse each list in a given list of lists.Original list of lists:[[1, 2, 3, 4], [5, 6, 7, 8], [9, 10, 11, 12], [13, 14, 15, 16]]Reverse each list in the said list of lists:[[4, 3, 2, 1], [8, 7, 6, 5], [12, 11, 10, 9], [16, 15, 14, 13]]"
      ]
    },
    {
      "cell_type": "code",
      "execution_count": null,
      "id": "9a4bbc8c",
      "metadata": {},
      "outputs": [],
      "source": []
    },
    {
      "cell_type": "markdown",
      "id": "ca14fb49",
      "metadata": {},
      "source": [
        "130.Write a Python program to count the same pair in three given lists.Original lists:[1, 2, 3, 4, 5, 6, 7, 8][2, 2, 3, 1, 2, 6, 7, 9][2, 1, 3, 1, 2, 6, 7, 9]Number of same pair of the said three given lists:3"
      ]
    },
    {
      "cell_type": "code",
      "execution_count": null,
      "id": "c8644c45",
      "metadata": {},
      "outputs": [],
      "source": []
    },
    {
      "cell_type": "markdown",
      "id": "f26b0a20",
      "metadata": {},
      "source": [
        "131.Write a Python program to count the frequency of consecutive duplicate elements in a given list of numbers.Original lists:[1, 2, 2, 2, 4, 4, 4, 5, 5, 5, 5]Consecutive duplicate elements and their frequency:([1, 2, 4, 5], [1, 3, 3, 4])"
      ]
    },
    {
      "cell_type": "code",
      "execution_count": null,
      "id": "a3e1f21a",
      "metadata": {},
      "outputs": [],
      "source": []
    },
    {
      "cell_type": "markdown",
      "id": "1a3a6291",
      "metadata": {},
      "source": [
        "132.Write a Python program to find all index positions of the maximum and minimum values in a given list of numbers.Original list:[12, 33, 23, 10, 67, 89, 45, 667, 23, 12, 11, 10, 54]Index positions of the maximum value of the said list:7Index positions of the minimum value of the said list:3, 11"
      ]
    },
    {
      "cell_type": "code",
      "execution_count": null,
      "id": "e67b366d",
      "metadata": {},
      "outputs": [],
      "source": []
    },
    {
      "cell_type": "markdown",
      "id": "ba49e0d9",
      "metadata": {},
      "source": [
        "133.Write a Python program to check if two lists have the same elements in them in same order or not.Original lists:['red', 'green', 'black', 'orange']['red', 'pink', 'green', 'white', 'black']['white', 'orange', 'pink', 'black']Test common elements between color1 and color2 are in same order?TrueTest common elements between color1 and color3 are in same order?FalseTest common elements between color2 and color3 are in same order?False"
      ]
    },
    {
      "cell_type": "code",
      "execution_count": null,
      "id": "56b5d696",
      "metadata": {},
      "outputs": [],
      "source": []
    },
    {
      "cell_type": "markdown",
      "id": "1135a33c",
      "metadata": {},
      "source": [
        "134.Write a Python program to find the difference between two lists including duplicate elements.Original lists:[1, 1, 2, 3, 3, 4, 4, 5, 6, 7][1, 1, 2, 4, 5, 6]Difference between two said list including duplicate elements):[3, 3, 4, 7]"
      ]
    },
    {
      "cell_type": "code",
      "execution_count": null,
      "id": "4041d294",
      "metadata": {},
      "outputs": [],
      "source": []
    },
    {
      "cell_type": "markdown",
      "id": "21e81337",
      "metadata": {},
      "source": [
        "135.Write a Python program to iterate over all pairs of consecutive items in a given list.Original lists:[1, 1, 2, 3, 3, 4, 4, 5]Iterate over all pairs of consecutive items of the said list:[(1, 1), (1, 2), (2, 3), (3, 3), (3, 4), (4, 4), (4, 5)]"
      ]
    },
    {
      "cell_type": "code",
      "execution_count": null,
      "id": "721d0f0e",
      "metadata": {},
      "outputs": [],
      "source": []
    },
    {
      "cell_type": "markdown",
      "id": "87978558",
      "metadata": {},
      "source": [
        "136.Write a Python program to remove duplicate words from a given list of strings.Original String:['Python', 'Exercises', 'Practice', 'Solution', 'Exercises']After removing duplicate words from the said list of strings:['Python', 'Exercises', 'Practice', 'Solution']"
      ]
    },
    {
      "cell_type": "code",
      "execution_count": null,
      "id": "4d828af6",
      "metadata": {},
      "outputs": [],
      "source": []
    },
    {
      "cell_type": "markdown",
      "id": "1cd03cac",
      "metadata": {},
      "source": [
        "137.Write a Python program to find the first even and odd number in a given list of numbers.Original list:[1, 3, 5, 7, 4, 1, 6, 8]First even and odd number of the said list of numbers:(4, 1)"
      ]
    },
    {
      "cell_type": "code",
      "execution_count": null,
      "id": "a5df7fbb",
      "metadata": {},
      "outputs": [],
      "source": []
    },
    {
      "cell_type": "markdown",
      "id": "e9ee615b",
      "metadata": {},
      "source": [
        "138.Write a Python program to sort a given mixed list of integers and strings.Numbers must be sorted before strings.Original list:[19, 'red', 12, 'green', 'blue', 10, 'white', 'green', 1]Sort the said mixed list of integers and strings:[1, 10, 12, 19, 'blue', 'green', 'green', 'red', 'white']"
      ]
    },
    {
      "cell_type": "code",
      "execution_count": null,
      "id": "9ba30fca",
      "metadata": {},
      "outputs": [],
      "source": []
    },
    {
      "cell_type": "markdown",
      "id": "8a516085",
      "metadata": {},
      "source": [
        "139.Write a Python program to sort a given list of strings(numbers) numerically.Original list:['4', '12', '45', '7', '0', '100', '200', '-12', '-500']Sort the said list of strings(numbers) numerically:[-500, -12, 0, 4, 7, 12, 45, 100, 200]"
      ]
    },
    {
      "cell_type": "code",
      "execution_count": null,
      "id": "35410f2b",
      "metadata": {},
      "outputs": [],
      "source": []
    },
    {
      "cell_type": "markdown",
      "id": "64f650ef",
      "metadata": {},
      "source": [
        "140.Write a Python program to remove a specific item from a given list of lists.Original list of lists:[['Red', 'Maroon', 'Yellow', 'Olive'], ['#FF0000', '#800000', '#FFFF00', '#808000'], ['rgb(255,0,0)', 'rgb(128,0,0)', 'rgb(255,255,0)', 'rgb(128,128,0)']]Remove 1st list from the saod given list of lists:[['Maroon', 'Yellow', 'Olive'], ['#800000', '#FFFF00', '#808000'], ['rgb(128,0,0)', 'rgb(255,255,0)', 'rgb(128,128,0)']]Remove 2nd list from the saod given list of lists:[['Red', 'Yellow', 'Olive'], ['#FF0000', '#FFFF00', '#808000'], ['rgb(255,0,0)', 'rgb(255,255,0)', 'rgb(128,128,0)']]Remove 4th list from the saod given list of lists:[['Red', 'Maroon', 'Yellow'], ['#FF0000', '#800000', '#FFFF00'], ['rgb(255,0,0)', 'rgb(128,0,0)', 'rgb(255,255,0)']]"
      ]
    },
    {
      "cell_type": "code",
      "execution_count": null,
      "id": "76c4d79d",
      "metadata": {},
      "outputs": [],
      "source": []
    },
    {
      "cell_type": "markdown",
      "id": "e65dc5e3",
      "metadata": {},
      "source": [
        "141.Write a Python program to remove empty lists from a given list of lists.Original list:[[], [], [], 'Red', 'Green', [1, 2], 'Blue', [], []]After deleting the empty lists from the said lists of lists['Red', 'Green', [1, 2], 'Blue']"
      ]
    },
    {
      "cell_type": "code",
      "execution_count": null,
      "id": "eb8717c4",
      "metadata": {},
      "outputs": [],
      "source": []
    },
    {
      "cell_type": "markdown",
      "id": "373fda9c",
      "metadata": {},
      "source": [
        "142.Write a Python program to sum a specific column of a list in a given list of lists.Original list of lists:[[1, 2, 3, 2], [4, 5, 6, 2], [7, 8, 9, 5]]Sum: 1st column of the said list of lists:12Sum: 2nd column of the said list of lists:15Sum: 4th column of the said list of lists:9"
      ]
    },
    {
      "cell_type": "code",
      "execution_count": null,
      "id": "d7079c75",
      "metadata": {},
      "outputs": [],
      "source": []
    },
    {
      "cell_type": "markdown",
      "id": "4e5881ff",
      "metadata": {},
      "source": [
        "143.Write a Python program to get the frequency of elements in a given list of lists.Original list of lists:[[1, 2, 3, 2], [4, 5, 6, 2], [7, 8, 9, 5]]Frequency of the elements in the said list of lists:{1: 1, 2: 3, 3: 1, 4: 1, 5: 2, 6: 1, 7: 1, 8: 1, 9: 1}"
      ]
    },
    {
      "cell_type": "code",
      "execution_count": null,
      "id": "76d0fc9e",
      "metadata": {},
      "outputs": [],
      "source": []
    },
    {
      "cell_type": "markdown",
      "id": "418b3db0",
      "metadata": {},
      "source": [
        "144.Write a Python program to extract every first or specified element from a given two-dimensional list.Original list of lists:[[1, 2, 3, 2], [4, 5, 6, 2], [7, 1, 9, 5]]Extract every first element from the said given two dimensional list:[1, 4, 7]Extract every third element from the said given two dimensional list:[3, 6, 9]"
      ]
    },
    {
      "cell_type": "code",
      "execution_count": null,
      "id": "3aaa9f37",
      "metadata": {},
      "outputs": [],
      "source": []
    },
    {
      "cell_type": "markdown",
      "id": "8ee2f926",
      "metadata": {},
      "source": [
        "145.Write a Python program to generate a number in a specified range except for some specific numbers.Generate a number in a specified range (1, 10) except [2, 9, 10]7Generate a number in a specified range (-5, 5) except [-5,0,4,3,2]-4"
      ]
    },
    {
      "cell_type": "code",
      "execution_count": null,
      "id": "e5c01ff8",
      "metadata": {},
      "outputs": [],
      "source": []
    },
    {
      "cell_type": "markdown",
      "id": "d5819665",
      "metadata": {},
      "source": [
        "146.Write a Python program to compute the sum of digits of each number in a given list.Original tuple: [10, 2, 56]Sum of digits of each number of the said list of integers:14Original tuple: [10, 20, 4, 5, 'b', 70, 'a']Sum of digits of each number of the said list of integers:19Original tuple:[10, 20, -4, 5, -70]Sum of digits of each number of the said list of integers:19"
      ]
    },
    {
      "cell_type": "code",
      "execution_count": null,
      "id": "203c9b56",
      "metadata": {},
      "outputs": [],
      "source": []
    },
    {
      "cell_type": "markdown",
      "id": "e980234f",
      "metadata": {},
      "source": [
        "147.Write a Python program to combine two lists into another list randomly.Original lists:[1, 2, 7, 8, 3, 7][4, 3, 8, 9, 4, 3, 8, 9]Interleave two given list into another list randomly:[4, 1, 2, 3, 8, 9, 4, 3, 7, 8, 9, 8, 3, 7]"
      ]
    },
    {
      "cell_type": "code",
      "execution_count": null,
      "id": "082bf09e",
      "metadata": {},
      "outputs": [],
      "source": []
    },
    {
      "cell_type": "markdown",
      "id": "3d25ec70",
      "metadata": {},
      "source": [
        "148.Write a Python program to remove specific words from a given list.Original list:['red', 'green', 'blue', 'white', 'black', 'orange']Remove words:['white', 'orange']After removing the specified words from the said list:['red', 'green', 'blue', 'black']"
      ]
    },
    {
      "cell_type": "code",
      "execution_count": null,
      "id": "300018fd",
      "metadata": {},
      "outputs": [],
      "source": []
    },
    {
      "cell_type": "markdown",
      "id": "b2cf469c",
      "metadata": {},
      "source": [
        "149.Write a Python program to get all possible combinations of the elements of a given list.Original list:['orange', 'red', 'green', 'blue']All possible combinations of the said list's elements:[[], ['orange'], ['red'], ['red', 'orange'], ['green'], ['green', 'orange'], ['green', 'red'], ['green', 'red', 'orange'], ['blue'], ['blue', 'orange'], ['blue', 'red'], ['blue', 'red', 'orange'], ['blue', 'green'], ['blue', 'green', 'orange'], ['blue', 'green', 'red'], ['blue', 'green', 'red', 'orange']]"
      ]
    },
    {
      "cell_type": "code",
      "execution_count": null,
      "id": "ee5f9ae1",
      "metadata": {},
      "outputs": [],
      "source": []
    },
    {
      "cell_type": "markdown",
      "id": "1a877d34",
      "metadata": {},
      "source": [
        "150.Write a Python program to reverse a given list of lists.Original list:[['orange', 'red'], ['green', 'blue'], ['white', 'black', 'pink']]Reverse said list of lists:[['white', 'black', 'pink'], ['green', 'blue'], ['orange', 'red']]Original list:[[1, 2, 3, 4], [0, 2, 4, 5], [2, 3, 4, 2, 4]]Reverse said list of lists:[[2, 3, 4, 2, 4], [0, 2, 4, 5], [1, 2, 3, 4]]"
      ]
    },
    {
      "cell_type": "code",
      "execution_count": null,
      "id": "c7812ea3",
      "metadata": {},
      "outputs": [],
      "source": []
    },
    {
      "cell_type": "markdown",
      "id": "0d3546dc",
      "metadata": {},
      "source": [
        "151.Write a Python program to find the maximum and minimum values in a given list within a specified index range.Original list:[4, 3, 0, 5, 3, 0, 2, 3, 4, 2, 4, 3, 5]Index range:3 to 8Maximum and minimum values of the said given list within index range:(5, 0)"
      ]
    },
    {
      "cell_type": "code",
      "execution_count": null,
      "id": "48097e71",
      "metadata": {},
      "outputs": [],
      "source": []
    },
    {
      "cell_type": "markdown",
      "id": "c2ada9c0",
      "metadata": {},
      "source": [
        "152.Write a Python program to combine two sorted lists using the heapq module.Original sorted lists:[1, 3, 5, 7, 9, 11][0, 2, 4, 6, 8, 10]After merging the said two sorted lists:[0, 1, 2, 3, 4, 5, 6, 7, 8, 9, 10, 11]"
      ]
    },
    {
      "cell_type": "code",
      "execution_count": null,
      "id": "d40472cd",
      "metadata": {},
      "outputs": [],
      "source": []
    },
    {
      "cell_type": "markdown",
      "id": "fee1b23c",
      "metadata": {},
      "source": [
        "153.Write a Python program to check if a given element occurs at least n times in a list.Original list:[0, 1, 3, 5, 0, 3, 4, 5, 0, 8, 0, 3, 6, 0, 3, 1, 1, 0]Check if 3 occurs at least 4 times in a list:TrueCheck if 0 occurs at least 5 times in a list:TrueCheck if 8 occurs at least 3 times in a list:False"
      ]
    },
    {
      "cell_type": "code",
      "execution_count": null,
      "id": "d2c96478",
      "metadata": {},
      "outputs": [],
      "source": []
    },
    {
      "cell_type": "markdown",
      "id": "d8095553",
      "metadata": {},
      "source": [
        "154.Write a Python program to join two given list of lists of the same length, element wise.Original lists:[[10, 20], [30, 40], [50, 60], [30, 20, 80]][[61], [12, 14, 15], [12, 13, 19, 20], [12]]Join the said two lists element wise:[[10, 20, 61], [30, 40, 12, 14, 15], [50, 60, 12, 13, 19, 20], [30, 20, 80, 12]]Original lists:[['a', 'b'], ['b', 'c', 'd'], ['e', 'f']][['p', 'q'], ['p', 's', 't'], ['u', 'v', 'w']]Join the said two lists element wise:[['a', 'b', 'p', 'q'], ['b', 'c', 'd', 'p', 's', 't'], ['e', 'f', 'u', 'v', 'w']]"
      ]
    },
    {
      "cell_type": "code",
      "execution_count": null,
      "id": "6690c8ae",
      "metadata": {},
      "outputs": [],
      "source": []
    },
    {
      "cell_type": "markdown",
      "id": "6a8cd069",
      "metadata": {},
      "source": [
        "155.Write a Python program to add two given lists of different lengths, starting on the left.Original lists:[2, 4, 7, 0, 5, 8][3, 3, -1, 7]Add said two lists from left:[5, 7, 6, 7, 5, 8]Original lists:[1, 2, 3, 4, 5, 6][2, 4, -3]Add said two lists from left:[3, 6, 0, 4, 5, 6]"
      ]
    },
    {
      "cell_type": "code",
      "execution_count": null,
      "id": "11f0e97d",
      "metadata": {},
      "outputs": [],
      "source": []
    },
    {
      "cell_type": "markdown",
      "id": "d0a6f8f7",
      "metadata": {},
      "source": [
        "156.Write a Python program to add two given lists of different lengths, starting on the right.Original lists:[2, 4, 7, 0, 5, 8][3, 3, -1, 7]Add said two lists from left:[2, 4, 10, 3, 4, 15]Original lists:[1, 2, 3, 4, 5, 6][2, 4, -3]Add said two lists from left:[1, 2, 3, 6, 9, 3]"
      ]
    },
    {
      "cell_type": "code",
      "execution_count": null,
      "id": "54d6593f",
      "metadata": {},
      "outputs": [],
      "source": []
    },
    {
      "cell_type": "markdown",
      "id": "5bdd1a77",
      "metadata": {},
      "source": [
        "157.Write a Python program to interleave lists of varying lengths.Original lists:[2, 4, 7, 0, 5, 8][2, 5, 8][0, 1][3, 3, -1, 7]Interleave said lists of different lengths:[2, 2, 0, 3, 4, 5, 1, 3, 7, 8, -1, 0, 7, 5, 8]"
      ]
    },
    {
      "cell_type": "code",
      "execution_count": null,
      "id": "750b3c32",
      "metadata": {},
      "outputs": [],
      "source": []
    },
    {
      "cell_type": "markdown",
      "id": "002617c8",
      "metadata": {},
      "source": [
        "158.Write a Python program to find the maximum and minimum values in a given list of tuples.Original list with tuples:[('V', 60), ('VI', 70), ('VII', 75), ('VIII', 72), ('IX', 78), ('X', 70)]Maximum and minimum values of the said list of tuples:(78, 60)"
      ]
    },
    {
      "cell_type": "code",
      "execution_count": null,
      "id": "94e2d5ca",
      "metadata": {},
      "outputs": [],
      "source": []
    },
    {
      "cell_type": "markdown",
      "id": "020d43ab",
      "metadata": {},
      "source": [
        "159.Write a Python program to append the same value/a list multiple times to a list/list-of-lists.Add a value(7), 5 times, to a list:['7', '7', '7', '7', '7']Add 5, 6 times, to a list:[1, 2, 3, 4, 5, 5, 5, 5, 5, 5]Add a list, 4 times, to a list of lists:[[1, 2, 5], [1, 2, 5], [1, 2, 5], [1, 2, 5]]Add a list, 3 times, to a list of lists:[[5, 6, 7], [1, 2, 5], [1, 2, 5], [1, 2, 5], [1, 2, 5]]"
      ]
    },
    {
      "cell_type": "code",
      "execution_count": null,
      "id": "4abb59c0",
      "metadata": {},
      "outputs": [],
      "source": []
    },
    {
      "cell_type": "markdown",
      "id": "0aff6cfc",
      "metadata": {},
      "source": [
        "160.Write a Python program to remove the first specified number of elements from a given list satisfying a condition.Remove the first 4 number of even numbers from the following list:[3,10,4,7,5,7,8,3,3,4,5,9,3,4,9,8,5]Output: [3, 7, 5, 7, 3, 3, 5, 9, 3, 4, 9, 8, 5]Original list:[3, 10, 4, 7, 5, 7, 8, 3, 3, 4, 5, 9, 3, 4, 9, 8, 5]Remove first 4 even numbers from the said list:[3, 7, 5, 7, 3, 3, 5, 9, 3, 4, 9, 8, 5]"
      ]
    },
    {
      "cell_type": "code",
      "execution_count": null,
      "id": "23ff60b9",
      "metadata": {},
      "outputs": [],
      "source": []
    },
    {
      "cell_type": "markdown",
      "id": "55334e51",
      "metadata": {},
      "source": [
        "161.Write a Python program to check if a given list increases strictly.Moreover, if removing only one element from the list results in a strictly increasing list, we still consider the list true.TrueTrueTrueTrueTrueTrueTrueTrueTrueTrueTrueFalseFalseFalseFalseFalse"
      ]
    },
    {
      "cell_type": "code",
      "execution_count": null,
      "id": "f26b3e6d",
      "metadata": {},
      "outputs": [],
      "source": []
    },
    {
      "cell_type": "markdown",
      "id": "0cfaab19",
      "metadata": {},
      "source": [
        "162.Write a Python program to find the last occurrence of a specified item in a given list.Original list:['s', 'd', 'f', 's', 'd', 'f', 's', 'f', 'k', 'o', 'p', 'i', 'w', 'e', 'k', 'c']Last occurrence of f in the said list:7Last occurrence of c in the said list:15Last occurrence of k in the said list:14Last occurrence of w in the said list:12"
      ]
    },
    {
      "cell_type": "code",
      "execution_count": null,
      "id": "e9714729",
      "metadata": {},
      "outputs": [],
      "source": []
    },
    {
      "cell_type": "markdown",
      "id": "adbc966d",
      "metadata": {},
      "source": [
        "163.Write a Python program to get the index of the first element that is greater than a specified element.Original list:[12, 45, 23, 67, 78, 90, 100, 76, 38, 62, 73, 29, 83]Index of the first element which is greater than 73 in the said list:4Index of the first element which is greater than 21 in the said list:1Index of the first element which is greater than 80 in the said list:5Index of the first element which is greater than 55 in the said list:3"
      ]
    },
    {
      "cell_type": "code",
      "execution_count": null,
      "id": "9adc4568",
      "metadata": {},
      "outputs": [],
      "source": []
    },
    {
      "cell_type": "markdown",
      "id": "b2913eca",
      "metadata": {},
      "source": [
        "164.Write a Python program to get items from a given list with specific conditions.Original list:[12, 45, 23, 67, 78, 90, 45, 32, 100, 76, 38, 62, 73, 29, 83]Number of Items of the said list which are even and greater than 455"
      ]
    },
    {
      "cell_type": "code",
      "execution_count": null,
      "id": "43bbbef2",
      "metadata": {},
      "outputs": [],
      "source": []
    },
    {
      "cell_type": "markdown",
      "id": "256b8387",
      "metadata": {},
      "source": [
        "165.Write a Python program to split a given list into specified-sized chunks.Original list:[12, 45, 23, 67, 78, 90, 45, 32, 100, 76, 38, 62, 73, 29, 83]Split the said list into equal size 3[[12, 45, 23], [67, 78, 90], [45, 32, 100], [76, 38, 62], [73, 29, 83]]Split the said list into equal size 4[[12, 45, 23, 67], [78, 90, 45, 32], [100, 76, 38, 62], [73, 29, 83]]Split the said list into equal size 5[[12, 45, 23, 67, 78], [90, 45, 32, 100, 76], [38, 62, 73, 29, 83]]"
      ]
    },
    {
      "cell_type": "code",
      "execution_count": null,
      "id": "834d266e",
      "metadata": {},
      "outputs": [],
      "source": []
    },
    {
      "cell_type": "markdown",
      "id": "15f7fc30",
      "metadata": {},
      "source": [
        "166.Write a Python program to remove the None value from a given list.Original list:[12, 0, None, 23, None, -55, 234, 89, None, 0, 6, -12]Remove None value from the said list:[12, 0, 23, -55, 234, 89, 0, 6, -12]"
      ]
    },
    {
      "cell_type": "code",
      "execution_count": null,
      "id": "a3dffb93",
      "metadata": {},
      "outputs": [],
      "source": []
    },
    {
      "cell_type": "markdown",
      "id": "84408737",
      "metadata": {},
      "source": [
        "167.Write a Python program to convert a given list of strings into a list of lists.Original list of strings:['Red', 'Maroon', 'Yellow', 'Olive']Convert the said list of strings into list of lists:[['R', 'e', 'd'], ['M', 'a', 'r', 'o', 'o', 'n'], ['Y', 'e', 'l', 'l', 'o', 'w'], ['O', 'l', 'i', 'v', 'e']]"
      ]
    },
    {
      "cell_type": "code",
      "execution_count": null,
      "id": "3fab11cf",
      "metadata": {},
      "outputs": [],
      "source": []
    },
    {
      "cell_type": "markdown",
      "id": "695b9763",
      "metadata": {},
      "source": [
        "168.Write a Python program to display vertically each element of a given list, list of lists.Original list:['a', 'b', 'c', 'd', 'e', 'f']Display each element vertically of the said list:abcdefOriginal list:[[1, 2, 5], [4, 5, 8], [7, 3, 6]]Display each element vertically of the said list of lists:1 4 72 5 35 8 6"
      ]
    },
    {
      "cell_type": "code",
      "execution_count": null,
      "id": "57485801",
      "metadata": {},
      "outputs": [],
      "source": []
    },
    {
      "cell_type": "markdown",
      "id": "a82e29e4",
      "metadata": {},
      "source": [
        "169.Write a Python program to convert a given list of strings and characters to a single list of characters.Original list:['red', 'white', 'a', 'b', 'black', 'f']Convert the said list of strings and characters to a single list of characters:['r', 'e', 'd', 'w', 'h', 'i', 't', 'e', 'a', 'b', 'b', 'l', 'a', 'c', 'k', 'f']"
      ]
    },
    {
      "cell_type": "code",
      "execution_count": null,
      "id": "863f9d95",
      "metadata": {},
      "outputs": [],
      "source": []
    },
    {
      "cell_type": "markdown",
      "id": "05b2fe6d",
      "metadata": {},
      "source": [
        "170.Write a Python program to insert an element in a given list after every nth position.Original list:[1, 2, 3, 4, 5, 6, 7, 8, 9, 0]Insert a in the said list after 2 nd element:[1, 2, 'a', 3, 4, 'a', 5, 6, 'a', 7, 8, 'a', 9, 0]Insert b in the said list after 4 th element:[1, 2, 3, 4, 'b', 5, 6, 7, 8, 'b', 9, 0]"
      ]
    },
    {
      "cell_type": "code",
      "execution_count": null,
      "id": "85dcab07",
      "metadata": {},
      "outputs": [],
      "source": []
    },
    {
      "cell_type": "markdown",
      "id": "d5cf3aa8",
      "metadata": {},
      "source": [
        "171.Write a Python program to concatenate element-wise three given lists.Original lists:['0', '1', '2', '3', '4']['red', 'green', 'black', 'blue', 'white']['100', '200', '300', '400', '500']Concatenate element-wise three said lists:['0red100', '1green200', '2black300', '3blue400', '4white500']"
      ]
    },
    {
      "cell_type": "code",
      "execution_count": null,
      "id": "fed33f91",
      "metadata": {},
      "outputs": [],
      "source": []
    },
    {
      "cell_type": "markdown",
      "id": "36bdcb4d",
      "metadata": {},
      "source": [
        "172.Write a Python program to remove the last N number of elements from a given list.Original lists:[2, 3, 9, 8, 2, 0, 39, 84, 2, 2, 34, 2, 34, 5, 3, 5]Remove the last 3 elements from the said list:[2, 3, 9, 8, 2, 0, 39, 84, 2, 2, 34, 2, 34]Remove the last 5 elements from the said list:[2, 3, 9, 8, 2, 0, 39, 84, 2, 2, 34]Remove the last 1 element from the said list:[2, 3, 9, 8, 2, 0, 39, 84, 2, 2, 34, 2, 34, 5, 3]"
      ]
    },
    {
      "cell_type": "code",
      "execution_count": null,
      "id": "0a20824f",
      "metadata": {},
      "outputs": [],
      "source": []
    },
    {
      "cell_type": "markdown",
      "id": "ae6c8fcc",
      "metadata": {},
      "source": [
        "173.Write a Python program to merge some list items in a given list using the index value.Original lists:['a', 'b', 'c', 'd', 'e', 'f', 'g']Merge items from 2 to 4 in the said List:['a', 'b', 'cd', 'e', 'f', 'g']Merge items from 3 to 7 in the said List:['a', 'b', 'c', 'defg']"
      ]
    },
    {
      "cell_type": "code",
      "execution_count": null,
      "id": "2b488eb2",
      "metadata": {},
      "outputs": [],
      "source": []
    },
    {
      "cell_type": "markdown",
      "id": "038a9b69",
      "metadata": {},
      "source": [
        "174.Write a Python program to add a number to each element in a given list of numbers.Original lists:[3, 8, 9, 4, 5, 0, 5, 0, 3]Add 3 to each element in the said list:[6, 11, 12, 7, 8, 3, 8, 3, 6]Original lists:[3.2, 8, 9.9, 4.2, 5, 0.1, 5, 3.11, 0]Add 0.51 to each element in the said list:[3.71, 8.51, 10.41, 4.71, 5.51, 0.61, 5.51, 3.62, 0.51]"
      ]
    },
    {
      "cell_type": "code",
      "execution_count": null,
      "id": "51a38d5e",
      "metadata": {},
      "outputs": [],
      "source": []
    },
    {
      "cell_type": "markdown",
      "id": "33a01021",
      "metadata": {},
      "source": [
        "175.Write a Python program to find the minimum and maximum value for each tuple position in a given list of tuples.Original list:[(2, 3), (2, 4), (0, 6), (7, 1)]Maximum value for each tuple position in the said list of tuples:[7, 6]Minimum value for each tuple position in the said list of tuples:[0, 1]"
      ]
    },
    {
      "cell_type": "code",
      "execution_count": null,
      "id": "0b01e30f",
      "metadata": {},
      "outputs": [],
      "source": []
    },
    {
      "cell_type": "markdown",
      "id": "b5c13504",
      "metadata": {},
      "source": [
        "176.Write a Python program to create a new list by dividing two given lists of numbers.Original list:[7, 2, 3, 4, 9, 2, 3][7, 2, 3, 4, 9, 2, 3][0.7777777777777778, 0.25, 1.5, 1.3333333333333333, 3.0, 2.0, 1.5]"
      ]
    },
    {
      "cell_type": "code",
      "execution_count": null,
      "id": "7cbe96fd",
      "metadata": {},
      "outputs": [],
      "source": []
    },
    {
      "cell_type": "markdown",
      "id": "30e08179",
      "metadata": {},
      "source": [
        "177.Write a Python program to find common elements in a given list of lists.Original list:[[7, 2, 3, 4, 7], [9, 2, 3, 2, 5], [8, 2, 3, 4, 4]]Common elements of the said list of lists:[2, 3]Original list:[['a', 'b', 'c'], ['b', 'c', 'd'], ['c', 'd', 'e']]Common elements of the said list of lists:['c']"
      ]
    },
    {
      "cell_type": "code",
      "execution_count": null,
      "id": "744bdd2a",
      "metadata": {},
      "outputs": [],
      "source": []
    },
    {
      "cell_type": "markdown",
      "id": "05a6e903",
      "metadata": {},
      "source": [
        "178.Write a Python program to insert a specified element in a given list after every nth element.Original list:[1, 3, 5, 7, 9, 11, 0, 2, 4, 6, 8, 10, 8, 9, 0, 4, 3, 0]Insert 20 in said list after every 4 th element:[1, 3, 5, 7, 20, 9, 11, 0, 2, 20, 4, 6, 8, 10, 20, 8, 9, 0, 4, 20, 3, 0]Original list:['s', 'd', 'f', 'j', 's', 'a', 'j', 'd', 'f', 'd']Insert Z in said list after every 3 th element:['s', 'd', 'f', 'Z', 'j', 's', 'a', 'Z', 'j', 'd', 'f', 'Z', 'd']"
      ]
    },
    {
      "cell_type": "code",
      "execution_count": null,
      "id": "7c5ac142",
      "metadata": {},
      "outputs": [],
      "source": []
    },
    {
      "cell_type": "markdown",
      "id": "6a2d83c2",
      "metadata": {},
      "source": [
        "179.Write a Python program to create the largest possible number using the elements of a given list of positive integers.Original list:[3, 40, 41, 43, 74, 9]Largest possible number using the elements of the said list of positive integers:9744341403Original list:[10, 40, 20, 30, 50, 60]Largest possible number using the elements of the said list of positive integers:605040302010Original list:[8, 4, 2, 9, 5, 6, 1, 0]Largest possible number using the elements of the said list of positive integers:98654210"
      ]
    },
    {
      "cell_type": "code",
      "execution_count": null,
      "id": "1fb00a59",
      "metadata": {},
      "outputs": [],
      "source": []
    },
    {
      "cell_type": "markdown",
      "id": "ec195d32",
      "metadata": {},
      "source": [
        "180.Write a Python program to create the smallest possible number using the elements of a given list of positive integers.Original list:[3, 40, 41, 43, 74, 9]Smallest possible number using the elements of the said list of positive integers:3404143749Original list:[10, 40, 20, 30, 50, 60]Smallest possible number using the elements of the said list of positive integers:102030405060Original list:[8, 4, 2, 9, 5, 6, 1, 0]Smallest possible number using the elements of the said list of positive integers:01245689"
      ]
    },
    {
      "cell_type": "code",
      "execution_count": null,
      "id": "5251fdc1",
      "metadata": {},
      "outputs": [],
      "source": []
    },
    {
      "cell_type": "markdown",
      "id": "b247097f",
      "metadata": {},
      "source": [
        "181.Write a Python program to iterate a given list cyclically at a specific index position.Original list:['a', 'b', 'c', 'd', 'e', 'f', 'g', 'h']Iterate the said list cyclically on specific index position 3 :['d', 'e', 'f', 'g', 'h', 'a', 'b', 'c']Iterate the said list cyclically on specific index position 5 :['f', 'g', 'h', 'a', 'b', 'c', 'd', 'e']"
      ]
    },
    {
      "cell_type": "code",
      "execution_count": null,
      "id": "fcd7a6f0",
      "metadata": {},
      "outputs": [],
      "source": []
    },
    {
      "cell_type": "markdown",
      "id": "04cd3217",
      "metadata": {},
      "source": [
        "182.Write a Python program to calculate the maximum and minimum sum of a sublist in a given list of lists.Original list:[[1, 2, 3, 5], [2, 3, 5, 4], [0, 5, 4, 1], [3, 7, 2, 1], [1, 2, 1, 2]]Maximum sum of sub list of the said list of lists:[2, 3, 5, 4]Minimum sum of sub list of the said list of lists:[1, 2, 1, 2]"
      ]
    },
    {
      "cell_type": "code",
      "execution_count": null,
      "id": "c046f8a4",
      "metadata": {},
      "outputs": [],
      "source": []
    },
    {
      "cell_type": "markdown",
      "id": "1bf3a01c",
      "metadata": {},
      "source": [
        "183.Write a Python program to get the unique values in a given list of lists.Original list:[[1, 2, 3, 5], [2, 3, 5, 4], [0, 5, 4, 1], [3, 7, 2, 1], [1, 2, 1, 2]]Unique values of the said list of lists:[0, 1, 2, 3, 4, 5, 7]Original list:[['h', 'g', 'l', 'k'], ['a', 'b', 'd', 'e', 'c'], ['j', 'i', 'y'], ['n', 'b', 'v', 'c'], ['x', 'z']]Unique values of the said list of lists:['e', 'd', 'c', 'b', 'x', 'k', 'n', 'h', 'g', 'j', 'i', 'a', 'l', 'y', 'v', 'z']"
      ]
    },
    {
      "cell_type": "code",
      "execution_count": null,
      "id": "d98cbb1f",
      "metadata": {},
      "outputs": [],
      "source": []
    },
    {
      "cell_type": "markdown",
      "id": "f36816d6",
      "metadata": {},
      "source": [
        "184.Write a Python program to generate Bigrams of words from a given list of strings.From Wikipedia:A bigram or digram is a sequence of two adjacent elements from a string of tokens, which are typically letters, syllables, or words.A bigram is an n-gram for n=2.The frequency distribution of every bigram in a string is commonly used for simple statistical analysis of text in many applications, including in computational linguistics, cryptography, speech recognition, and so on.Original list:['Sum all the items in a list', 'Find the second smallest number in a list']Bigram sequence of the said list:[('Sum', 'all'), ('all', 'the'), ('the', 'items'), ('items', 'in'), ('in', 'a'), ('a', 'list'), ('Find', 'the'), ('the', 'second'), ('second', 'smallest'), ('smallest', 'number'), ('number', 'in'), ('in', 'a'), ('a', 'list')]"
      ]
    },
    {
      "cell_type": "code",
      "execution_count": null,
      "id": "8dfc3f9f",
      "metadata": {},
      "outputs": [],
      "source": []
    },
    {
      "cell_type": "markdown",
      "id": "b2f3ae24",
      "metadata": {},
      "source": [
        "185.Write a Python program to convert a given decimal number to a binary list.Original Number: 8Decimal number ( 8 ) to binary list:[1, 0, 0, 0]Original Number: 45Decimal number ( 45 ) to binary list:[1, 0, 1, 1, 0, 1]Original Number: 100Decimal number ( 100 ) to binary list:[1, 1, 0, 0, 1, 0, 0]"
      ]
    },
    {
      "cell_type": "code",
      "execution_count": null,
      "id": "d9bdb28e",
      "metadata": {},
      "outputs": [],
      "source": []
    },
    {
      "cell_type": "markdown",
      "id": "431c2dcb",
      "metadata": {},
      "source": [
        "186.Write a Python program to swap two sublists in a given list.Original list:[0, 1, 2, 3, 4, 5, 6, 7, 8, 9, 10, 11, 12, 13, 14, 15]Swap two sublists of the said list:[0, 6, 7, 8, 9, 3, 4, 5, 1, 2, 10, 11, 12, 13, 14, 15]Swap two sublists of the said list:[0, 9, 3, 8, 6, 7, 4, 5, 1, 2, 10, 11, 12, 13, 14, 15]"
      ]
    },
    {
      "cell_type": "code",
      "execution_count": null,
      "id": "a47a365b",
      "metadata": {},
      "outputs": [],
      "source": []
    },
    {
      "cell_type": "markdown",
      "id": "849c2b72",
      "metadata": {},
      "source": [
        "187.Write a Python program to convert a given list of tuples to a list of strings.Original list of tuples:[('red', 'green'), ('black', 'white'), ('orange', 'pink')]Convert the said list of tuples to a list of strings:['red green', 'black white', 'orange pink']Original list of tuples:[('Laiba', 'Delacruz'), ('Mali', 'Stacey', 'Drummond'), ('Raja', 'Welch'), ('Saarah', 'Stone')]Convert the said list of tuples to a list of strings:['Laiba Delacruz', 'Mali Stacey Drummond', 'Raja Welch', 'Saarah Stone']"
      ]
    },
    {
      "cell_type": "code",
      "execution_count": null,
      "id": "8683a1bf",
      "metadata": {},
      "outputs": [],
      "source": []
    },
    {
      "cell_type": "markdown",
      "id": "5f6a9480",
      "metadata": {},
      "source": [
        "188.Write a Python program to sort a given list of tuples by a specified element.Original list of tuples:[('item2', 10, 10.12), ('item3', 15, 25.1), ('item1', 11, 24.5), ('item4', 12, 22.5)]Sort on 1st element of the tuple of the said list:[('item1', 11, 24.5), ('item2', 10, 10.12), ('item3', 15, 25.1), ('item4', 12, 22.5)]Sort on 2nd element of the tuple of the said list:[('item2', 10, 10.12), ('item1', 11, 24.5), ('item4', 12, 22.5), ('item3', 15, 25.1)]Sort on 3rd element of the tuple of the said list:[('item2', 10, 10.12), ('item4', 12, 22.5), ('item1', 11, 24.5), ('item3', 15, 25.1)]"
      ]
    },
    {
      "cell_type": "code",
      "execution_count": null,
      "id": "8e5c2bd0",
      "metadata": {},
      "outputs": [],
      "source": []
    },
    {
      "cell_type": "markdown",
      "id": "a099f1b7",
      "metadata": {},
      "source": [
        "189.Write a Python program to shift last element to first position and first element to last position in a given list.Original list:[1, 2, 3, 4, 5, 6, 7]Shift last element to first position and first element to last position of the said list:[7, 2, 3, 4, 5, 6, 1]Original list:['s', 'd', 'f', 'd', 's', 's', 'd', 'f']Shift last element to first position and first element to last position of the said list:['f', 'd', 'f', 'd', 's', 's', 'd', 's']"
      ]
    },
    {
      "cell_type": "code",
      "execution_count": null,
      "id": "6f7c9097",
      "metadata": {},
      "outputs": [],
      "source": []
    },
    {
      "cell_type": "markdown",
      "id": "69419d19",
      "metadata": {},
      "source": [
        "190.Write a Python program to find the specified number of largest products from two given lists, multiplying an element from each list.Original lists:[1, 2, 3, 4, 5, 6][3, 6, 8, 9, 10, 6]3 Number of largest products from the said two lists:[60, 54, 50]4 Number of largest products from the said two lists:[60, 54, 50, 48]"
      ]
    },
    {
      "cell_type": "code",
      "execution_count": null,
      "id": "c993410a",
      "metadata": {},
      "outputs": [],
      "source": []
    },
    {
      "cell_type": "markdown",
      "id": "110b559c",
      "metadata": {},
      "source": [
        "191.Write a Python program to find the maximum and minimum values of the three given lists.Original lists:[2, 3, 5, 8, 7, 2, 3][4, 3, 9, 0, 4, 3, 9][2, 1, 5, 6, 5, 5, 4]Maximum value of the said three lists:9Minimum value of the said three lists:0"
      ]
    },
    {
      "cell_type": "code",
      "execution_count": null,
      "id": "f7d5bf8c",
      "metadata": {},
      "outputs": [],
      "source": []
    },
    {
      "cell_type": "markdown",
      "id": "1007e415",
      "metadata": {},
      "source": [
        "192.Write a Python program to remove all strings from a given list of tuples.Original list:[(100, 'Math'), (80, 'Math'), (90, 'Math'), (88, 'Science', 89), (90, 'Science', 92)]Remove all strings from the said list of tuples:[(100,), (80,), (90,), (88, 89), (90, 92)]"
      ]
    },
    {
      "cell_type": "code",
      "execution_count": null,
      "id": "9af3938b",
      "metadata": {},
      "outputs": [],
      "source": []
    },
    {
      "cell_type": "markdown",
      "id": "cd300bcf",
      "metadata": {},
      "source": [
        "193.Write a Python program to find the dimension of a given matrix.Original list:[[1, 2], [2, 4]]Dimension of the said matrix:(2, 2)Original list:[[0, 1, 2], [2, 4, 5]]Dimension of the said matrix:(2, 3)Original list:[[0, 1, 2], [2, 4, 5], [2, 3, 4]]Dimension of the said matrix:(3, 3)"
      ]
    },
    {
      "cell_type": "code",
      "execution_count": null,
      "id": "f4336907",
      "metadata": {},
      "outputs": [],
      "source": []
    },
    {
      "cell_type": "markdown",
      "id": "e22f95aa",
      "metadata": {},
      "source": [
        "194.Write a Python program to sum two or more lists.The lengths of the lists may be different.Original list:[[1, 2, 4], [2, 4, 4], [1, 2]]Sum said lists with different lengths:[4, 8, 8]Original list:[[1], [2, 4, 4], [1, 2], [4]]Sum said lists with different lengths:[8, 6, 4]"
      ]
    },
    {
      "cell_type": "code",
      "execution_count": null,
      "id": "fd975fef",
      "metadata": {},
      "outputs": [],
      "source": []
    },
    {
      "cell_type": "markdown",
      "id": "a58b2177",
      "metadata": {},
      "source": [
        "195.Write a Python program to traverse a given list in reverse order, and print the elements with the original index.Original list:['red', 'green', 'white', 'black']Traverse the said list in reverse order:blackwhitegreenredTraverse the said list in reverse order with original index:3 black2 white1 green0 red"
      ]
    },
    {
      "cell_type": "code",
      "execution_count": null,
      "id": "66b1f4ef",
      "metadata": {},
      "outputs": [],
      "source": []
    },
    {
      "cell_type": "markdown",
      "id": "4afe0fe9",
      "metadata": {},
      "source": [
        "196.Write a Python program to move a specified element in a given list.Original list:['red', 'green', 'white', 'black', 'orange']Move white at the end of the said list:['red', 'green', 'black', 'orange', 'white']Original list:['red', 'green', 'white', 'black', 'orange']Move red at the end of the said list:['green', 'white', 'black', 'orange', 'red']Original list:['red', 'green', 'white', 'black', 'orange']Move black at the end of the said list:['red', 'green', 'white', 'orange', 'black']"
      ]
    },
    {
      "cell_type": "code",
      "execution_count": null,
      "id": "a7b02bdd",
      "metadata": {},
      "outputs": [],
      "source": []
    },
    {
      "cell_type": "markdown",
      "id": "4d181051",
      "metadata": {},
      "source": [
        "197.Write a Python program to compute the average of the n-th element in a given list of lists with different lengths.Original list:[[0, 1, 2], [2, 3, 4], [3, 4, 5, 6], [7, 8, 9, 10, 11], [12, 13, 14]]Average of n-th elements in the said list of lists with different lengths:[4.8, 5.8, 6.8, 8.0, 11.0]"
      ]
    },
    {
      "cell_type": "code",
      "execution_count": null,
      "id": "ecc113e4",
      "metadata": {},
      "outputs": [],
      "source": []
    },
    {
      "cell_type": "markdown",
      "id": "73cb7070",
      "metadata": {},
      "source": [
        "198.Write a Python program to compare two given lists and find the indices of the values present in both lists.Original lists:[1, 2, 3, 4, 5, 6][7, 8, 5, 2, 10, 12]Compare said two lists and get the indices of the values present in both lists:[1, 4]Original lists:[1, 2, 3, 4, 5, 6][7, 8, 5, 7, 10, 12]Compare said two lists and get the indices of the values present in both lists:[4]Original lists:[1, 2, 3, 4, 15, 6][7, 8, 5, 7, 10, 12]Compare said two lists and get the indices of the values present in both lists:[]"
      ]
    },
    {
      "cell_type": "code",
      "execution_count": null,
      "id": "470b30f5",
      "metadata": {},
      "outputs": [],
      "source": []
    },
    {
      "cell_type": "markdown",
      "id": "1045de5d",
      "metadata": {},
      "source": [
        "199.Write a Python program to convert a Unicode list to a list of strings.Original lists:['S001', 'S002', 'S003', 'S004']Convert the said unicode list to a list contains strings:['S001', 'S002', 'S003', 'S004']"
      ]
    },
    {
      "cell_type": "code",
      "execution_count": null,
      "id": "29e95193",
      "metadata": {},
      "outputs": [],
      "source": []
    },
    {
      "cell_type": "markdown",
      "id": "cfef5292",
      "metadata": {},
      "source": [
        "200.Write a Python program to pair consecutive elements of a given list.Original lists:[1, 2, 3, 4, 5, 6]Pair up the consecutive elements of the said list:[[1, 2], [2, 3], [3, 4], [4, 5], [5, 6]]Original lists:[1, 2, 3, 4, 5]Pair up the consecutive elements of the said list:[[1, 2], [2, 3], [3, 4], [4, 5]]"
      ]
    },
    {
      "cell_type": "code",
      "execution_count": null,
      "id": "a5c89982",
      "metadata": {},
      "outputs": [],
      "source": []
    },
    {
      "cell_type": "markdown",
      "id": "048ab60d",
      "metadata": {},
      "source": [
        "201.Write a Python program to check if a given string contains an element that is present in a list.The original string and list: https://www.w3resource.com/python-exercises/list/['.com', '.edu', '.tv']Check if https://www.w3resource.com/python-exercises/list/ contains an element, which is present in the list ['.com', '.edu', '.tv']TrueThe original string and list: https://www.w3resource.nethttps://www.w3resource.net['.com', '.edu', '.tv']Check if https://www.w3resource.net contains an element, which is present in the list ['.com', '.edu', '.tv']False"
      ]
    },
    {
      "cell_type": "code",
      "execution_count": null,
      "id": "e86b9310",
      "metadata": {},
      "outputs": [],
      "source": []
    },
    {
      "cell_type": "markdown",
      "id": "14149085",
      "metadata": {},
      "source": [
        "202.Write a Python program to find the indexes of all None items in a given list.Original list:[1, None, 5, 4, None, 0, None, None]Indexes of all None items of the list:[1, 4, 6, 7]"
      ]
    },
    {
      "cell_type": "code",
      "execution_count": null,
      "id": "587852db",
      "metadata": {},
      "outputs": [],
      "source": []
    },
    {
      "cell_type": "markdown",
      "id": "71501da3",
      "metadata": {},
      "source": [
        "203.Write a Python program to join adjacent members of a given list.Original list:['1', '2', '3', '4', '5', '6', '7', '8']Join adjacent members of a given list:['12', '34', '56', '78']Original list:['1', '2', '3']Join adjacent members of a given list:['12']"
      ]
    },
    {
      "cell_type": "code",
      "execution_count": null,
      "id": "f522e4a1",
      "metadata": {},
      "outputs": [],
      "source": []
    },
    {
      "cell_type": "markdown",
      "id": "d146742a",
      "metadata": {},
      "source": [
        "204.Write a Python program to check if the first digit or character of each element in a list is the same.Original list:[1234, 122, 1984, 19372, 100]Check if first digit in each element of the said given list is same or not!TrueOriginal list:[1234, 922, 1984, 19372, 100]Check if first digit in each element of the said given list is same or not!FalseOriginal list:['aabc', 'abc', 'ab', 'a']Check if first character in each element of the said given list is same or not!TrueOriginal list:['aabc', 'abc', 'ab', 'ha']Check if first character in each element of the said given list is same or not!False"
      ]
    },
    {
      "cell_type": "code",
      "execution_count": null,
      "id": "e9852905",
      "metadata": {},
      "outputs": [],
      "source": []
    },
    {
      "cell_type": "markdown",
      "id": "e651ee04",
      "metadata": {},
      "source": [
        "205.Write a Python program to find the indices of elements in a given list that are greater than a specified value.Original list:[1234, 1522, 1984, 19372, 1000, 2342, 7626]Indices of elements of the said list, greater than 3000[3, 6]Original list:[1234, 1522, 1984, 19372, 1000, 2342, 7626]Indices of elements of the said list, greater than 20000[]"
      ]
    },
    {
      "cell_type": "code",
      "execution_count": null,
      "id": "86f2fbd5",
      "metadata": {},
      "outputs": [],
      "source": []
    },
    {
      "cell_type": "markdown",
      "id": "bd2ec4f0",
      "metadata": {},
      "source": [
        "206.Write a Python program to remove additional spaces from a given list.Original list:['abc ', ' ', ' ', 'sdfds ', ' ', ' ', 'sdfds ', 'huy']Remove additional spaces from the said list:['abc', '', '', 'sdfds', '', '', 'sdfds', 'huy']"
      ]
    },
    {
      "cell_type": "code",
      "execution_count": null,
      "id": "b6a0887a",
      "metadata": {},
      "outputs": [],
      "source": []
    },
    {
      "cell_type": "markdown",
      "id": "35ad3ac7",
      "metadata": {},
      "source": [
        "207.Write a Python program to find the common tuples between two given lists.Original lists:[('red', 'green'), ('black', 'white'), ('orange', 'pink')][('red', 'green'), ('orange', 'pink')]Common tuples between two said lists[('orange', 'pink'), ('red', 'green')]Original lists:[('red', 'green'), ('orange', 'pink')][('red', 'green'), ('black', 'white'), ('orange', 'pink')]Common tuples between two said lists[('orange', 'pink'), ('red', 'green')]"
      ]
    },
    {
      "cell_type": "code",
      "execution_count": null,
      "id": "9b4d867a",
      "metadata": {},
      "outputs": [],
      "source": []
    },
    {
      "cell_type": "markdown",
      "id": "fe5797d6",
      "metadata": {},
      "source": [
        "208.Sum a list of numbers.Write a Python program to sum the first number with the second and divide it by 2, then sum the second with the third and divide by 2, and so on.Original list:[1, 2, 3, 4, 5, 6, 7]Sum the said list of numbers:[1.5, 2.5, 3.5, 4.5, 5.5, 6.5]Original list:[0, 1, -3, 3, 7, -5, 6, 7, 11]Sum the said list of numbers:[0.5, -1.0, 0.0, 5.0, 1.0, 0.5, 6.5, 9.0]"
      ]
    },
    {
      "cell_type": "code",
      "execution_count": null,
      "id": "cac2006e",
      "metadata": {},
      "outputs": [],
      "source": []
    },
    {
      "cell_type": "markdown",
      "id": "fdcb00cc",
      "metadata": {},
      "source": [
        "209.Write a Python program to count the number of groups of non-zero numbers separated by zeros in a given list of numbers.Original list:[3, 4, 6, 2, 0, 0, 0, 0, 0, 0, 6, 7, 6, 9, 10, 0, 0, 0, 0, 0, 5, 9, 9, 7, 4, 4, 0, 0, 0, 0, 0, 0, 5, 3, 2, 9, 7, 1]Number of groups of non-zero numbers separated by zeros of the said list:4"
      ]
    },
    {
      "cell_type": "code",
      "execution_count": null,
      "id": "5ba77530",
      "metadata": {},
      "outputs": [],
      "source": []
    },
    {
      "cell_type": "markdown",
      "id": "6f77af41",
      "metadata": {},
      "source": [
        "210.Write a Python program to compute the sum of non-zero groups (separated by zeros) of a given list of numbers.Original list:[3, 4, 6, 2, 0, 0, 0, 0, 0, 0, 6, 7, 6, 9, 10, 0, 0, 0, 0, 0, 7, 4, 4, 0, 0, 0, 0, 0, 0, 5, 3, 2, 9, 7, 1, 0, 0, 0]Compute the sum of non-zero groups (separated by zeros) of the said list of numbers:[15, 38, 15, 27]"
      ]
    },
    {
      "cell_type": "code",
      "execution_count": null,
      "id": "0d5077f8",
      "metadata": {},
      "outputs": [],
      "source": []
    },
    {
      "cell_type": "markdown",
      "id": "e48b79be",
      "metadata": {},
      "source": [
        "211.Write a Python program to remove an element from a given list.Original list:['Ricky Rivera', 98, 'Math', 90, 'Science']After deleting an element:, using index of the element:[98, 'Math', 90, 'Science']"
      ]
    },
    {
      "cell_type": "code",
      "execution_count": null,
      "id": "07f80891",
      "metadata": {},
      "outputs": [],
      "source": []
    },
    {
      "cell_type": "markdown",
      "id": "3a9b4a37",
      "metadata": {},
      "source": [
        "212.Write a Python program to remove all values except integer values from a given array of mixed values.Original list: [34.67, 12, -94.89, 'Python', 0, 'C#']After removing all the values except integer values from the said array of mixed values:[12, 0]"
      ]
    },
    {
      "cell_type": "code",
      "execution_count": null,
      "id": "8f45ced5",
      "metadata": {},
      "outputs": [],
      "source": []
    },
    {
      "cell_type": "markdown",
      "id": "6f1cbd1e",
      "metadata": {},
      "source": [
        "213.Write a Python program to calculate the sum of two lowest negative numbers in a given array of integers.An integer (from the Latin integer meaning \"whole\") is colloquially defined as a number that can be written without a fractional component.For example, 21, 4, 0, and -2048 are integers.Original list elements:[-14, 15, -10, -11, -12, -13, 16, 17, 18, 19, 20]Sum of two lowest negative numbers of the said array of integers: -27Original list elements:[-4, 5, -2, 0, 3, -1, 4, 9]Sum of two lowest negative numbers of the said array of integers: -6"
      ]
    },
    {
      "cell_type": "code",
      "execution_count": null,
      "id": "967f0805",
      "metadata": {},
      "outputs": [],
      "source": []
    },
    {
      "cell_type": "markdown",
      "id": "fb6a8557",
      "metadata": {},
      "source": [
        "214.Write a Python program to sort a given positive number in descending/ascending order.Descending -> Highest to lowest.Ascending -> Lowest to highestOriginal Number: 134543Descending order of the said number: 544331Ascending order of the said number: 133445Original Number: 43750973Descending order of the said number: 97754330Ascending order of the said number: 3345779"
      ]
    },
    {
      "cell_type": "code",
      "execution_count": null,
      "id": "beaceaef",
      "metadata": {},
      "outputs": [],
      "source": []
    },
    {
      "cell_type": "markdown",
      "id": "bcd1fb9f",
      "metadata": {},
      "source": [
        "215.Write a Python program to merge two or more lists into a list of lists, combining elements from each of the input lists based on their positions.Sample Output:After merging lists into a list of lists:[['a', 1, True], ['b', 2, False]][['a', 1, True], [None, 2, False]][['a', 1, True], ['_', 2, False]]"
      ]
    },
    {
      "cell_type": "code",
      "execution_count": null,
      "id": "83b5fedd",
      "metadata": {},
      "outputs": [],
      "source": []
    },
    {
      "cell_type": "markdown",
      "id": "8fbbb4b2",
      "metadata": {},
      "source": [
        "216.Write a Python program to group the elements of a list based on the given function and return the count of elements in each group.Sample Output:{6: 2, 4: 1}{3: 2, 5: 1}"
      ]
    },
    {
      "cell_type": "code",
      "execution_count": null,
      "id": "6d624dcd",
      "metadata": {},
      "outputs": [],
      "source": []
    },
    {
      "cell_type": "markdown",
      "id": "806efd68",
      "metadata": {},
      "source": [
        "217.Write a Python program to split values into two groups, based on the result of the given filtering function.Sample Output:[['white'], ['red', 'green', 'black']]"
      ]
    },
    {
      "cell_type": "code",
      "execution_count": null,
      "id": "97fc36da",
      "metadata": {},
      "outputs": [],
      "source": []
    },
    {
      "cell_type": "markdown",
      "id": "008bedfc",
      "metadata": {},
      "source": [
        "218.Write a Python program to sort one list based on another list containing the desired indexes.Sample Output:['apples', 'bread', 'eggs', 'jam', 'milk', 'oranges']['oranges', 'milk', 'jam', 'eggs', 'bread', 'apples']"
      ]
    },
    {
      "cell_type": "code",
      "execution_count": null,
      "id": "90b27be5",
      "metadata": {},
      "outputs": [],
      "source": []
    },
    {
      "cell_type": "markdown",
      "id": "83ef63c5",
      "metadata": {},
      "source": [
        "219.Write a Python program to build a list, using an iterator function and an initial seed value.Sample Output:[-10, -20, -30, -40]"
      ]
    },
    {
      "cell_type": "code",
      "execution_count": null,
      "id": "34b86620",
      "metadata": {},
      "outputs": [],
      "source": []
    },
    {
      "cell_type": "markdown",
      "id": "b997911d",
      "metadata": {},
      "source": [
        "220.Write a Python program to map the values of a list to a dictionary using a function, where the key-value pairs consist of the original value as the key and the result of the function as the value.Sample Output:{1: 1, 2: 4, 3: 9}"
      ]
    },
    {
      "cell_type": "code",
      "execution_count": null,
      "id": "807dd368",
      "metadata": {},
      "outputs": [],
      "source": []
    },
    {
      "cell_type": "markdown",
      "id": "4b8905f9",
      "metadata": {},
      "source": [
        "221.Write a Python program to randomize the order of the values of a list, returning a new list.Sample Output:Original list: [1, 2, 3, 4, 5, 6]Shuffle the elements of the said list:[3, 2, 4, 1, 6, 5]"
      ]
    },
    {
      "cell_type": "code",
      "execution_count": null,
      "id": "2b9a7914",
      "metadata": {},
      "outputs": [],
      "source": []
    },
    {
      "cell_type": "markdown",
      "id": "f2e901cd",
      "metadata": {},
      "source": [
        "222.Write a Python program to get the difference between two given lists, after applying the provided function to each list element of both.Sample Output:[1.2][{'x': 2}]"
      ]
    },
    {
      "cell_type": "code",
      "execution_count": null,
      "id": "3c472a13",
      "metadata": {},
      "outputs": [],
      "source": []
    },
    {
      "cell_type": "markdown",
      "id": "efdbe806",
      "metadata": {},
      "source": [
        "223.Write a Python program to create a list with non-unique values filtered out.Sample Output:[1, 3, 5]"
      ]
    },
    {
      "cell_type": "code",
      "execution_count": null,
      "id": "a22dafdc",
      "metadata": {},
      "outputs": [],
      "source": []
    },
    {
      "cell_type": "markdown",
      "id": "a3c525aa",
      "metadata": {},
      "source": [
        "224.Write a Python program to create a list with unique values filtered out.Sample Output:[2, 4]"
      ]
    },
    {
      "cell_type": "code",
      "execution_count": null,
      "id": "358acfaa",
      "metadata": {},
      "outputs": [],
      "source": []
    },
    {
      "cell_type": "markdown",
      "id": "7a59be4f",
      "metadata": {},
      "source": [
        "225.Write a Python program to retrieve the value of the nested key indicated by the given selector list from a dictionary or list.Sample Output:Harwood2"
      ]
    },
    {
      "cell_type": "code",
      "execution_count": null,
      "id": "a43922f6",
      "metadata": {},
      "outputs": [],
      "source": []
    },
    {
      "cell_type": "markdown",
      "id": "b8142c9b",
      "metadata": {},
      "source": [
        "226.Write a Python program to get a list of elements that exist in both lists, after applying the provided function to each list element of both.Sample Output:[2.1]"
      ]
    },
    {
      "cell_type": "code",
      "execution_count": null,
      "id": "3aaf59bb",
      "metadata": {},
      "outputs": [],
      "source": []
    },
    {
      "cell_type": "markdown",
      "id": "60859ee1",
      "metadata": {},
      "source": [
        "227.Write a Python program to get the symmetric difference between two lists, after applying the provided function to each list element of both.Sample Output:[1.2, 3.4]"
      ]
    },
    {
      "cell_type": "code",
      "execution_count": null,
      "id": "f63428b8",
      "metadata": {},
      "outputs": [],
      "source": []
    },
    {
      "cell_type": "markdown",
      "id": "1eeee3df",
      "metadata": {},
      "source": [
        "228.Write a Python program to get every element that exists in any of the two given lists once, after applying the provided function to each element of both.Sample Output:[2.2, 4.1]"
      ]
    },
    {
      "cell_type": "code",
      "execution_count": null,
      "id": "fedb864e",
      "metadata": {},
      "outputs": [],
      "source": []
    },
    {
      "cell_type": "markdown",
      "id": "7def1da8",
      "metadata": {},
      "source": [
        "229.Write a Python program to find the index of the first element in the given list that satisfies the provided testing function.Sample Output:0"
      ]
    },
    {
      "cell_type": "code",
      "execution_count": null,
      "id": "336d6bec",
      "metadata": {},
      "outputs": [],
      "source": []
    },
    {
      "cell_type": "markdown",
      "id": "246ed820",
      "metadata": {},
      "source": [
        "230.Write a Python program to find the indexes of all elements in the given list that satisfy the provided testing function.Sample Output:[0, 2]"
      ]
    },
    {
      "cell_type": "code",
      "execution_count": null,
      "id": "6c6de3a7",
      "metadata": {},
      "outputs": [],
      "source": []
    },
    {
      "cell_type": "markdown",
      "id": "429558a4",
      "metadata": {},
      "source": [
        "231.Write a Python program to split values into two groups, based on the result of the given filter list.Sample Output:[['red', 'green', 'pink'], ['blue']]"
      ]
    },
    {
      "cell_type": "code",
      "execution_count": null,
      "id": "068f32a5",
      "metadata": {},
      "outputs": [],
      "source": []
    },
    {
      "cell_type": "markdown",
      "id": "374837a2",
      "metadata": {},
      "source": [
        "232.Write a Python program to chunk a given list into smaller lists of a specified size.Sample Output:[[1, 2, 3], [4, 5, 6], [7, 8]]"
      ]
    },
    {
      "cell_type": "code",
      "execution_count": null,
      "id": "a9069f2f",
      "metadata": {},
      "outputs": [],
      "source": []
    },
    {
      "cell_type": "markdown",
      "id": "1348e388",
      "metadata": {},
      "source": [
        "233.Write a Python program to chunk a given list into n smaller lists.Sample Output:[[1, 2], [3, 4], [5, 6], [7]]"
      ]
    },
    {
      "cell_type": "code",
      "execution_count": null,
      "id": "d78e6091",
      "metadata": {},
      "outputs": [],
      "source": []
    },
    {
      "cell_type": "markdown",
      "id": "ec06b0e7",
      "metadata": {},
      "source": [
        "234.Write a Python program to convert a given number (integer) to a list of digits.Sample Output:[1, 2, 3][1, 3, 4, 7, 8, 2, 3]"
      ]
    },
    {
      "cell_type": "code",
      "execution_count": null,
      "id": "0d5b58bf",
      "metadata": {},
      "outputs": [],
      "source": []
    },
    {
      "cell_type": "markdown",
      "id": "90148b00",
      "metadata": {},
      "source": [
        "235.Write a Python program to find the index of the last element in the given list that satisfies the provided testing function.Sample Output:2"
      ]
    },
    {
      "cell_type": "code",
      "execution_count": null,
      "id": "4fef4a38",
      "metadata": {},
      "outputs": [],
      "source": []
    },
    {
      "cell_type": "markdown",
      "id": "a5bd866c",
      "metadata": {},
      "source": [
        "236.Write a Python program to find items that are parity outliers in a given list.Sample Output:[1, 3][2, 4, 6]"
      ]
    },
    {
      "cell_type": "code",
      "execution_count": null,
      "id": "38cddbb1",
      "metadata": {},
      "outputs": [],
      "source": []
    },
    {
      "cell_type": "markdown",
      "id": "cc7c7c53",
      "metadata": {},
      "source": [
        "237.Write a Python program to convert a given list of dictionaries into a list of values corresponding to the specified key.Sample Output:[8, 36, 34, 10]"
      ]
    },
    {
      "cell_type": "code",
      "execution_count": null,
      "id": "54c6b823",
      "metadata": {},
      "outputs": [],
      "source": []
    },
    {
      "cell_type": "markdown",
      "id": "3c878283",
      "metadata": {},
      "source": [
        "238.Write a Python program to calculate the average of a given list, after mapping each element to a value using the provided function.Sample Output:5.015.0"
      ]
    },
    {
      "cell_type": "code",
      "execution_count": null,
      "id": "3d8fc7f8",
      "metadata": {},
      "outputs": [],
      "source": []
    },
    {
      "cell_type": "markdown",
      "id": "20375ea1",
      "metadata": {},
      "source": [
        "239.Write a Python program to find the value of the first element in the given list that satisfies the provided testing function.Sample Output:12"
      ]
    },
    {
      "cell_type": "code",
      "execution_count": null,
      "id": "5e48c22d",
      "metadata": {},
      "outputs": [],
      "source": []
    },
    {
      "cell_type": "markdown",
      "id": "3c88507d",
      "metadata": {},
      "source": [
        "240.Write a Python program to find the value of the last element in the given list that satisfies the provided testing function.Sample Output:34"
      ]
    },
    {
      "cell_type": "code",
      "execution_count": null,
      "id": "d961ad64",
      "metadata": {},
      "outputs": [],
      "source": []
    },
    {
      "cell_type": "markdown",
      "id": "962c6e26",
      "metadata": {},
      "source": [
        "241.Write a Python program to create a dictionary with the unique values of a given list as keys and their frequencies as values.Sample Output:{'a': 4, 'b': 2, 'f': 2, 'c': 1, 'e': 2}{3: 4, 4: 2, 7: 1, 5: 2, 9: 1, 0: 1, 2: 1}"
      ]
    },
    {
      "cell_type": "code",
      "execution_count": null,
      "id": "84b4ae53",
      "metadata": {},
      "outputs": [],
      "source": []
    },
    {
      "cell_type": "markdown",
      "id": "7dfcb047",
      "metadata": {},
      "source": [
        "242.Write a Python program to get the symmetric difference between two iterables, without filtering out duplicate values.Sample Output:[30, 40]"
      ]
    },
    {
      "cell_type": "code",
      "execution_count": null,
      "id": "f18cb494",
      "metadata": {},
      "outputs": [],
      "source": []
    },
    {
      "cell_type": "markdown",
      "id": "04068336",
      "metadata": {},
      "source": [
        "243.Write a Python program to check if a given function returns True for every element in a list.Sample Output:TrueFalseFalse"
      ]
    },
    {
      "cell_type": "code",
      "execution_count": null,
      "id": "eeffb6bf",
      "metadata": {},
      "outputs": [],
      "source": []
    },
    {
      "cell_type": "markdown",
      "id": "44e3a8a4",
      "metadata": {},
      "source": [
        "244.Write a Python program to initialize a list containing the numbers in the specified range where start and end are inclusive and the ratio between two terms is step.Return an error if step equals 1.Sample Output:[1, 2, 4, 8, 16, 32, 64, 128, 256][3, 6, 12, 24, 48, 96, 192][1, 4, 16, 64, 256]"
      ]
    },
    {
      "cell_type": "code",
      "execution_count": null,
      "id": "4f80d6aa",
      "metadata": {},
      "outputs": [],
      "source": []
    },
    {
      "cell_type": "markdown",
      "id": "46c5ae29",
      "metadata": {},
      "source": [
        "245.Write a Python program that takes any number of iterable objects or objects with a length property and returns the longest one.Sample Output:Green[1, 2, 3, 4, 5][1, 2, 3, 4]"
      ]
    },
    {
      "cell_type": "code",
      "execution_count": null,
      "id": "fed77e34",
      "metadata": {},
      "outputs": [],
      "source": []
    },
    {
      "cell_type": "markdown",
      "id": "4739506d",
      "metadata": {},
      "source": [
        "246.Write a Python program to check if a given function returns True for at least one element in the list.Sample Output:TrueFalse"
      ]
    },
    {
      "cell_type": "code",
      "execution_count": null,
      "id": "b2848b48",
      "metadata": {},
      "outputs": [],
      "source": []
    },
    {
      "cell_type": "markdown",
      "id": "37dac714",
      "metadata": {},
      "source": [
        "247.Write a Python program to calculate the difference between two iterables, without filtering duplicate values.Sample Output:[3]"
      ]
    },
    {
      "cell_type": "code",
      "execution_count": null,
      "id": "8a51f13a",
      "metadata": {},
      "outputs": [],
      "source": []
    },
    {
      "cell_type": "markdown",
      "id": "9f819c57",
      "metadata": {},
      "source": [
        "248.Write a Python program to get the maximum value of a list, after mapping each element to a value using a given function.Sample Output:8"
      ]
    },
    {
      "cell_type": "code",
      "execution_count": null,
      "id": "6a753534",
      "metadata": {},
      "outputs": [],
      "source": []
    },
    {
      "cell_type": "markdown",
      "id": "deab68bb",
      "metadata": {},
      "source": [
        "249.Write a Python program to get the minimum value of a list, after mapping each element to a value using a given function.Sample Output:2"
      ]
    },
    {
      "cell_type": "code",
      "execution_count": null,
      "id": "2e7254c2",
      "metadata": {},
      "outputs": [],
      "source": []
    },
    {
      "cell_type": "markdown",
      "id": "34d35aa8",
      "metadata": {},
      "source": [
        "250.Write a Python program to calculate the sum of a list, after mapping each element to a value using the provided function.Sample Output:20"
      ]
    },
    {
      "cell_type": "code",
      "execution_count": null,
      "id": "20174418",
      "metadata": {},
      "outputs": [],
      "source": []
    },
    {
      "cell_type": "markdown",
      "id": "64b67fa4",
      "metadata": {},
      "source": [
        "251.Write a Python program that fills a list with the specified value.Sample Output:[0, 0, 0, 0, 0, 0, 0][3, 3, 3, 3, 3, 3, 3, 3][-2, -2, -2, -2, -2][3.2, 3.2, 3.2, 3.2, 3.2]"
      ]
    },
    {
      "cell_type": "code",
      "execution_count": null,
      "id": "ad319ecb",
      "metadata": {},
      "outputs": [],
      "source": []
    },
    {
      "cell_type": "markdown",
      "id": "4880ec7c",
      "metadata": {},
      "source": [
        "252.Write a Python program to get the n maximum elements from a given list of numbers.Sample Output:Original list elements:[1, 2, 3]Maximum values of the said list: [3]Original list elements:[1, 2, 3]Two maximum values of the said list: [3, 2]Original list elements:[-2, -3, -1, -2, -4, 0, -5]Threee maximum values of the said list: [0, -1, -2]Original list elements:[2.2, 2, 3.2, 4.5, 4.6, 5.2, 2.9]Two maximum values of the said list: [5.2, 4.6]"
      ]
    },
    {
      "cell_type": "code",
      "execution_count": null,
      "id": "94b21867",
      "metadata": {},
      "outputs": [],
      "source": []
    },
    {
      "cell_type": "markdown",
      "id": "4b4c625e",
      "metadata": {},
      "source": [
        "253.Write a Python program to get the n minimum elements from a given list of numbers.Sample Output:Original list elements:[1, 2, 3]Minimum values of the said list: [1]Original list elements:[1, 2, 3]Two minimum values of the said list: [1, 2]Original list elements:[-2, -3, -1, -2, -4, 0, -5]Threee minimum values of the said list: [-5, -4, -3]Original list elements:[2.2, 2, 3.2, 4.5, 4.6, 5.2, 2.9]Two minimum values of the said list: [2, 2.2]"
      ]
    },
    {
      "cell_type": "code",
      "execution_count": null,
      "id": "998ce5f5",
      "metadata": {},
      "outputs": [],
      "source": []
    },
    {
      "cell_type": "markdown",
      "id": "84dbf266",
      "metadata": {},
      "source": [
        "254.Write a Python program to get the weighted average of two or more numbers.Sample Output:Original list elements:[10, 50, 40][2, 5, 3]Weighted average of the said two list of numbers:39.0Original list elements:[82, 90, 76, 83][0.2, 0.35, 0.45, 32]Weighted average of the said two list of numbers:82.97272727272727"
      ]
    },
    {
      "cell_type": "code",
      "execution_count": null,
      "id": "096ccd33",
      "metadata": {},
      "outputs": [],
      "source": []
    },
    {
      "cell_type": "markdown",
      "id": "634ed8c6",
      "metadata": {},
      "source": [
        "255.Write a Python program to perform a deep flattening of a list.Sample Output:Original list elements:[1, [2], [[3], [4], 5], 6]Deep flatten the said list:[1, 2, 3, 4, 5, 6]Original list elements:[[[1, 2, 3], [4, 5]], 6]Deep flatten the said list:[1, 2, 3, 4, 5, 6]"
      ]
    },
    {
      "cell_type": "code",
      "execution_count": null,
      "id": "9f9c400b",
      "metadata": {},
      "outputs": [],
      "source": []
    },
    {
      "cell_type": "markdown",
      "id": "84e989d9",
      "metadata": {},
      "source": [
        "256.Write a Python program to get the powerset of a given iterable.Sample Output:Original list elements:[1, 2]Powerset of the said list:[(), (1,), (2,), (1, 2)]Original list elements:[1, 2, 3, 4]Powerset of the said list:[(), (1,), (2,), (3,), (4,), (1, 2), (1, 3), (1, 4), (2, 3), (2, 4), (3, 4), (1, 2, 3), (1, 2, 4), (1, 3, 4), (2, 3, 4), (1, 2, 3, 4)]"
      ]
    },
    {
      "cell_type": "code",
      "execution_count": null,
      "id": "7452e8dc",
      "metadata": {},
      "outputs": [],
      "source": []
    },
    {
      "cell_type": "markdown",
      "id": "7ff2a403",
      "metadata": {},
      "source": [
        "257.Write a Python program to check if two given lists contain the same elements regardless of order.Sample Output:Original list elements:[1, 2, 4][2, 4, 1]Check two said lists contain the same elements regardless of order!TrueOriginal list elements:[1, 2, 3][1, 2, 3]Check two said lists contain the same elements regardless of order!TrueOriginal list elements:[1, 2, 3][1, 2, 4]Check two said lists contain the same elements regardless of order!False"
      ]
    },
    {
      "cell_type": "code",
      "execution_count": null,
      "id": "327e57f6",
      "metadata": {},
      "outputs": [],
      "source": []
    },
    {
      "cell_type": "markdown",
      "id": "58b26764",
      "metadata": {},
      "source": [
        "258.Write a Python program to create a flat list of all the keys in a flat dictionary.Sample Output:Original directory elements:{'Laura': 10, 'Spencer': 11, 'Bridget': 9, 'Howard ': 10}Flat list of all the keys of the said dictionary:['Laura', 'Spencer', 'Bridget', 'Howard ']"
      ]
    },
    {
      "cell_type": "code",
      "execution_count": null,
      "id": "6bdf87e1",
      "metadata": {},
      "outputs": [],
      "source": []
    },
    {
      "cell_type": "markdown",
      "id": "55674dd2",
      "metadata": {},
      "source": [
        "259.Write a Python program to check if a given function returns True for at least one element in the list.Sample Output:FalseTrueFalse"
      ]
    },
    {
      "cell_type": "code",
      "execution_count": null,
      "id": "d6e2c855",
      "metadata": {},
      "outputs": [],
      "source": []
    },
    {
      "cell_type": "markdown",
      "id": "db0811b3",
      "metadata": {},
      "source": [
        "260.Write a Python program to check if all the elements of a list are included in another given list.Sample Output:TrueFalse"
      ]
    },
    {
      "cell_type": "code",
      "execution_count": null,
      "id": "3e9fba7b",
      "metadata": {},
      "outputs": [],
      "source": []
    },
    {
      "cell_type": "markdown",
      "id": "e9b4a168",
      "metadata": {},
      "source": [
        "261.Write a Python program to get the most frequent element in a given list of numbers.Sample Output:2Original list:[2, 3, 8, 4, 7, 9, 8, 2, 6, 5, 1, 6, 1, 2, 3, 2, 4, 6, 9, 1, 2]Item with maximum frequency of the said list:2Original list:[1, 2, 3, 1, 2, 3, 2, 1, 4, 3, 3]Item with maximum frequency of the said list:3"
      ]
    },
    {
      "cell_type": "code",
      "execution_count": null,
      "id": "5fb42f27",
      "metadata": {},
      "outputs": [],
      "source": []
    },
    {
      "cell_type": "markdown",
      "id": "0a33d57c",
      "metadata": {},
      "source": [
        "262.Write a Python program to move the specified number of elements to the end of the given list.Sample Output:[4, 5, 6, 7, 8, 1, 2, 3][6, 7, 8, 1, 2, 3, 4, 5][1, 2, 3, 4, 5, 6, 7, 8][1, 2, 3, 4, 5, 6, 7, 8][8, 1, 2, 3, 4, 5, 6, 7][2, 3, 4, 5, 6, 7, 8, 1]"
      ]
    },
    {
      "cell_type": "code",
      "execution_count": null,
      "id": "fb48d7ce",
      "metadata": {},
      "outputs": [],
      "source": []
    },
    {
      "cell_type": "markdown",
      "id": "e916047c",
      "metadata": {},
      "source": [
        "263.Write a Python program to move the specified number of elements to the start of the given list.Sample Output:[4, 5, 6, 7, 8, 1, 2, 3][6, 7, 8, 1, 2, 3, 4, 5][1, 2, 3, 4, 5, 6, 7, 8][1, 2, 3, 4, 5, 6, 7, 8][8, 1, 2, 3, 4, 5, 6, 7][2, 3, 4, 5, 6, 7, 8, 1]"
      ]
    },
    {
      "cell_type": "code",
      "execution_count": null,
      "id": "aa4f8c5a",
      "metadata": {},
      "outputs": [],
      "source": []
    },
    {
      "cell_type": "markdown",
      "id": "f4c9ee41",
      "metadata": {},
      "source": [
        "264.Write a Python program to create a two-dimensional list from a given list of lists.Sample Output:[(1, 4, 7, 10), (2, 5, 8, 11), (3, 6, 9, 12)][(1, 4), (2, 5)]"
      ]
    },
    {
      "cell_type": "code",
      "execution_count": null,
      "id": "a6c75fa0",
      "metadata": {},
      "outputs": [],
      "source": []
    },
    {
      "cell_type": "markdown",
      "id": "df7a6fac",
      "metadata": {},
      "source": [
        "265.Write a Python program to generate a list containing the Fibonacci sequence, up until the nth term.Sample Output:First 7 Fibonacci numbers:[0, 1, 1, 2, 3, 5, 8, 13]First 15 Fibonacci numbers:[0, 1, 1, 2, 3, 5, 8, 13, 21, 34, 55, 89, 144, 233, 377, 610]First 50 Fibonacci numbers:[0, 1, 1, 2, 3, 5, 8, 13, 21, 34, 55, 89, 144, 233, 377, 610, 987, 1597, 2584, 4181, 6765, 10946, 17711, 28657, 46368, 75025, 121393, 196418, 317811, 514229, 832040, 1346269, 2178309, 3524578, 5702887, 9227465, 14930352, 24157817, 39088169, 63245986, 102334155, 165580141, 267914296, 433494437, 701408733, 1134903170, 1836311903, 2971215073, 4807526976, 7778742049, 12586269025]"
      ]
    },
    {
      "cell_type": "code",
      "execution_count": null,
      "id": "aaf0c21d",
      "metadata": {},
      "outputs": [],
      "source": []
    },
    {
      "cell_type": "markdown",
      "id": "53f12293",
      "metadata": {},
      "source": [
        "266.Write a Python program to cast the provided value as a list if it's not one.Sample Output:<class 'list'>[1]<class 'tuple'>['Red', 'Green']<class 'set'>['Green', 'Red']<class 'dict'>[1, 2, 3]"
      ]
    },
    {
      "cell_type": "code",
      "execution_count": null,
      "id": "a4326819",
      "metadata": {},
      "outputs": [],
      "source": []
    },
    {
      "cell_type": "markdown",
      "id": "ac639b44",
      "metadata": {},
      "source": [
        "267.Write a Python program to get the cumulative sum of the elements of a given list.Sample Output:Original list elements:[1, 2, 3, 4]Cumulative sum of the elements of the said list:[1, 3, 6, 10]Original list elements:[-1, -2, -3, 4]Cumulative sum of the elements of the said list:[-1, -3, -6, -2]"
      ]
    },
    {
      "cell_type": "code",
      "execution_count": null,
      "id": "9cb03e83",
      "metadata": {},
      "outputs": [],
      "source": []
    },
    {
      "cell_type": "markdown",
      "id": "7473e115",
      "metadata": {},
      "source": [
        "268.Write a Python program to get a list with n elements removed from the left and right.Sample Output:Original list elements:[1, 2, 3]Remove 1 element from left of the said list:[2, 3]Remove 1 element from right of the said list:[1, 2]Original list elements:[1, 2, 3, 4]Remove 2 elements from left of the said list:[3, 4]Remove 2 elements from right of the said list:[1, 2]Original list elements:[1, 2, 3, 4, 5, 6]Remove 7 elements from left of the said list:[2, 3, 4, 5, 6]Remove 7 elements from right of the said list:[1, 2, 3, 4, 5]"
      ]
    },
    {
      "cell_type": "code",
      "execution_count": null,
      "id": "7f5e0fa1",
      "metadata": {},
      "outputs": [],
      "source": []
    },
    {
      "cell_type": "markdown",
      "id": "c519e9d1",
      "metadata": {},
      "source": [
        "269.Write a Python program to get every nth element in a given list.Sample Output:[1, 2, 3, 4, 5, 6, 7, 8, 9, 10][2, 4, 6, 8, 10][5, 10][6]"
      ]
    },
    {
      "cell_type": "code",
      "execution_count": null,
      "id": "2ceae6d0",
      "metadata": {},
      "outputs": [],
      "source": []
    },
    {
      "cell_type": "markdown",
      "id": "0f19832d",
      "metadata": {},
      "source": [
        "270.Write a Python program to check if the elements of the first list are contained in the second one regardless of order.Sample Output:TrueTrueFalseTrue"
      ]
    },
    {
      "cell_type": "code",
      "execution_count": null,
      "id": "e279fa02",
      "metadata": {},
      "outputs": [],
      "source": []
    },
    {
      "cell_type": "markdown",
      "id": "edc14477",
      "metadata": {},
      "source": [
        "271.Write a Python program to check if there are duplicate values in a given flat list.Sample Output:Original list:[1, 2, 3, 4, 5, 6, 7]Check if there are duplicate values in the said given flat list:FalseOriginal list:[1, 2, 3, 3, 4, 5, 5, 6, 7]Check if there are duplicate values in the said given flat list:True"
      ]
    },
    {
      "cell_type": "code",
      "execution_count": null,
      "id": "e356bfdf",
      "metadata": {},
      "outputs": [],
      "source": []
    },
    {
      "cell_type": "markdown",
      "id": "71c09a20",
      "metadata": {},
      "source": [
        "272.Write a Python program to generate a list of numbers in the arithmetic progression starting with the given positive integer and up to the specified limit.Sample Output:[1, 2, 3, 4, 5, 6, 7, 8, 9, 10, 11, 12, 13, 14, 15][3, 6, 9, 12, 15, 18, 21, 24, 27, 30, 33, 36][5, 10, 15, 20, 25]"
      ]
    },
    {
      "cell_type": "code",
      "execution_count": null,
      "id": "c8420897",
      "metadata": {},
      "outputs": [],
      "source": []
    },
    {
      "cell_type": "markdown",
      "id": "a5f0534c",
      "metadata": {},
      "source": [
        "273.Write a Python program to find an element that divides a given list of integers with the same sum value.Sample Output:Original list:[0, 9, 2, 4, 5, 6]Element that devides the said list of integers with the same sum value:4Original list:[-4, 0, 6, 1, 0, 2]Element that devides the said list of integers with the same sum value:1Original list:[1, 2, 3, 4]Element that devides the said list of integers with the same sum value:No such element!Original list:[-4, 0, 5, 1, 0, 1]Element that devides the said list of integers with the same sum value:1"
      ]
    },
    {
      "cell_type": "code",
      "execution_count": null,
      "id": "31274674",
      "metadata": {},
      "outputs": [],
      "source": []
    },
    {
      "cell_type": "markdown",
      "id": "13ed5bb6",
      "metadata": {},
      "source": [
        "274.Write a Python program to count the lowercase letters in a given list of words.Sample Data:([\"Red\", \"Green\", \"Blue\", \"White\"]) -> 13([\"SQL\", \"C++\", \"C\"]) -> 0"
      ]
    },
    {
      "cell_type": "code",
      "execution_count": null,
      "id": "f4e4cdbb",
      "metadata": {},
      "outputs": [],
      "source": []
    },
    {
      "cell_type": "markdown",
      "id": "03c9db2a",
      "metadata": {},
      "source": [
        "275.Write a Python program to add all elements of a list of integers except the number at index.Return the updated string.Sample Data:([0, 9, 2, 4, 5, 6] -> [26, 17, 24, 22, 21, 20]([-4, 0, 6, 1, 0, 2]) -> [9, 5, -1, 4, 5, 3]([1, 2, 3]) -> [5, 4, 3]([-4, 0, 5, 1, 0, 1]) -> [7, 3, -2, 2, 3, 2]"
      ]
    },
    {
      "cell_type": "code",
      "execution_count": null,
      "id": "27048748",
      "metadata": {},
      "outputs": [],
      "source": []
    },
    {
      "cell_type": "markdown",
      "id": "20a41534",
      "metadata": {},
      "source": [
        "276.Write a Python program to find the largest odd number in a given list of integers.Sample Data:([0, 9, 2, 4, 5, 6]) -> 9([-4, 0, 6, 1, 0, 2]) -> 1([1, 2, 3]) -> 3([-4, 0, 5, 1, 0, 1]) -> 5"
      ]
    },
    {
      "cell_type": "code",
      "execution_count": null,
      "id": "0255b927",
      "metadata": {},
      "outputs": [],
      "source": []
    },
    {
      "cell_type": "markdown",
      "id": "bb7fede1",
      "metadata": {},
      "source": [
        "277.Write a Python program to calculate the largest and smallest gap between sorted elements of a list of integers.Sample Data:{1, 2 ,9, 0, 4, 6} -> 3{23, -2, 45, 38, 12, 4, 6} -> 15"
      ]
    },
    {
      "cell_type": "code",
      "execution_count": null,
      "id": "aa61dd31",
      "metadata": {},
      "outputs": [],
      "source": []
    },
    {
      "cell_type": "markdown",
      "id": "0e3801fc",
      "metadata": {},
      "source": [
        "278.Write a Python program to sum the missing numbers in a given list of integers.Sample Data:([0, 3, 4, 7, 9]) -> 22([44, 45, 48]) -> 93 ([-7, -5, -4, 0]) -> -12"
      ]
    },
    {
      "cell_type": "code",
      "execution_count": null,
      "id": "ee49a5b0",
      "metadata": {},
      "outputs": [],
      "source": []
    },
    {
      "cell_type": "markdown",
      "id": "74834847",
      "metadata": {},
      "source": [
        "279.Write a Python program to extract the first specified number of vowels from a given string.If the specified number is less than the number of vowels present in the string then display \"n is less than the number of vowels present in the string\".Sample Data:(\"Python\", 2) -> \"n is less than number of vowels present in the string.\"(\"Python Exercises\", 3) -> \"oEe\"(\"aeiou\") -> \"AEI\""
      ]
    },
    {
      "cell_type": "code",
      "execution_count": null,
      "id": "53b96d10",
      "metadata": {},
      "outputs": [],
      "source": []
    },
    {
      "cell_type": "markdown",
      "id": "98aafaae",
      "metadata": {},
      "source": [
        "280.Write a Python program that takes a list of integers and finds all pairs of integers that differ by three.Return all pairs of integers in a list.Sample Data:([0, 3, 4, 7, 9]) -> [[0, 3], [4, 7]][0, -3, -5, -7, -8] -> [[-3, 0], [-8, -5]]([1, 2, 3, 4, 5]) -> [[1, 4], [2, 5]]([100, 102, 103, 114, 115]) -> [[100, 103]]"
      ]
    },
    {
      "cell_type": "code",
      "execution_count": null,
      "id": "b88c23d0",
      "metadata": {},
      "outputs": [],
      "source": []
    }
  ],
  "metadata": {
    "language_info": {
      "name": "python"
    }
  },
  "nbformat": 4,
  "nbformat_minor": 5
}