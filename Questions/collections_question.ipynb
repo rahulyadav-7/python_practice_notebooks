{
  "cells": [
    {
      "cell_type": "markdown",
      "id": "5ddaedbd",
      "metadata": {},
      "source": [
        "1. Write a Python program that iterates over elements as many times as its count"
      ]
    },
    {
      "cell_type": "code",
      "execution_count": null,
      "id": "27a10ac4",
      "metadata": {},
      "outputs": [],
      "source": []
    },
    {
      "cell_type": "markdown",
      "id": "108f4110",
      "metadata": {},
      "source": [
        "2. Write a Python program to find the most common elements and their counts in a specified text"
      ]
    },
    {
      "cell_type": "code",
      "execution_count": null,
      "id": "b21999f9",
      "metadata": {},
      "outputs": [],
      "source": []
    },
    {
      "cell_type": "markdown",
      "id": "2b5ee67d",
      "metadata": {},
      "source": [
        "3. Write a Python program to create a new deque with three items and iterate over the deque's elements"
      ]
    },
    {
      "cell_type": "code",
      "execution_count": null,
      "id": "f40e0edf",
      "metadata": {},
      "outputs": [],
      "source": []
    },
    {
      "cell_type": "markdown",
      "id": "9f6a146f",
      "metadata": {},
      "source": [
        "4. Write a Python program to find the occurrences of the 10 most common words in a given text"
      ]
    },
    {
      "cell_type": "code",
      "execution_count": null,
      "id": "416af608",
      "metadata": {},
      "outputs": [],
      "source": []
    },
    {
      "cell_type": "markdown",
      "id": "fe54e91f",
      "metadata": {},
      "source": [
        "5. Write a Python program that accepts some words and counts the number of distinct words. Print the number of distinct words and the number of occurrences of each distinct word according to their appearance"
      ]
    },
    {
      "cell_type": "code",
      "execution_count": null,
      "id": "44bd32f4",
      "metadata": {},
      "outputs": [],
      "source": []
    },
    {
      "cell_type": "markdown",
      "id": "806b566b",
      "metadata": {},
      "source": [
        "6. Write a Python program that accepts the number of subjects, subject names and marks. Input the number of subjects and then the subject name and marks separated by a space on the next line. Print the subject name and marks in order of appearance"
      ]
    },
    {
      "cell_type": "code",
      "execution_count": null,
      "id": "532f9876",
      "metadata": {},
      "outputs": [],
      "source": []
    },
    {
      "cell_type": "markdown",
      "id": "5e536bd7",
      "metadata": {},
      "source": [
        "7. Write a Python program to create a deque and append a few elements to the left and right. Next, remove some elements from the left and right sides and reverse the deque"
      ]
    },
    {
      "cell_type": "code",
      "execution_count": null,
      "id": "9360e438",
      "metadata": {},
      "outputs": [],
      "source": []
    },
    {
      "cell_type": "markdown",
      "id": "41227135",
      "metadata": {},
      "source": [
        "8. Write a Python program to create a deque from an existing iterable object"
      ]
    },
    {
      "cell_type": "code",
      "execution_count": null,
      "id": "8c041015",
      "metadata": {},
      "outputs": [],
      "source": []
    },
    {
      "cell_type": "markdown",
      "id": "a1ebb407",
      "metadata": {},
      "source": [
        "9. Write a Python program to add more elements to a deque object from an iterable object"
      ]
    },
    {
      "cell_type": "code",
      "execution_count": null,
      "id": "a74f4df6",
      "metadata": {},
      "outputs": [],
      "source": []
    },
    {
      "cell_type": "markdown",
      "id": "a70e0d72",
      "metadata": {},
      "source": [
        "10. Write a Python program to remove all the elements of a given deque object"
      ]
    },
    {
      "cell_type": "code",
      "execution_count": null,
      "id": "eb919853",
      "metadata": {},
      "outputs": [],
      "source": []
    },
    {
      "cell_type": "markdown",
      "id": "7567cdfc",
      "metadata": {},
      "source": [
        "11. Write a Python program that copies a deque object and verifies shallow copying"
      ]
    },
    {
      "cell_type": "code",
      "execution_count": null,
      "id": "fecda5a9",
      "metadata": {},
      "outputs": [],
      "source": []
    },
    {
      "cell_type": "markdown",
      "id": "3d7def07",
      "metadata": {},
      "source": [
        "12. Write a Python program to count the number of times a specific element appears in a deque object"
      ]
    },
    {
      "cell_type": "code",
      "execution_count": null,
      "id": "810b2527",
      "metadata": {},
      "outputs": [],
      "source": []
    },
    {
      "cell_type": "markdown",
      "id": "10524b03",
      "metadata": {},
      "source": [
        "13. Write a Python program to rotate a Deque Object a specified number (positive) of times"
      ]
    },
    {
      "cell_type": "code",
      "execution_count": null,
      "id": "30bc4911",
      "metadata": {},
      "outputs": [],
      "source": []
    },
    {
      "cell_type": "markdown",
      "id": "5779ac1b",
      "metadata": {},
      "source": [
        "14. Write a Python program to rotate a deque Object a specified number (negative) of times"
      ]
    },
    {
      "cell_type": "code",
      "execution_count": null,
      "id": "76a73c3f",
      "metadata": {},
      "outputs": [],
      "source": []
    },
    {
      "cell_type": "markdown",
      "id": "3325d78b",
      "metadata": {},
      "source": [
        "15. Write a Python program to find the most common element in a given list"
      ]
    },
    {
      "cell_type": "code",
      "execution_count": null,
      "id": "82b8375e",
      "metadata": {},
      "outputs": [],
      "source": []
    },
    {
      "cell_type": "markdown",
      "id": "c3a8d138",
      "metadata": {},
      "source": [
        "16. Write a Python program to find the second lowest total marks of any student(s) from the given names and marks of each student using lists and lambda. Input number of students, names and grades of each student"
      ]
    },
    {
      "cell_type": "code",
      "execution_count": null,
      "id": "6a52805a",
      "metadata": {},
      "outputs": [],
      "source": []
    },
    {
      "cell_type": "markdown",
      "id": "5cf0c227",
      "metadata": {},
      "source": [
        "17. Write a Python program to find the majority element from a given array of size n using the Collections module"
      ]
    },
    {
      "cell_type": "code",
      "execution_count": null,
      "id": "3f1156b6",
      "metadata": {},
      "outputs": [],
      "source": []
    },
    {
      "cell_type": "markdown",
      "id": "d7a731d2",
      "metadata": {},
      "source": [
        "18. Write a Python program to merge more than one dictionary into a single expression"
      ]
    },
    {
      "cell_type": "code",
      "execution_count": null,
      "id": "554d5be0",
      "metadata": {},
      "outputs": [],
      "source": []
    },
    {
      "cell_type": "markdown",
      "id": "5c707b11",
      "metadata": {},
      "source": [
        "19. Write a Python program to break a given list of integers into sets of a given positive number. Return true or false"
      ]
    },
    {
      "cell_type": "code",
      "execution_count": null,
      "id": "1ea6f2c3",
      "metadata": {},
      "outputs": [],
      "source": []
    },
    {
      "cell_type": "markdown",
      "id": "0084dae1",
      "metadata": {},
      "source": [
        "20. Write a Python program to find the item with the highest frequency in a given list"
      ]
    },
    {
      "cell_type": "code",
      "execution_count": null,
      "id": "1b7f1a3a",
      "metadata": {},
      "outputs": [],
      "source": []
    },
    {
      "cell_type": "markdown",
      "id": "eb51515d",
      "metadata": {},
      "source": [
        "21. Write a Python program to count the most and least common characters in a given string"
      ]
    },
    {
      "cell_type": "code",
      "execution_count": null,
      "id": "764604c0",
      "metadata": {},
      "outputs": [],
      "source": []
    },
    {
      "cell_type": "markdown",
      "id": "4ea3cd77",
      "metadata": {},
      "source": [
        "22. Write a Python program to insert an element at the beginning of a given Ordered Dictionary"
      ]
    },
    {
      "cell_type": "code",
      "execution_count": null,
      "id": "a630bb89",
      "metadata": {},
      "outputs": [],
      "source": []
    },
    {
      "cell_type": "markdown",
      "id": "3b133ba5",
      "metadata": {},
      "source": [
        "23. Write a Python program to get the frequency of the tuples in a given list"
      ]
    },
    {
      "cell_type": "code",
      "execution_count": null,
      "id": "a6aa893e",
      "metadata": {},
      "outputs": [],
      "source": []
    },
    {
      "cell_type": "markdown",
      "id": "b2187d60",
      "metadata": {},
      "source": [
        "24. Write a Python program to calculate the maximum aggregate from the list of tuples (pairs)"
      ]
    },
    {
      "cell_type": "code",
      "execution_count": null,
      "id": "732e2981",
      "metadata": {},
      "outputs": [],
      "source": []
    },
    {
      "cell_type": "markdown",
      "id": "38498aae",
      "metadata": {},
      "source": [
        "25. Write a Python program to find the characters in a list of strings that occur more or less than a given number"
      ]
    },
    {
      "cell_type": "code",
      "execution_count": null,
      "id": "1df9fba7",
      "metadata": {},
      "outputs": [],
      "source": []
    },
    {
      "cell_type": "markdown",
      "id": "2ecbaef1",
      "metadata": {},
      "source": [
        "26. Write a Python program to find the difference between two lists including duplicate elements. Use the collections module"
      ]
    },
    {
      "cell_type": "code",
      "execution_count": null,
      "id": "f2001e1f",
      "metadata": {},
      "outputs": [],
      "source": []
    },
    {
      "cell_type": "markdown",
      "id": "496d3d69",
      "metadata": {},
      "source": [
        "27. Write a Python program to remove duplicate words from a given string. Use the collections module"
      ]
    },
    {
      "cell_type": "code",
      "execution_count": null,
      "id": "5974051f",
      "metadata": {},
      "outputs": [],
      "source": []
    },
    {
      "cell_type": "markdown",
      "id": "4b3afd33",
      "metadata": {},
      "source": [
        "28. Write a Python program to create a dictionary grouping a sequence of key-value pairs into a dictionary of lists. Use the collections module"
      ]
    },
    {
      "cell_type": "code",
      "execution_count": null,
      "id": "5ae2772b",
      "metadata": {},
      "outputs": [],
      "source": []
    },
    {
      "cell_type": "markdown",
      "id": "531ea292",
      "metadata": {},
      "source": [
        "29. Write a Python program to get the frequency of elements in a given list of lists. Use the collections module"
      ]
    },
    {
      "cell_type": "code",
      "execution_count": null,
      "id": "3bc14d91",
      "metadata": {},
      "outputs": [],
      "source": []
    },
    {
      "cell_type": "markdown",
      "id": "752f44c6",
      "metadata": {},
      "source": [
        "30. Write a Python program to count the occurrences of each element in a given list"
      ]
    },
    {
      "cell_type": "code",
      "execution_count": null,
      "id": "cd8c37c6",
      "metadata": {},
      "outputs": [],
      "source": []
    },
    {
      "cell_type": "markdown",
      "id": "fbbfd0d8",
      "metadata": {},
      "source": [
        "31. Write a Python program to count the most common words in a dictionary"
      ]
    },
    {
      "cell_type": "code",
      "execution_count": null,
      "id": "356b93f6",
      "metadata": {},
      "outputs": [],
      "source": []
    },
    {
      "cell_type": "markdown",
      "id": "2fba69f1",
      "metadata": {},
      "source": [
        "32. Write a Python program to find the class wise roll number from a tuple-of-tuples"
      ]
    },
    {
      "cell_type": "code",
      "execution_count": null,
      "id": "928f61a2",
      "metadata": {},
      "outputs": [],
      "source": []
    },
    {
      "cell_type": "markdown",
      "id": "d4e173e2",
      "metadata": {},
      "source": [
        "33. Write a Python program to count the number of students in an individual class"
      ]
    },
    {
      "cell_type": "code",
      "execution_count": null,
      "id": "3f4fb227",
      "metadata": {},
      "outputs": [],
      "source": []
    },
    {
      "cell_type": "markdown",
      "id": "2789c197",
      "metadata": {},
      "source": [
        "34. Write a Python program to create an instance of an OrderedDict using a given dictionary. Sort the dictionary during the creation and print the members of the dictionary in reverse order"
      ]
    },
    {
      "cell_type": "code",
      "execution_count": null,
      "id": "3ad66b4f",
      "metadata": {},
      "outputs": [],
      "source": []
    },
    {
      "cell_type": "markdown",
      "id": "53ea9f2b",
      "metadata": {},
      "source": [
        "35. Write a Python program to group a sequence of key-value pairs into a dictionary of lists"
      ]
    },
    {
      "cell_type": "code",
      "execution_count": null,
      "id": "421227aa",
      "metadata": {},
      "outputs": [],
      "source": []
    },
    {
      "cell_type": "markdown",
      "id": "67fe4352",
      "metadata": {},
      "source": [
        "36. Write a Python program to compare two unordered lists (not sets)"
      ]
    },
    {
      "cell_type": "code",
      "execution_count": null,
      "id": "84a46403",
      "metadata": {},
      "outputs": [],
      "source": []
    }
  ],
  "metadata": {
    "language_info": {
      "name": "python"
    }
  },
  "nbformat": 4,
  "nbformat_minor": 5
}