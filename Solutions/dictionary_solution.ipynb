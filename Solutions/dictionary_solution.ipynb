{
 "cells": [
  {
   "cell_type": "markdown",
   "id": "3b6ad89b",
   "metadata": {},
   "source": [
    "1. Write a Python script to sort (ascending and descending) a dictionary by value"
   ]
  },
  {
   "cell_type": "code",
   "execution_count": null,
   "id": "33dcbc10",
   "metadata": {},
   "outputs": [],
   "source": [
    "# Import the 'operator' module, which provides functions for common operations like sorting.\n",
    "import operator\n",
    "\n",
    "# Create a dictionary 'd' with key-value pairs.\n",
    "d = {1: 2, 3: 4, 4: 3, 2: 1, 0: 0}\n",
    "\t\n",
    "# Print the original dictionary 'd'.\n",
    "print('Original dictionary : ',d)\n",
    "\n",
    "# Sort the items (key-value pairs) in the dictionary 'd' based on the values (1st element of each pair).\n",
    "# The result is a list of sorted key-value pairs.\n",
    "sorted_d = sorted(d.items(), key=operator.itemgetter(1))\n",
    "\n",
    "# Print the dictionary 'sorted_d' in ascending order by value.\n",
    "print('Dictionary in ascending order by value : ',sorted_d)\n",
    "\n",
    "# Convert the sorted list of key-value pairs back into a dictionary.\n",
    "# The 'reverse=True' argument sorts the list in descending order by value.\n",
    "sorted_d = dict( sorted(d.items(), key=operator.itemgetter(1), reverse=True))\n",
    "\n",
    "# Print the dictionary 'sorted_d' in descending order by value.\n",
    "print('Dictionary in descending order by value : ',sorted_d)  \n"
   ]
  },
  {
   "cell_type": "markdown",
   "id": "f2cfc437",
   "metadata": {},
   "source": [
    "2. Write a Python script to add a key to a dictionary"
   ]
  },
  {
   "cell_type": "code",
   "execution_count": null,
   "id": "ce610c72",
   "metadata": {},
   "outputs": [],
   "source": [
    "# Create a dictionary 'd' with two key-value pairs.\n",
    "d = {0: 10, 1: 20}\n",
    "\n",
    "# Print the original dictionary 'd'.\n",
    "print(d)\n",
    "\n",
    "# Update the dictionary 'd' by adding a new key-value pair {2: 30}.\n",
    "d.update({2: 30})\n",
    "\n",
    "# Print the dictionary 'd' after the update, which now includes the new key-value pair.\n",
    "print(d) \n"
   ]
  },
  {
   "cell_type": "markdown",
   "id": "602be0c9",
   "metadata": {},
   "source": [
    "3. Write a Python script to concatenate the following dictionaries to create a new one"
   ]
  },
  {
   "cell_type": "code",
   "execution_count": null,
   "id": "06ce4c5b",
   "metadata": {},
   "outputs": [],
   "source": [
    "# Create three dictionaries 'dic1', 'dic2', and 'dic3' with key-value pairs.\n",
    "dic1 = {1: 10, 2: 20}\n",
    "dic2 = {3: 30, 4: 40}\n",
    "dic3 = {5: 50, 6: 60}\n",
    "\n",
    "# Create an empty dictionary 'dic4' that will store the combined key-value pairs from 'dic1', 'dic2', and 'dic3'.\n",
    "dic4 = {}\n",
    "\n",
    "# Iterate through each dictionary ('dic1', 'dic2', and 'dic3') using a loop.\n",
    "for d in (dic1, dic2, dic3):\n",
    "    # Update 'dic4' by adding the key-value pairs from the current dictionary 'd'.\n",
    "    dic4.update(d)\n",
    "\n",
    "# Print the combined dictionary 'dic4' containing all the key-value pairs from 'dic1', 'dic2', and 'dic3'.\n",
    "print(dic4) \n"
   ]
  },
  {
   "cell_type": "markdown",
   "id": "7a8ae2d0",
   "metadata": {},
   "source": [
    "4. Write a Python script to check whether a given key already exists in a dictionary"
   ]
  },
  {
   "cell_type": "code",
   "execution_count": null,
   "id": "d59a55b5",
   "metadata": {},
   "outputs": [],
   "source": [
    "# Create a dictionary 'd' with key-value pairs.\n",
    "d = {1: 10, 2: 20, 3: 30, 4: 40, 5: 50, 6: 60}\n",
    "\n",
    "# Define a function 'is_key_present' that takes an argument 'x'.\n",
    "def is_key_present(x):\n",
    "    # Check if 'x' is a key in the dictionary 'd'.\n",
    "    if x in d:\n",
    "        # If 'x' is present in 'd', print a message indicating that the key is present.\n",
    "        print('Key is present in the dictionary')\n",
    "    else:\n",
    "        # If 'x' is not present in 'd', print a message indicating that the key is not present.\n",
    "        print('Key is not present in the dictionary')\n",
    "\n",
    "# Call the 'is_key_present' function with the argument 5 to check if 5 is a key in the dictionary.\n",
    "is_key_present(5)\n",
    "\n",
    "# Call the 'is_key_present' function with the argument 9 to check if 9 is a key in the dictionary.\n",
    "is_key_present(9) \n"
   ]
  },
  {
   "cell_type": "markdown",
   "id": "93034c7b",
   "metadata": {},
   "source": [
    "5. Write a Python program to iterate over dictionaries using for loops"
   ]
  },
  {
   "cell_type": "code",
   "execution_count": null,
   "id": "e8d39e59",
   "metadata": {},
   "outputs": [],
   "source": [
    "# Create a dictionary 'd' with key-value pairs.\n",
    "d = {'x': 10, 'y': 20, 'z': 30} \n",
    "\n",
    "# Iterate through the key-value pairs in the dictionary using a for loop.\n",
    "# 'dict_key' represents the key, and 'dict_value' represents the value for each pair.\n",
    "for dict_key, dict_value in d.items():\n",
    "    # Print the key followed by '-&gt;' and the corresponding value.\n",
    "    print(dict_key, '-&gt;', dict_value)\t\n"
   ]
  },
  {
   "cell_type": "markdown",
   "id": "388433ba",
   "metadata": {},
   "source": [
    "6. Write a Python script to generate and print a dictionary that contains a number (between 1 and n) in the form (x, x*x)"
   ]
  },
  {
   "cell_type": "code",
   "execution_count": null,
   "id": "56bafb0f",
   "metadata": {},
   "outputs": [],
   "source": [
    "# Prompt the user to input a number and store it in the variable 'n'.\n",
    "n = int(input(\"Input a number \"))\n",
    "\n",
    "# Create an empty dictionary 'd' to store the square of numbers.\n",
    "d = dict()\n",
    "\n",
    "# Iterate through numbers from 1 to 'n' (inclusive).\n",
    "for x in range(1, n + 1):\n",
    "    # Calculate the square of each number and store it in the dictionary 'd' with the number as the key.\n",
    "    d[x] = x * x\n",
    "\n",
    "# Print the dictionary 'd' containing the squares of numbers from 1 to 'n'.\n",
    "print(d) \n"
   ]
  },
  {
   "cell_type": "markdown",
   "id": "0c1e924a",
   "metadata": {},
   "source": [
    "7. Write a Python script to print a dictionary where the keys are numbers between 1 and 15 (both included) and the values are the square of the keys"
   ]
  },
  {
   "cell_type": "code",
   "execution_count": null,
   "id": "c526e568",
   "metadata": {},
   "outputs": [],
   "source": [
    "# Create an empty dictionary 'd' to store the squares of numbers.\n",
    "d = dict()\n",
    "\n",
    "# Iterate through numbers from 1 to 15 (inclusive).\n",
    "for x in range(1, 16):\n",
    "    # Calculate the square of each number and store it in the dictionary 'd' with the number as the key.\n",
    "    d[x] = x ** 2\n",
    "\n",
    "# Print the dictionary 'd' containing the squares of numbers from 1 to 15.\n",
    "print(d)\n"
   ]
  },
  {
   "cell_type": "markdown",
   "id": "90eb0663",
   "metadata": {},
   "source": [
    "8. Write a Python script to merge two Python dictionaries"
   ]
  },
  {
   "cell_type": "code",
   "execution_count": null,
   "id": "a905b9cb",
   "metadata": {},
   "outputs": [],
   "source": [
    "# Create the first dictionary 'd1' with key-value pairs.\n",
    "d1 = {'a': 100, 'b': 200}\n",
    "\n",
    "# Create the second dictionary 'd2' with key-value pairs.\n",
    "d2 = {'x': 300, 'y': 200}\n",
    "\n",
    "# Create a new dictionary 'd' and initialize it as a copy of 'd1'.\n",
    "d = d1.copy()\n",
    "\n",
    "# Update the dictionary 'd' by adding key-value pairs from 'd2'.\n",
    "d.update(d2)\n",
    "\n",
    "# Print the dictionary 'd' after combining the key-value pairs from 'd1' and 'd2.\n",
    "print(d) \n"
   ]
  },
  {
   "cell_type": "markdown",
   "id": "16484937",
   "metadata": {},
   "source": [
    "9. Write a Python program to iterate over dictionaries using for loops"
   ]
  },
  {
   "cell_type": "code",
   "execution_count": null,
   "id": "9ad6355d",
   "metadata": {},
   "outputs": [],
   "source": [
    "# Create a dictionary 'd' with color names as keys and corresponding numerical values as values.\n",
    "d = {'Red': 1, 'Green': 2, 'Blue': 3}\n",
    "\n",
    "# Iterate through the key-value pairs in the dictionary 'd' using a for loop.\n",
    "for color_key, value in d.items():\n",
    "    # Print the color name, 'corresponds to', and its corresponding numerical value.\n",
    "    print(color_key, 'corresponds to ', d[color_key]) \n"
   ]
  },
  {
   "cell_type": "markdown",
   "id": "9c98f687",
   "metadata": {},
   "source": [
    "10. Write a Python program to sum all the items in a dictionary"
   ]
  },
  {
   "cell_type": "code",
   "execution_count": null,
   "id": "1c908cbb",
   "metadata": {},
   "outputs": [],
   "source": [
    "# Create a dictionary 'my_dict' with key-value pairs.\n",
    "my_dict = {'data1': 100, 'data2': -54, 'data3': 247}\n",
    "# Use the 'sum' function to calculate the sum of all values in the 'my_dict' dictionary.\n",
    "# 'my_dict.values()' extracts the values from the dictionary, and 'sum' calculates their sum.\n",
    "result = sum(my_dict.values())\n",
    "# Print the result, which is the sum of the values.\n",
    "print(result) \n"
   ]
  },
  {
   "cell_type": "markdown",
   "id": "58ed8cd8",
   "metadata": {},
   "source": [
    "11. Write a Python program to multiply all the items in a dictionary"
   ]
  },
  {
   "cell_type": "code",
   "execution_count": null,
   "id": "443d5fb2",
   "metadata": {},
   "outputs": [],
   "source": [
    "# Create a dictionary 'my_dict' with keys 'data1', 'data2', and 'data3', along with their respective values.\n",
    "my_dict = {'data1': 100, 'data2': -54, 'data3': 247}\n",
    "\n",
    "# Initialize a variable 'result' to 1. This variable will store the product of all values in the dictionary.\n",
    "result = 1\n",
    "\n",
    "# Iterate through the keys in the 'my_dict' using a for loop.\n",
    "for key in my_dict:\n",
    "    # Multiply the current 'result' by the value associated with the current key in 'my_dict'.\n",
    "    result = result * my_dict[key]\n",
    "\n",
    "# Print the final 'result,' which is the product of all values in the dictionary.\n",
    "print(result) \n"
   ]
  },
  {
   "cell_type": "markdown",
   "id": "aa61dfd5",
   "metadata": {},
   "source": [
    "12. Write a Python program to remove a key from a dictionary"
   ]
  },
  {
   "cell_type": "code",
   "execution_count": null,
   "id": "92aac819",
   "metadata": {},
   "outputs": [],
   "source": [
    "# Create a dictionary 'myDict' with key-value pairs.\n",
    "myDict = {'a': 1, 'b': 2, 'c': 3, 'd': 4}\n",
    "\n",
    "# Print the original dictionary 'myDict'.\n",
    "print(myDict)\n",
    "\n",
    "# Check if the key 'a' exists in the 'myDict' dictionary.\n",
    "if 'a' in myDict:\n",
    "    # If 'a' is in the dictionary, delete the key-value pair with the key 'a'.\n",
    "    del myDict['a']\n",
    "\n",
    "# Print the updated dictionary 'myDict' after deleting the key 'a' (if it existed).\n",
    "print(myDict)\n"
   ]
  },
  {
   "cell_type": "markdown",
   "id": "fe37ceb6",
   "metadata": {},
   "source": [
    "13. Write a Python program to map two lists into a dictionary"
   ]
  },
  {
   "cell_type": "code",
   "execution_count": null,
   "id": "f37cde94",
   "metadata": {},
   "outputs": [],
   "source": [
    "# Create a list 'keys' containing color names.\n",
    "keys = ['red', 'green', 'blue']\n",
    "\n",
    "# Create another list 'values' containing corresponding color codes in hexadecimal format.\n",
    "values = ['#FF0000', '#008000', '#0000FF']\n",
    "\n",
    "# Use the 'zip' function to pair each color name with its corresponding color code and create a list of tuples.\n",
    "# Then, use the 'dict' constructor to convert this list of tuples into a dictionary 'color_dictionary'.\n",
    "color_dictionary = dict(zip(keys, values))\n",
    "\n",
    "# Print the resulting 'color_dictionary' containing color names as keys and their associated color codes as values.\n",
    "print(color_dictionary)\n"
   ]
  },
  {
   "cell_type": "markdown",
   "id": "5fd9c659",
   "metadata": {},
   "source": [
    "14. Write a Python program to sort a given dictionary by key"
   ]
  },
  {
   "cell_type": "code",
   "execution_count": null,
   "id": "e74ec357",
   "metadata": {},
   "outputs": [],
   "source": [
    "# Create a dictionary 'color_dict' with color names as keys and their corresponding color codes in hexadecimal format as values.\n",
    "color_dict = {\n",
    "    'red': '#FF0000',\n",
    "    'green': '#008000',\n",
    "    'black': '#000000',\n",
    "    'white': '#FFFFFF'\n",
    "}\n",
    "\n",
    "# Iterate through the keys of the 'color_dict' dictionary after sorting them in lexicographical order.\n",
    "for key in sorted(color_dict):\n",
    "    # Print each key-value pair where '%s' is a placeholder for the key and its associated color code.\n",
    "    print(\"%s: %s\" % (key, color_dict[key]))\n",
    "\t"
   ]
  },
  {
   "cell_type": "markdown",
   "id": "5448765e",
   "metadata": {},
   "source": [
    "15. Write a Python program to get the maximum and minimum values of a dictionary"
   ]
  },
  {
   "cell_type": "code",
   "execution_count": null,
   "id": "10019101",
   "metadata": {},
   "outputs": [],
   "source": [
    "# Create a dictionary 'my_dict' with key-value pairs.\n",
    "my_dict = {'x': 500, 'y': 5874, 'z': 560}\n",
    "\n",
    "# Find the key with the maximum value in 'my_dict' using the 'max' function and a lambda function.\n",
    "# The 'key' argument specifies how the maximum value is determined.\n",
    "key_max = max(my_dict.keys(), key=(lambda k: my_dict[k]))\n",
    "\n",
    "# Find the key with the minimum value in 'my_dict' using the 'min' function and a lambda function.\n",
    "# The 'key' argument specifies how the minimum value is determined.\n",
    "key_min = min(my_dict.keys(), key=(lambda k: my_dict[k]))\n",
    "\n",
    "# Print the maximum value by using the 'key_max' to access the corresponding value in 'my_dict'.\n",
    "print('Maximum Value: ', my_dict[key_max])\n",
    "\n",
    "# Print the minimum value by using the 'key_min' to access the corresponding value in 'my_dict'.\n",
    "print('Minimum Value: ', my_dict[key_min])\n"
   ]
  },
  {
   "cell_type": "markdown",
   "id": "8e28564e",
   "metadata": {},
   "source": [
    "16. Write a Python program to get a dictionary from an object's fields"
   ]
  },
  {
   "cell_type": "code",
   "execution_count": null,
   "id": "49ba3738",
   "metadata": {},
   "outputs": [],
   "source": [
    "# Define a class 'dictObj' that inherits from the 'object' class.\n",
    "class dictObj(object):\n",
    "    # Define the constructor method '__init__' for initializing object attributes.\n",
    "    def __init__(self):\n",
    "        # Initialize attributes 'x', 'y', and 'z' with string values.\n",
    "        self.x = 'red'\n",
    "        self.y = 'Yellow'\n",
    "        self.z = 'Green'\n",
    "    \n",
    "    # Define a method 'do_nothing' that doesn't perform any actions (placeholder).\n",
    "    def do_nothing(self):\n",
    "        pass\n",
    "\n",
    "# Create an instance 'test' of the 'dictObj' class.\n",
    "test = dictObj()\n",
    "\n",
    "# Print the '__dict__' attribute of the 'test' object, which contains its attribute-value pairs.\n",
    "print(test.__dict__) \n"
   ]
  },
  {
   "cell_type": "markdown",
   "id": "dd1fb5bc",
   "metadata": {},
   "source": [
    "17. Write a Python program to remove duplicates from the dictionary"
   ]
  },
  {
   "cell_type": "code",
   "execution_count": null,
   "id": "83f3a622",
   "metadata": {},
   "outputs": [],
   "source": [
    "# Create a nested dictionary 'student_data' containing information about students with unique IDs.\n",
    "student_data = {\n",
    "    'id1': {\n",
    "        'name': ['Sara'],\n",
    "        'class': ['V'],\n",
    "        'subject_integration': ['english, math, science']\n",
    "    },\n",
    "    'id2': {\n",
    "        'name': ['David'],\n",
    "        'class': ['V'],\n",
    "        'subject_integration': ['english, math, science']\n",
    "    },\n",
    "    'id3': {\n",
    "        'name': ['Sara'],\n",
    "        'class': ['V'],\n",
    "        'subject_integration': ['english, math, science']\n",
    "    },\n",
    "    'id4': {\n",
    "        'name': ['Surya'],\n",
    "        'class': ['V'],\n",
    "        'subject_integration': ['english, math, science']\n",
    "    }\n",
    "}\n",
    "\n",
    "# Create an empty dictionary 'result' to store unique student records.\n",
    "result = {}\n",
    "\n",
    "# Iterate through the key-value pairs in the 'student_data' dictionary using a for loop.\n",
    "for key, value in student_data.items():\n",
    "    # Check if the current 'value' (student record) is not already in the 'result' dictionary.\n",
    "    if value not in result.values():\n",
    "        # If the 'value' is not already in 'result', add it to 'result' with its corresponding 'key'.\n",
    "        result[key] = value\n",
    "\n",
    "# Print the 'result' dictionary containing unique student records.\n",
    "print(result) \n"
   ]
  },
  {
   "cell_type": "markdown",
   "id": "c90a1216",
   "metadata": {},
   "source": [
    "18. Write a Python program to check if a dictionary is empty or not"
   ]
  },
  {
   "cell_type": "code",
   "execution_count": null,
   "id": "17bc8cbe",
   "metadata": {},
   "outputs": [],
   "source": [
    "# Create an empty dictionary 'my_dict'.\n",
    "my_dict = {}\n",
    "\n",
    "# Check if the dictionary is empty by evaluating its boolean value.\n",
    "# The 'bool()' function returns False for an empty dictionary, so if it's not empty, the condition is True.\n",
    "if not bool(my_dict):\n",
    "    # Print a message indicating that the dictionary is empty.\n",
    "    print(\"Dictionary is empty\")\n"
   ]
  },
  {
   "cell_type": "markdown",
   "id": "47ac5385",
   "metadata": {},
   "source": [
    "19. Write a Python program to combine two dictionary by adding values for common keys"
   ]
  },
  {
   "cell_type": "code",
   "execution_count": null,
   "id": "e44814d9",
   "metadata": {},
   "outputs": [],
   "source": [
    "# Import the 'Counter' class from the 'collections' module.\n",
    "from collections import Counter\n",
    "\n",
    "# Create two dictionaries 'd1' and 'd2' with key-value pairs.\n",
    "d1 = {'a': 100, 'b': 200, 'c': 300}\n",
    "d2 = {'a': 300, 'b': 200, 'd': 400}\n",
    "\n",
    "# Use the 'Counter' class to create counter objects for 'd1' and 'd2', which count the occurrences of each key.\n",
    "# Then, add the counters together to merge the key-value pairs and their counts.\n",
    "d = Counter(d1) + Counter(d2)\n",
    "\n",
    "# Print the resulting merged dictionary 'd'.\n",
    "print(d)\n"
   ]
  },
  {
   "cell_type": "markdown",
   "id": "867c3b00",
   "metadata": {},
   "source": [
    "20. Write a Python program to print all distinct values in a dictionary"
   ]
  },
  {
   "cell_type": "code",
   "execution_count": null,
   "id": "2c9c875a",
   "metadata": {},
   "outputs": [],
   "source": [
    "# Create a list 'L' containing dictionaries with key-value pairs.\n",
    "L = [{\"V\": \"S001\"}, {\"V\": \"S002\"}, {\"VI\": \"S001\"}, {\"VI\": \"S005\"}, {\"VII\": \"S005\"}, {\"V\": \"S009\"}, {\"VIII\": \"S007\"}]\n",
    "\n",
    "# Print a message indicating the start of the code section.\n",
    "print(\"Original List: \", L)\n",
    "\n",
    "# Create a set 'u_value' to store unique values found in the dictionaries within the list 'L'.\n",
    "# Use a set comprehension to iterate through the dictionaries and values and extract unique values.\n",
    "u_value = set(val for dic in L for val in dic.values())\n",
    "\n",
    "# Print the unique values stored in the 'u_value' set.\n",
    "print(\"Unique Values: \", u_value) \n"
   ]
  },
  {
   "cell_type": "markdown",
   "id": "a76aa7d1",
   "metadata": {},
   "source": [
    "21. Write a Python program to create and display all combinations of letters, selecting each letter from a different key in a dictionary"
   ]
  },
  {
   "cell_type": "code",
   "execution_count": null,
   "id": "3f9b9a44",
   "metadata": {},
   "outputs": [],
   "source": [
    "# Import the 'itertools' module, which provides tools for working with iterators and iterable objects.\n",
    "import itertools\n",
    "\n",
    "# Create a dictionary 'd' with keys '1' and '2', and associated lists of characters as values.\n",
    "d = {'1': ['a', 'b'], '2': ['c', 'd']}\n",
    "\n",
    "# Iterate through combinations of values from the dictionary 'd' using 'itertools.product'.\n",
    "# The values are sorted based on their keys to ensure a specific order.\n",
    "for combo in itertools.product(*[d[k] for k in sorted(d.keys())]):\n",
    "    # Print the combinations as strings by joining the characters in each combination.\n",
    "    print(''.join(combo))\n"
   ]
  },
  {
   "cell_type": "markdown",
   "id": "64f04f4c",
   "metadata": {},
   "source": [
    "22. Write a Python program to find the highest 3 values of corresponding keys in a dictionary"
   ]
  },
  {
   "cell_type": "code",
   "execution_count": null,
   "id": "9151fd34",
   "metadata": {},
   "outputs": [],
   "source": [
    "# Import the 'nlargest' function from the 'heapq' module.\n",
    "from heapq import nlargest\n",
    "\n",
    "# Create a dictionary 'my_dict' with key-value pairs.\n",
    "my_dict = {'a': 500, 'b': 5874, 'c': 560, 'd': 400, 'e': 5874, 'f': 20}\n",
    "\n",
    "# Use the 'nlargest' function to find the three largest keys in the 'my_dict' dictionary based on their values.\n",
    "# The 'key' argument specifies that the values should be used for comparison.\n",
    "three_largest = nlargest(3, my_dict, key=my_dict.get)\n",
    "\n",
    "# Print the three largest keys found in the 'my_dict' dictionary.\n",
    "print(three_largest)\n"
   ]
  },
  {
   "cell_type": "markdown",
   "id": "5e25f261",
   "metadata": {},
   "source": [
    "23. Write a Python program to combine values in a list of dictionaries"
   ]
  },
  {
   "cell_type": "code",
   "execution_count": null,
   "id": "49d7a274",
   "metadata": {},
   "outputs": [],
   "source": [
    "# Import the 'Counter' class from the 'collections' module.\n",
    "from collections import Counter\n",
    "\n",
    "# Create a list 'item_list' containing dictionaries with 'item' and 'amount' as keys.\n",
    "item_list = [{'item': 'item1', 'amount': 400}, {'item': 'item2', 'amount': 300}, {'item': 'item1', 'amount': 750}]\n",
    "\n",
    "# Create an empty Counter object 'result' to store the summed amounts for each 'item'.\n",
    "result = Counter()\n",
    "\n",
    "# Iterate through the dictionaries in 'item_list' using a for loop.\n",
    "for d in item_list:\n",
    "    # Update the 'result' Counter by adding the 'amount' to the corresponding 'item' key.\n",
    "    result[d['item']] += d['amount']\n",
    "\n",
    "# Print the 'result' Counter, which contains the summed amounts for each 'item'.\n",
    "print(result) \n"
   ]
  },
  {
   "cell_type": "markdown",
   "id": "62b18f88",
   "metadata": {},
   "source": [
    "24. Write a Python program to create a dictionary from a string"
   ]
  },
  {
   "cell_type": "code",
   "execution_count": null,
   "id": "838f848e",
   "metadata": {},
   "outputs": [],
   "source": [
    "# Import the 'defaultdict' and 'Counter' classes from the 'collections' module.\n",
    "from collections import defaultdict, Counter\n",
    "\n",
    "# Create a string 'str1' containing characters.\n",
    "str1 = 'w3resource'\n",
    "\n",
    "# Create an empty dictionary 'my_dict' to store character counts.\n",
    "my_dict = {}\n",
    "\n",
    "# Iterate through the characters in the string 'str1' using a for loop.\n",
    "for letter in str1:\n",
    "    # Update the 'my_dict' by incrementing the count of the current character.\n",
    "    # Use the 'get' method with a default value of 0 to initialize counts for new characters.\n",
    "    my_dict[letter] = my_dict.get(letter, 0) + 1\n",
    "\n",
    "# Print the 'my_dict' dictionary, which contains character counts.\n",
    "print(my_dict) \n"
   ]
  },
  {
   "cell_type": "markdown",
   "id": "1d105c01",
   "metadata": {},
   "source": [
    "25. Write a Python program to print a dictionary in table format"
   ]
  },
  {
   "cell_type": "code",
   "execution_count": null,
   "id": "587c01e0",
   "metadata": {},
   "outputs": [],
   "source": [
    "# Create a dictionary 'my_dict' with keys as 'C1', 'C2', and 'C3', and corresponding lists of values.\n",
    "my_dict = {'C1': [1, 2, 3], 'C2': [5, 6, 7], 'C3': [9, 10, 11]}\n",
    "\n",
    "# Use a list comprehension to create a list of tuples where each tuple contains a key and its corresponding list of values.\n",
    "# Sort the items (key-value pairs) in the 'my_dict' dictionary based on their keys.\n",
    "# The 'zip' function is used to transpose the rows and columns.\n",
    "for row in zip(*([key] + (value) for key, value in sorted(my_dict.items()))):\n",
    "    # Print each row of transposed data as space-separated values.\n",
    "    print(*row)\n"
   ]
  },
  {
   "cell_type": "markdown",
   "id": "1bb8a72c",
   "metadata": {},
   "source": [
    "26. Write a Python program to count the values associated with a key in a dictionary"
   ]
  },
  {
   "cell_type": "code",
   "execution_count": null,
   "id": "573c3df5",
   "metadata": {},
   "outputs": [],
   "source": [
    "# Create a list 'student' containing dictionaries, each representing a student with 'id', 'success', and 'name' information.\n",
    "student = [{'id': 1, 'success': True, 'name': 'Lary'},\n",
    " {'id': 2, 'success': False, 'name': 'Rabi'},\n",
    " {'id': 3, 'success': True, 'name': 'Alex'}]\n",
    "\n",
    "# Print the sum of 'id' values for all students in the 'student' list.\n",
    "print(sum(d['id'] for d in student))\n",
    "\n",
    "# Print the sum of 'success' values (True/False) for all students in the 'student' list.\n",
    "print(sum(d['success'] for d in student))\n"
   ]
  },
  {
   "cell_type": "markdown",
   "id": "1ae9109a",
   "metadata": {},
   "source": [
    "27. Write a Python program to convert a list into a nested dictionary of keys"
   ]
  },
  {
   "cell_type": "code",
   "execution_count": null,
   "id": "ae1d284a",
   "metadata": {},
   "outputs": [],
   "source": [
    "# Create a list 'num_list' containing numbers.\n",
    "num_list = [1, 2, 3, 4]\n",
    "\n",
    "# Create an empty dictionary 'new_dict' and initialize 'current' to reference the same dictionary.\n",
    "new_dict = current = {}\n",
    "\n",
    "# Iterate through the numbers in 'num_list' using a for loop.\n",
    "for name in num_list:\n",
    "    # Create a nested empty dictionary under the 'current' dictionary with the current 'name' as the key.\n",
    "    current[name] = {}\n",
    "    \n",
    "    # Update the 'current' reference to point to the newly created nested dictionary.\n",
    "    current = current[name]\n",
    "\n",
    "# Print the 'new_dict' dictionary, which is a nested structure with empty dictionaries.\n",
    "print(new_dict)\n"
   ]
  },
  {
   "cell_type": "markdown",
   "id": "64f30dfa",
   "metadata": {},
   "source": [
    "28. Write a Python program to sort a list alphabetically in a dictionary"
   ]
  },
  {
   "cell_type": "code",
   "execution_count": null,
   "id": "8e99534d",
   "metadata": {},
   "outputs": [],
   "source": [
    "# Create a dictionary 'num' with keys 'n1', 'n2', and 'n3', and associated lists of numbers as values.\n",
    "num = {'n1': [2, 3, 1], 'n2': [5, 1, 2], 'n3': [3, 2, 4]}\n",
    "\n",
    "# Use a dictionary comprehension to create a new dictionary 'sorted_dict'.\n",
    "# Iterate through the key-value pairs in 'num' and sort the lists of numbers ('y') for each key ('x').\n",
    "sorted_dict = {x: sorted(y) for x, y in num.items()}\n",
    "\n",
    "# Print the 'sorted_dict' dictionary, which contains the same keys with sorted lists of numbers as values.\n",
    "print(sorted_dict)\n"
   ]
  },
  {
   "cell_type": "markdown",
   "id": "f202ef6d",
   "metadata": {},
   "source": [
    "29. Write a Python program to remove spaces from dictionary keys"
   ]
  },
  {
   "cell_type": "code",
   "execution_count": null,
   "id": "aa833354",
   "metadata": {},
   "outputs": [],
   "source": [
    "# Create a dictionary 'student_list' with keys containing extra spaces and associated lists of subjects.\n",
    "student_list = {'S  001': ['Math', 'Science'], 'S    002': ['Math', 'English']}\n",
    "\n",
    "# Print a message indicating the start of the code section.\n",
    "print(\"Original dictionary: \", student_list)\n",
    "\n",
    "# Use a dictionary comprehension to create a new dictionary 'student_dict'.\n",
    "# Iterate through the key-value pairs in 'student_list'.\n",
    "# Remove extra spaces from the keys using the 'translate' method with a translation table.\n",
    "student_dict = {x.translate({32: None}): y for x, y in student_list.items()}\n",
    "\n",
    "# Print a message indicating the start of the new dictionary section.\n",
    "print(\"New dictionary: \", student_dict) \n"
   ]
  },
  {
   "cell_type": "markdown",
   "id": "ed8c4ee7",
   "metadata": {},
   "source": [
    "30. Write a Python program to get the top three items in a shop"
   ]
  },
  {
   "cell_type": "code",
   "execution_count": null,
   "id": "c8233d57",
   "metadata": {},
   "outputs": [],
   "source": [
    "# Import the 'nlargest' function from the 'heapq' module and the 'itemgetter' function from the 'operator' module.\n",
    "from heapq import nlargest\n",
    "from operator import itemgetter\n",
    "\n",
    "# Create a dictionary 'items' with keys representing items and values as their corresponding prices.\n",
    "items = {'item1': 45.50, 'item2': 35, 'item3': 41.30, 'item4': 55, 'item5': 24}\n",
    "\n",
    "# Use the 'nlargest' function to find the three items with the largest prices from the 'items' dictionary.\n",
    "# The 'key' argument specifies that the second element (price) of each key-value pair should be used for comparison.\n",
    "for name, value in nlargest(3, items.items(), key=itemgetter(1)):\n",
    "    # Print the name and price of the three items with the largest prices.\n",
    "    print(name, value) \n",
    "\t"
   ]
  },
  {
   "cell_type": "markdown",
   "id": "80bde8f7",
   "metadata": {},
   "source": [
    "31. Write a Python program to get the key, value and item in a dictionary"
   ]
  },
  {
   "cell_type": "code",
   "execution_count": null,
   "id": "2ff6fe26",
   "metadata": {},
   "outputs": [],
   "source": [
    "# Create a dictionary 'dict_num' with keys and values.\n",
    "dict_num = {1: 10, 2: 20, 3: 30, 4: 40, 5: 50, 6: 60}\n",
    "\n",
    "# Print a header for the output table.\n",
    "print(\"key  value  count\")\n",
    "\n",
    "# Iterate through the key-value pairs in 'dict_num' using the 'enumerate' function.\n",
    "# The 'enumerate' function assigns a count starting from 1 to each pair and unpacks them as (count, (key, value)).\n",
    "for count, (key, value) in enumerate(dict_num.items(), 1):\n",
    "    # Print the key, value, and count in a formatted table.\n",
    "    print(key, '   ', value, '    ', count) \n"
   ]
  },
  {
   "cell_type": "markdown",
   "id": "423e3c99",
   "metadata": {},
   "source": [
    "32. Write a Python program to print a dictionary line by line"
   ]
  },
  {
   "cell_type": "code",
   "execution_count": null,
   "id": "7e5267c9",
   "metadata": {},
   "outputs": [],
   "source": [
    "# Create a dictionary 'students' with student names as keys and nested dictionaries as values.\n",
    "students = {'Aex': {'class': 'V', 'roll_id': 2}, 'Puja': {'class': 'V', 'roll_id': 3}}\n",
    "\n",
    "# Iterate through the student names (keys) in the 'students' dictionary using a for loop.\n",
    "for a in students:\n",
    "    # Print the student name.\n",
    "    print(a)\n",
    "    \n",
    "    # Iterate through the keys of the nested dictionary associated with the current student using a nested for loop.\n",
    "    for b in students[a]:\n",
    "        # Print the key, a colon, and the corresponding value from the nested dictionary.\n",
    "        print(b, ':', students[a][b])\n"
   ]
  },
  {
   "cell_type": "markdown",
   "id": "07ab1d1a",
   "metadata": {},
   "source": [
    "33. Write a Python program to check if multiple keys exist in a dictionary"
   ]
  },
  {
   "cell_type": "code",
   "execution_count": null,
   "id": "fc4f9377",
   "metadata": {},
   "outputs": [],
   "source": [
    "# Create a dictionary 'student' with key-value pairs representing a student's information.\n",
    "student = {\n",
    "  'name': 'Alex',\n",
    "  'class': 'V',\n",
    "  'roll_id': '2'\n",
    "}\n",
    "\n",
    "# Check if the set of keys in 'student' contains the keys 'class' and 'name'.\n",
    "print(student.keys() &gt;= {'class', 'name'})\n",
    "\n",
    "# Check if the set of keys in 'student' contains the keys 'name' and 'Alex'.\n",
    "# Note that 'Alex' is not a key, so this check will always be False.\n",
    "print(student.keys() &gt;= {'name', 'Alex'})\n",
    "\n",
    "# Check if the set of keys in 'student' contains the keys 'roll_id' and 'name'.\n",
    "print(student.keys() &gt;= {'roll_id', 'name'}) \n"
   ]
  },
  {
   "cell_type": "markdown",
   "id": "2866a6e6",
   "metadata": {},
   "source": [
    "34. Write a Python program to count the number of items in a dictionary value that is a list"
   ]
  },
  {
   "cell_type": "code",
   "execution_count": null,
   "id": "fd604e8e",
   "metadata": {},
   "outputs": [],
   "source": [
    "# Create a dictionary 'dict' with names as keys and lists of subjects as values.\n",
    "dict =  {'Alex': ['subj1', 'subj2', 'subj3'], 'David': ['subj1', 'subj2']}\n",
    "\n",
    "# Calculate the total number of subjects by summing the lengths of the lists (values) in the dictionary.\n",
    "ctr = sum(map(len, dict.values()))\n",
    "\n",
    "# Print the total count of subjects.\n",
    "print(ctr) \n"
   ]
  },
  {
   "cell_type": "markdown",
   "id": "e54d384f",
   "metadata": {},
   "source": [
    "35. Write a Python program to sort Counter by value"
   ]
  },
  {
   "cell_type": "code",
   "execution_count": null,
   "id": "b85395d9",
   "metadata": {},
   "outputs": [],
   "source": [
    "# Import the 'Counter' class from the 'collections' module.\n",
    "from collections import Counter\n",
    "\n",
    "# Create a Counter object 'x' with subjects as keys and associated scores as values.\n",
    "x = Counter({'Math': 81, 'Physics': 83, 'Chemistry': 87})\n",
    "\n",
    "# Print the most common elements in the 'x' Counter, which are subject-score pairs.\n",
    "print(x.most_common())\n"
   ]
  },
  {
   "cell_type": "markdown",
   "id": "8b245e09",
   "metadata": {},
   "source": [
    "36. Write a Python program to create a dictionary from two lists without losing duplicate values"
   ]
  },
  {
   "cell_type": "code",
   "execution_count": null,
   "id": "cab2ce1b",
   "metadata": {},
   "outputs": [],
   "source": [
    "# Import the 'defaultdict' class from the 'collections' module.\n",
    "from collections import defaultdict\n",
    "\n",
    "# Create a list 'class_list' with class names and a list 'id_list' with corresponding IDs.\n",
    "class_list = ['Class-V', 'Class-VI', 'Class-VII', 'Class-VIII']\n",
    "id_list = [1, 2, 2, 3]\n",
    "\n",
    "# Create a defaultdict 'temp' with set as the default factory function.\n",
    "temp = defaultdict(set)\n",
    "\n",
    "# Iterate through paired elements of 'class_list' and 'id_list' using the 'zip' function.\n",
    "for c, i in zip(class_list, id_list):\n",
    "    # Add the 'i' value to the set associated with the 'c' key in the 'temp' defaultdict.\n",
    "    temp[c].add(i)\n",
    "\n",
    "# Print the 'temp' defaultdict, which groups IDs by class name.\n",
    "print(temp) \n"
   ]
  },
  {
   "cell_type": "markdown",
   "id": "f73a7042",
   "metadata": {},
   "source": [
    "37. Write a Python program to replace dictionary values with their sums"
   ]
  },
  {
   "cell_type": "code",
   "execution_count": null,
   "id": "1422052a",
   "metadata": {},
   "outputs": [],
   "source": [
    "# Define a function 'sum_math_v_vi_average' that takes a list of dictionaries as input.\n",
    "def sum_math_v_vi_average(list_of_dicts):\n",
    "    # Iterate through each dictionary in the input list.\n",
    "    for d in list_of_dicts:\n",
    "        # Extract and remove the 'V' and 'VI' values from the dictionary.\n",
    "        n1 = d.pop('V')\n",
    "        n2 = d.pop('VI')\n",
    "        # Calculate the average of 'V' and 'VI' and store it as 'V+VI' in the dictionary.\n",
    "        d['V+VI'] = (n1 + n2) / 2\n",
    "    # Return the modified list of dictionaries.\n",
    "    return list_of_dicts\n",
    "\n",
    "# Create a list of dictionaries 'student_details' containing student information.\n",
    "student_details = [\n",
    "  {'id': 1, 'subject': 'math', 'V': 70, 'VI': 82},\n",
    "  {'id': 2, 'subject': 'math', 'V': 73, 'VI': 74},\n",
    "  {'id': 3, 'subject': 'math', 'V': 75, 'VI': 86}\n",
    "]\n",
    "\n",
    "# Call the 'sum_math_v_vi_average' function and print the modified list of student details.\n",
    "print(sum_math_v_vi_average(student_details)) \n"
   ]
  },
  {
   "cell_type": "markdown",
   "id": "14708cc6",
   "metadata": {},
   "source": [
    "38. Write a Python program to match key values in two dictionaries"
   ]
  },
  {
   "cell_type": "code",
   "execution_count": null,
   "id": "845b3628",
   "metadata": {},
   "outputs": [],
   "source": [
    "# Create two dictionaries 'x' and 'y' with key-value pairs.\n",
    "x = {'key1': 1, 'key2': 3, 'key3': 2}\n",
    "y = {'key1': 1, 'key2': 2}\n",
    "\t\n",
    "# Use set operations to find the common key-value pairs between 'x' and 'y'.\n",
    "# Iterate through the common key-value pairs using a for loop.\n",
    "for (key, value) in set(x.items()) &amp; set(y.items()):\n",
    "    # Print a message indicating that the key and value are present in both 'x' and 'y'.\n",
    "    print('%s: %s is present in both x and y' % (key, value))\n"
   ]
  },
  {
   "cell_type": "markdown",
   "id": "8c2a2488",
   "metadata": {},
   "source": [
    "39. Write a Python program to store dictionary data in a JSON file"
   ]
  },
  {
   "cell_type": "code",
   "execution_count": null,
   "id": "91e0dc40",
   "metadata": {},
   "outputs": [],
   "source": [
    "# Create a dictionary 'd' containing information about students and teachers as a list of dictionaries.\n",
    "d = {\n",
    "    \"students\": [\n",
    "        {\"firstName\": \"Nikki\", \"lastName\": \"Roysden\"},\n",
    "        {\"firstName\": \"Mervin\", \"lastName\": \"Friedland\"},\n",
    "        {\"firstName\": \"Aron\", \"lastName\": \"Wilkins\"}\n",
    "    ],\n",
    "    \"teachers\": [\n",
    "        {\"firstName\": \"Amberly\", \"lastName\": \"Calico\"},\n",
    "        {\"firstName\": \"Regine\", \"lastName\": \"Agtarap\"}\n",
    "    ]\n",
    "}\n",
    "\n",
    "# Print a message indicating the start of the code section and the original dictionary.\n",
    "print(\"Original dictionary:\")\n",
    "print(d)\n",
    "\n",
    "# Print the data type of the 'd' dictionary.\n",
    "print(type(d))\n",
    "\n",
    "# Import the 'json' module to work with JSON data.\n",
    "import json\n",
    "\n",
    "# Create a new JSON file named \"dictionary\" and write the 'd' dictionary to it with formatting.\n",
    "with open(\"dictionary\", \"w\") as f:\n",
    "    json.dump(d, f, indent=4, sort_keys=True)\n",
    "\n",
    "# Print a message indicating the start of the next code section.\n",
    "print(\"\\nJson file to dictionary:\")\n",
    "\n",
    "# Open the \"dictionary\" JSON file and read its contents into the 'data' variable.\n",
    "with open('dictionary') as f:\n",
    "    data = json.load(f)\n",
    "\n",
    "# Print the 'data' dictionary containing the JSON data from the file.\n",
    "print(data) \n"
   ]
  },
  {
   "cell_type": "markdown",
   "id": "35fd355e",
   "metadata": {},
   "source": [
    "40. Write a Python program to create a dictionary of keys x, y, and z where each key has as value a list from 11-20, 21-30, and 31-40 respectively"
   ]
  },
  {
   "cell_type": "code",
   "execution_count": null,
   "id": "f8305c60",
   "metadata": {},
   "outputs": [],
   "source": [
    "# Import the 'pprint' function from the 'pprint' module to pretty-print dictionaries.\n",
    "from pprint import pprint\n",
    "\n",
    "# Create a dictionary 'dict_nums' with keys 'x', 'y', and 'z', and lists of numbers as values.\n",
    "dict_nums = dict(x=list(range(11, 20)), y=list(range(21, 30)), z=list(range(31, 40)))\n",
    "\n",
    "# Pretty-print the 'dict_nums' dictionary to improve readability.\n",
    "pprint(dict_nums)\n",
    "\n",
    "# Print the value at the 4th index of the 'x', 'y', and 'z' lists in 'dict_nums'.\n",
    "print(dict_nums[\"x\"][4])\n",
    "print(dict_nums[\"y\"][4])\n",
    "print(dict_nums[\"z\"][4])\n",
    "\n",
    "# Iterate through the key-value pairs in 'dict_nums' and print the key and its associated value.\n",
    "for k, v in dict_nums.items():\n",
    "    print(k, \"has value\", v)\n"
   ]
  },
  {
   "cell_type": "markdown",
   "id": "3520f2bc",
   "metadata": {},
   "source": [
    "41. Write a Python program to drop empty items from a given dictionary"
   ]
  },
  {
   "cell_type": "code",
   "execution_count": null,
   "id": "60105d69",
   "metadata": {},
   "outputs": [],
   "source": [
    "# Create a dictionary 'dict1' with keys and associated values, including a 'None' value.\n",
    "dict1 = {'c1': 'Red', 'c2': 'Green', 'c3': None}\n",
    "\n",
    "# Print a message indicating the start of the code section and the original dictionary.\n",
    "print(\"Original Dictionary:\")\n",
    "print(dict1)\n",
    "\n",
    "# Print a message indicating the intention to create a new dictionary without empty items.\n",
    "print(\"New Dictionary after dropping empty items:\")\n",
    "\n",
    "# Use a dictionary comprehension to create a new dictionary that excludes items with 'None' values.\n",
    "# Iterate through the key-value pairs in 'dict1' and include them in the new dictionary if the value is not 'None'.\n",
    "dict1 = {key: value for (key, value) in dict1.items() if value is not None}\n",
    "\n",
    "# Print the new dictionary containing only non-empty items.\n",
    "print(dict1) \n"
   ]
  },
  {
   "cell_type": "markdown",
   "id": "11824598",
   "metadata": {},
   "source": [
    "42. Write a Python program to filter a dictionary based on values"
   ]
  },
  {
   "cell_type": "code",
   "execution_count": null,
   "id": "11a002f0",
   "metadata": {},
   "outputs": [],
   "source": [
    "# Create a dictionary 'marks' with student names as keys and their marks as values.\n",
    "marks = {'Cierra Vega': 175, 'Alden Cantrell': 180, 'Kierra Gentry': 165, 'Pierre Cox': 190}\n",
    "\n",
    "# Print a message indicating the start of the code section and the original dictionary.\n",
    "print(\"Original Dictionary:\")\n",
    "print(marks)\n",
    "\n",
    "# Print a message indicating the intention to filter marks greater than or equal to 170.\n",
    "print(\"Marks greater than 170:\")\n",
    "\n",
    "# Use a dictionary comprehension to create a new dictionary containing only the key-value pairs where marks are greater than or equal to 170.\n",
    "# Iterate through the key-value pairs in 'marks' and include them in the new dictionary if the value is greater than or equal to 170.\n",
    "result = {key: value for (key, value) in marks.items() if value &gt;= 170}\n",
    "\n",
    "# Print the new dictionary containing only the filtered key-value pairs.\n",
    "print(result) \n"
   ]
  },
  {
   "cell_type": "markdown",
   "id": "42e07dcf",
   "metadata": {},
   "source": [
    "43. Write a Python program to convert more than one list to a nested dictionary"
   ]
  },
  {
   "cell_type": "code",
   "execution_count": null,
   "id": "c206fc1c",
   "metadata": {},
   "outputs": [],
   "source": [
    "# Define a function 'nested_dictionary' that takes three lists as input and creates a nested dictionary structure.\n",
    "def nested_dictionary(l1, l2, l3):\n",
    "     # Use a list comprehension to create a list of dictionaries, each containing nested dictionaries.\n",
    "     # The elements of the input lists 'l1', 'l2', and 'l3' are used to create these nested dictionaries.\n",
    "     result = [{x: {y: z}} for (x, y, z) in zip(l1, l2, l3)]\n",
    "     return result\n",
    "\n",
    "# Create three lists, 'student_id', 'student_name', and 'student_grade'.\n",
    "student_id = [\"S001\", \"S002\", \"S003\", \"S004\"] \n",
    "student_name = [\"Adina Park\", \"Leyton Marsh\", \"Duncan Boyle\", \"Saim Richards\"] \n",
    "student_grade = [85, 98, 89, 92]\n",
    "\n",
    "# Print a message indicating the start of the code section and the original lists.\n",
    "print(\"Original strings:\")\n",
    "print(student_id)\n",
    "print(student_name)\n",
    "print(student_grade)\n",
    "\n",
    "# Print a message indicating the intention to create a nested dictionary.\n",
    "print(\"\\nNested dictionary:\")\n",
    "\n",
    "# Call the 'nested_dictionary' function and create a nested dictionary from the three input lists.\n",
    "# Assign the result to the variable 'ch', which is not used further.\n",
    "ch = 'a'\n",
    "print(nested_dictionary(student_id, student_name, student_grade)) \n"
   ]
  },
  {
   "cell_type": "markdown",
   "id": "da63b7c8",
   "metadata": {},
   "source": [
    "44. Write a Python program to filter the height and width of students, which are stored in a dictionary"
   ]
  },
  {
   "cell_type": "code",
   "execution_count": null,
   "id": "37d32c21",
   "metadata": {},
   "outputs": [],
   "source": [
    "# Define a function 'filter_data' that filters students based on height and weight criteria.\n",
    "def filter_data(students):\n",
    "    # Use a dictionary comprehension to create a new dictionary 'result'.\n",
    "    # Include key-value pairs from 'students' where the height (s[0]) is greater than or equal to 6.0\n",
    "    # and the weight (s[1]) is greater than or equal to 70.\n",
    "    result = {k: s for k, s in students.items() if s[0] &gt;= 6.0 and s[1] &gt;= 70}\n",
    "    return result\n",
    "\t\n",
    "# Create a dictionary 'students' with student names as keys and tuples of height and weight as values.\n",
    "students = {\n",
    "    'Cierra Vega': (6.2, 70),\n",
    "    'Alden Cantrell': (5.9, 65),\n",
    "    'Kierra Gentry': (6.0, 68),\n",
    "    'Pierre Cox': (5.8, 66)\n",
    "}\n",
    "\n",
    "# Print a message indicating the start of the code section and the original dictionary.\n",
    "print(\"Original Dictionary:\")\n",
    "print(students)\n",
    "\n",
    "# Print a message indicating the intention to filter students based on height and weight criteria.\n",
    "print(\"\\nHeight &gt; 6ft and Weight &gt; 70kg:\")\n",
    "\n",
    "# Call the 'filter_data' function to filter students based on the specified criteria.\n",
    "# Print the resulting filtered dictionary.\n",
    "print(filter_data(students)) \n"
   ]
  },
  {
   "cell_type": "markdown",
   "id": "42ab6b39",
   "metadata": {},
   "source": [
    "45. Write a Python program to verify that all values in a dictionary are the same"
   ]
  },
  {
   "cell_type": "code",
   "execution_count": null,
   "id": "d4f7f265",
   "metadata": {},
   "outputs": [],
   "source": [
    "# Define a function 'value_check' that checks if all values in a dictionary are equal to a given value 'n'.\n",
    "def value_check(students, n):\n",
    "    # Use the 'all' function to check if all values in the 'students' dictionary are equal to 'n'.\n",
    "    result = all(x == n for x in students.values())\n",
    "    return result\n",
    "\n",
    "# Create a dictionary 'students' with student names as keys and values representing their scores.\n",
    "students = {'Cierra Vega': 12, 'Alden Cantrell': 12, 'Kierra Gentry': 12, 'Pierre Cox': 12}\n",
    "\n",
    "# Print a message indicating the start of the code section and the original dictionary.\n",
    "print(\"Original Dictionary:\")\n",
    "print(students)\n",
    "\n",
    "# Set the value 'n' to be checked to 12.\n",
    "n = 12\n",
    "\n",
    "# Print a message indicating the intention to check if all values in the dictionary are equal to 'n'.\n",
    "print(\"\\nCheck all are\", n, \"in the dictionary.\")\n",
    "\n",
    "# Call the 'value_check' function to check if all values in the dictionary are equal to 'n'.\n",
    "# Print the result of the check.\n",
    "print(value_check(students, n))\n",
    "\n",
    "# Set the value 'n' to be checked to 10.\n",
    "n = 10\n",
    "\n",
    "# Print a message indicating the intention to check if all values in the dictionary are equal to 'n'.\n",
    "print(\"\\nCheck all are\", n, \"in the dictionary.\")\n",
    "\n",
    "# Call the 'value_check' function to check if all values in the dictionary are equal to 'n'.\n",
    "# Print the result of the check.\n",
    "print(value_check(students, n)) \n"
   ]
  },
  {
   "cell_type": "markdown",
   "id": "138da60d",
   "metadata": {},
   "source": [
    "46. Write a Python program to create a dictionary grouping a sequence of key-value pairs into a dictionary of lists"
   ]
  },
  {
   "cell_type": "code",
   "execution_count": null,
   "id": "11be4027",
   "metadata": {},
   "outputs": [],
   "source": [
    "# Define a function 'grouping_dictionary' that groups a sequence of key-value pairs into a dictionary of lists.\n",
    "def grouping_dictionary(l):\n",
    "    # Create an empty dictionary 'result' to store the grouped data.\n",
    "    result = {}\n",
    "    for k, v in l:\n",
    "        # Use 'setdefault' to append values 'v' to the list associated with key 'k'.\n",
    "        result.setdefault(k, []).append(v)\n",
    "    return result\n",
    "\n",
    "# Create a list 'colors' containing key-value pairs (color, value).\n",
    "colors = [('yellow', 1), ('blue', 2), ('yellow', 3), ('blue', 4), ('red', 1)]\n",
    "\n",
    "# Print a message indicating the start of the code section and the original list.\n",
    "print(\"Original list:\")\n",
    "print(colors)\n",
    "\n",
    "# Print a message indicating the intention to group the key-value pairs into a dictionary of lists.\n",
    "print(\"\\nGrouping a sequence of key-value pairs into a dictionary of lists:\")\n",
    "\n",
    "# Call the 'grouping_dictionary' function to group the key-value pairs and print the resulting dictionary.\n",
    "print(grouping_dictionary(colors))\n"
   ]
  },
  {
   "cell_type": "markdown",
   "id": "bdde666d",
   "metadata": {},
   "source": [
    "47. Write a Python program to split a given dictionary of lists into lists of dictionaries"
   ]
  },
  {
   "cell_type": "code",
   "execution_count": null,
   "id": "f681d7c1",
   "metadata": {},
   "outputs": [],
   "source": [
    "# Define a function 'list_of_dicts' that splits a dictionary of lists into a list of dictionaries.\n",
    "def list_of_dicts(marks):\n",
    "    # Get the keys (subjects) from the 'marks' dictionary.\n",
    "    keys = marks.keys()\n",
    "    \t\n",
    "    # Use the 'zip' function to transpose the lists of marks into tuples.\n",
    "    vals = zip(*[marks[k] for k in keys])\n",
    "    \n",
    "    # Create a list of dictionaries by zipping the keys and the transposed tuples.\n",
    "    result = [dict(zip(keys, v)) for v in vals]\n",
    "    return result\n",
    "\n",
    "# Create a dictionary 'marks' with subjects as keys and lists of marks as values.\n",
    "marks = {'Science': [88, 89, 62, 95], 'Language': [77, 78, 84, 80]}\n",
    "\n",
    "# Print a message indicating the start of the code section and the original dictionary of lists.\n",
    "print(\"Original dictionary of lists:\")\n",
    "print(marks)\n",
    "\n",
    "# Print a message indicating the intention to split the dictionary of lists into a list of dictionaries.\n",
    "print(\"\\nSplit said dictionary of lists into a list of dictionaries:\")\n",
    "\n",
    "# Call the 'list_of_dicts' function to split the dictionary of lists and print the resulting list of dictionaries.\n",
    "print(list_of_dicts(marks)) \n"
   ]
  },
  {
   "cell_type": "markdown",
   "id": "9e129896",
   "metadata": {},
   "source": [
    "48. Write a Python program to remove a specified dictionary from a given list"
   ]
  },
  {
   "cell_type": "code",
   "execution_count": null,
   "id": "d9d731ce",
   "metadata": {},
   "outputs": [],
   "source": [
    "# Define a function 'remove_dictionary' that removes a dictionary with a specific 'id' from a list of dictionaries.\n",
    "def remove_dictionary(colors, r_id):\n",
    "    # Use a list comprehension to filter out dictionaries with an 'id' not equal to 'r_id'.\n",
    "    # The filtered result is assigned back to the 'colors' list, effectively removing the dictionary with the specified 'id'.\n",
    "    colors[:] = [d for d in colors if d.get('id') != r_id]\n",
    "    return colors\n",
    "\n",
    "# Create a list of dictionaries 'colors' with 'id' and 'color' as keys.\n",
    "colors = [\n",
    "    {\"id\": \"#FF0000\", \"color\": \"Red\"},\n",
    "    {\"id\": \"#800000\", \"color\": \"Maroon\"},\n",
    "    {\"id\": \"#FFFF00\", \"color\": \"Yellow\"},\n",
    "    {\"id\": \"#808000\", \"color\": \"Olive\"}\n",
    "]\n",
    "\n",
    "# Print a message indicating the start of the code section and the original list of dictionaries.\n",
    "print('Original list of dictionary:')\n",
    "print(colors)\n",
    "\n",
    "# Define the 'r_id' variable with the value of the 'id' to be removed from the list.\n",
    "r_id = \"#FF0000\"\n",
    "\n",
    "# Print a message indicating the intention to remove the dictionary with 'r_id' from the list.\n",
    "print(\"\\nRemove id\", r_id, \"from the said list of dictionary:\")\n",
    "\n",
    "# Call the 'remove_dictionary' function to remove the dictionary with the specified 'id'.\n",
    "# Print the resulting list of dictionaries after the removal.\n",
    "print(remove_dictionary(colors, r_id)) \n"
   ]
  },
  {
   "cell_type": "markdown",
   "id": "32d89a2d",
   "metadata": {},
   "source": [
    "49. Write a Python program to convert string values of a given dictionary into integer/float datatypes"
   ]
  },
  {
   "cell_type": "code",
   "execution_count": null,
   "id": "ff791de3",
   "metadata": {},
   "outputs": [],
   "source": [
    "# Define a function 'convert_to_int' that converts string values in a list of dictionaries to integers.\n",
    "def convert_to_int(lst):\n",
    "    # Use a list comprehension to iterate through each dictionary 'b' in the list 'lst'.\n",
    "    # For each dictionary, convert the string values to integers and create a new dictionary.\n",
    "    result = [dict([a, int(x)] for a, x in b.items()) for b in lst]\n",
    "    return result\n",
    "\n",
    "# Define a function 'convert_to_float' that converts string values in a list of dictionaries to floats.\n",
    "def convert_to_float(lst):\n",
    "    # Use a list comprehension to iterate through each dictionary 'b' in the list 'lst'.\n",
    "    # For each dictionary, convert the string values to floats and create a new dictionary.\n",
    "    result = [dict([a, float(x)] for a, x in b.items()) for b in lst]\n",
    "    return result\n",
    "\n",
    "# Create a list of dictionaries 'nums' with keys and string values.\n",
    "nums_int = [\n",
    "    {'x': '10', 'y': '20', 'z': '30'},\n",
    "    {'p': '40', 'q': '50', 'r': '60'}\n",
    "]\n",
    "\n",
    "# Print a message indicating the start of the code section and the original list of dictionaries.\n",
    "print(\"Original list:\")\n",
    "print(nums_int)\n",
    "\n",
    "# Print a message indicating the intention to convert string values to integers.\n",
    "print(\"\\nString values of a given dictionary, into integer types:\")\n",
    "\n",
    "# Call the 'convert_to_int' function to convert string values to integers and print the resulting list of dictionaries.\n",
    "print(convert_to_int(nums_int))\n",
    "\n",
    "# Create a list of dictionaries 'nums' with keys and string values in floating-point format.\n",
    "nums_float = [\n",
    "    {'x': '10.12', 'y': '20.23', 'z': '30'},\n",
    "    {'p': '40.00', 'q': '50.19', 'r': '60.99'}\n",
    "]\n",
    "\n",
    "# Print a message indicating the start of the code section and the original list of dictionaries.\n",
    "print(\"\\nOriginal list:\")\n",
    "print(nums_float)\n",
    "\n",
    "# Print a message indicating the intention to convert string values to floats.\n",
    "print(\"\\nString values of a given dictionary, into float types:\")\n",
    "\n",
    "# Call the 'convert_to_float' function to convert string values to floats and print the resulting list of dictionaries.\n",
    "print(convert_to_float(nums_float)) \n"
   ]
  },
  {
   "cell_type": "markdown",
   "id": "4a493579",
   "metadata": {},
   "source": [
    "50. A Python dictionary contains List as a value"
   ]
  },
  {
   "cell_type": "code",
   "execution_count": null,
   "id": "508c90f2",
   "metadata": {},
   "outputs": [],
   "source": [
    "# Define a function 'test' that clears the list values within a dictionary.\n",
    "def test(dictionary):\n",
    "    # Iterate through the keys in the 'dictionary' and use the 'clear' method to empty the lists.\n",
    "    for key in dictionary:\n",
    "        dictionary[key].clear()\n",
    "    return dictionary\n",
    "\n",
    "# Create a dictionary 'dictionary' with keys as 'C1', 'C2', and 'C3', and lists as values.\n",
    "dictionary = { \n",
    "    'C1': [10, 20, 30], \n",
    "    'C2': [20, 30, 40],\n",
    "    'C3': [12, 34]\n",
    "}\n",
    "\n",
    "# Print a message indicating the start of the code section and the original dictionary.\n",
    "print(\"\\nOriginal Dictionary:\")\n",
    "print(dictionary)\n",
    "\n",
    "# Print a message indicating the intention to clear the list values in the dictionary.\n",
    "print(\"\\nClear the list values in the said dictionary:\")\n",
    "\n",
    "# Call the 'test' function to clear the list values within the dictionary and print the resulting dictionary.\n",
    "print(test(dictionary)) \n"
   ]
  },
  {
   "cell_type": "markdown",
   "id": "2d978ebb",
   "metadata": {},
   "source": [
    "51. A Python Dictionary contains List as a value"
   ]
  },
  {
   "cell_type": "code",
   "execution_count": null,
   "id": "b9173302",
   "metadata": {},
   "outputs": [],
   "source": [
    "# Define a function 'test' that updates the list values within a dictionary.\n",
    "def test(dictionary):\n",
    "    # Update the 'Math' key's list values by adding 1 to each element using a list comprehension.\n",
    "    dictionary['Math'] = [x + 1 for x in dictionary['Math']]\n",
    "    # Update the 'Physics' key's list values by subtracting 2 from each element using a list comprehension.\n",
    "    dictionary['Physics'] = [x - 2 for x in dictionary['Physics']]\n",
    "    return dictionary\n",
    "\n",
    "# Create a dictionary 'dictionary' with keys 'Math', 'Physics', and 'Chemistry', and lists as values.\n",
    "dictionary = { \n",
    "    'Math': [88, 89, 90], \n",
    "    'Physics': [92, 94, 89],\n",
    "    'Chemistry': [90, 87, 93]\n",
    "}\n",
    "\n",
    "# Print a message indicating the start of the code section and the original dictionary.\n",
    "print(\"\\nOriginal Dictionary:\")\n",
    "print(dictionary)\n",
    "\n",
    "# Print a message indicating the intention to update the list values in the dictionary.\n",
    "print(\"\\nUpdate the list values of the said dictionary:\")\n",
    "\n",
    "# Call the 'test' function to update the list values within the dictionary and print the resulting dictionary.\n",
    "print(test(dictionary))\n"
   ]
  },
  {
   "cell_type": "markdown",
   "id": "22eae1fd",
   "metadata": {},
   "source": [
    "52. Write a Python program to extract a list of values from a given list of dictionaries"
   ]
  },
  {
   "cell_type": "code",
   "execution_count": null,
   "id": "085d72ea",
   "metadata": {},
   "outputs": [],
   "source": [
    "# Define a function 'test' that extracts a list of values for a specific subject ('marks') from a list of dictionaries ('lst').\n",
    "def test(lst, marks):\n",
    "    # Use a list comprehension to extract the values associated with the subject ('marks') in each dictionary.\n",
    "    result = [d[marks] for d in lst if marks in d]\n",
    "    return result\n",
    "\n",
    "# Create a list of dictionaries 'marks' with subjects 'Math' and 'Science' and associated marks.\n",
    "marks = [{'Math': 90, 'Science': 92}, \n",
    "         {'Math': 89, 'Science': 94}, \n",
    "         {'Math': 92, 'Science': 88}]\n",
    "\n",
    "# Print a message indicating the start of the code section and the original list of dictionaries.\n",
    "print(\"\\nOriginal Dictionary:\")\n",
    "print(marks)\n",
    "\n",
    "# Define the subject 'subj' as \"Science\".\n",
    "subj = \"Science\"\n",
    "\n",
    "# Print a message indicating the intention to extract values for the subject 'subj' from the list of dictionaries.\n",
    "print(\"\\nExtract a list of values from the said list of dictionaries where subject =\", subj)\n",
    "\n",
    "# Call the 'test' function to extract the values associated with the subject 'subj' and print the result.\n",
    "print(test(marks, subj))\n",
    "\n",
    "# Print a message indicating the start of the code section and the original list of dictionaries.\n",
    "print(\"\\nOriginal Dictionary:\")\n",
    "print(marks)\n",
    "\n",
    "# Define the subject 'subj' as \"Math\".\n",
    "subj = \"Math\"\n",
    "\n",
    "# Print a message indicating the intention to extract values for the subject 'subj' from the list of dictionaries.\n",
    "print(\"\\nExtract a list of values from the said list of dictionaries where subject =\", subj)\n",
    "\n",
    "# Call the 'test' function to extract the values associated with the subject 'subj' and print the result.\n",
    "print(test(marks, subj)) \n"
   ]
  },
  {
   "cell_type": "markdown",
   "id": "1fff4f97",
   "metadata": {},
   "source": [
    "53. Write a Python program to find the length of a dictionary of values"
   ]
  },
  {
   "cell_type": "code",
   "execution_count": null,
   "id": "17d1b9bc",
   "metadata": {},
   "outputs": [],
   "source": [
    "# Define a function 'test' that calculates the length of the values in a dictionary and returns a new dictionary with values as keys and their lengths as values.\n",
    "def test(dictt):\n",
    "    result = {}\n",
    "    for val in dictt.values():\n",
    "        # Calculate the length of each value and store it as a key-value pair in the 'result' dictionary.\n",
    "        result[val] = len(val)\n",
    "    return result\n",
    "\n",
    "# Create a dictionary 'color_dict' with integer keys and color values.\n",
    "color_dict = {1: 'red', 2: 'green', 3: 'black', 4: 'white', 5: 'black'}\n",
    "\n",
    "# Print a message indicating the start of the code section and the original dictionary.\n",
    "print(\"\\nOriginal Dictionary:\")\n",
    "print(color_dict)\n",
    "\n",
    "# Print a message indicating the intention to calculate the length of dictionary values.\n",
    "print(\"Length of dictionary values:\")\n",
    "\n",
    "# Call the 'test' function to calculate the length of values in the dictionary and print the result.\n",
    "print(test(color_dict))\n",
    "\n",
    "# Create a dictionary 'color_dict' with string keys and names as values.\n",
    "color_dict = {'1': 'Austin Little', '2': 'Natasha Howard', '3': 'Alfred Mullins', '4': 'Jamie Rowe'}\n",
    "\n",
    "# Print a message indicating the start of the code section and the original dictionary.\n",
    "print(\"\\nOriginal Dictionary:\")\n",
    "print(color_dict)\n",
    "\n",
    "# Print a message indicating the intention to calculate the length of dictionary values.\n",
    "print(\"Length of dictionary values:\")\n",
    "\n",
    "# Call the 'test' function to calculate the length of values in the dictionary and print the result.\n",
    "print(test(color_dict))\n"
   ]
  },
  {
   "cell_type": "markdown",
   "id": "6294b542",
   "metadata": {},
   "source": [
    "54. Write a Python program to get the depth of a dictionary"
   ]
  },
  {
   "cell_type": "code",
   "execution_count": null,
   "id": "27cadff2",
   "metadata": {},
   "outputs": [],
   "source": [
    "# Define a function 'dict_depth' that calculates the depth (maximum nesting level) of a dictionary.\n",
    "def dict_depth(d):\n",
    "    # Check if the input 'd' is a dictionary.\n",
    "    if isinstance(d, dict):\n",
    "        # If 'd' is a dictionary, return 1 plus the maximum depth of its values (recursively).\n",
    "        return 1 + (max(map(dict_depth, d.values())) if d else 0)\n",
    "    # If 'd' is not a dictionary, return 0 (indicating no nesting).\n",
    "    return 0\n",
    "\n",
    "# Create a dictionary 'dic' with nested dictionaries to test the depth calculation.\n",
    "dic = {'a': 1, 'b': {'c': {'d': {}}}}\n",
    "\n",
    "# Print a message indicating the start of the code section and the dictionary being analyzed.\n",
    "print(\"\\nOriginal Dictionary:\")\n",
    "print(dic)\n",
    "\n",
    "# Call the 'dict_depth' function to calculate the depth of the dictionary and print the result.\n",
    "print(dict_depth(dic)) \n"
   ]
  },
  {
   "cell_type": "markdown",
   "id": "57306a4e",
   "metadata": {},
   "source": [
    "55. Write a Python program to access dictionary key's element by index"
   ]
  },
  {
   "cell_type": "code",
   "execution_count": null,
   "id": "7794efe3",
   "metadata": {},
   "outputs": [],
   "source": [
    "# Create a dictionary 'num' with subject names as keys and corresponding marks as values.\n",
    "num = {'physics': 80, 'math': 90, 'chemistry': 86}\n",
    "\n",
    "# Print a message indicating the intention to access the keys of the dictionary and retrieve them as a list.\n",
    "print(\"\\nAccess the keys of the dictionary as a list:\")\n",
    "\n",
    "# Access and print the first key (subject name) in the dictionary.\n",
    "print(list(num)[0])\n",
    "\n",
    "# Access and print the second key (subject name) in the dictionary.\n",
    "print(list(num)[1])\n",
    "\n",
    "# Access and print the third key (subject name) in the dictionary.\n",
    "print(list(num)[2])\n"
   ]
  },
  {
   "cell_type": "markdown",
   "id": "60597f47",
   "metadata": {},
   "source": [
    "56. Write a Python program to convert a dictionary into a list of lists"
   ]
  },
  {
   "cell_type": "code",
   "execution_count": null,
   "id": "6aeed8e1",
   "metadata": {},
   "outputs": [],
   "source": [
    "# Define a function 'test' that converts a dictionary into a list of lists containing key-value pairs.\n",
    "def test(dictt):\n",
    "    # Use the 'items' method to get key-value pairs, then convert it to a list of lists.\n",
    "    result = list(map(list, dictt.items()))\n",
    "    return result    \n",
    "\n",
    "# Create a dictionary 'color_dict' with numeric keys and corresponding color names as values.\n",
    "color_dict = {1 : 'red', 2 : 'green', 3 : 'black', 4 : 'white', 5 : 'black'}\n",
    "\n",
    "# Print a message indicating the start of the code section and the dictionary being processed.\n",
    "print(\"\\nOriginal Dictionary:\")\n",
    "print(color_dict)\n",
    "\n",
    "# Call the 'test' function to convert the dictionary into a list of lists and print the result.\n",
    "print(\"Convert the said dictionary into a list of lists:\")\n",
    "print(test(color_dict))\n",
    "\n",
    "# Create another dictionary 'color_dict' with string keys and corresponding names as values.\n",
    "color_dict = {'1' : 'Austin Little', '2' : 'Natasha Howard', '3' : 'Alfred Mullins', '4' : 'Jamie Rowe'}\n",
    "\n",
    "# Print a message indicating the start of the code section and the new dictionary being processed.\n",
    "print(\"\\nOriginal Dictionary:\")\n",
    "print(color_dict)\n",
    "\n",
    "# Call the 'test' function to convert the dictionary into a list of lists and print the result.\n",
    "print(\"Convert the said dictionary into a list of lists:\")\n",
    "print(test(color_dict)) \n"
   ]
  },
  {
   "cell_type": "markdown",
   "id": "752040c8",
   "metadata": {},
   "source": [
    "57. Write a Python program to filter even numbers from a dictionary of values"
   ]
  },
  {
   "cell_type": "code",
   "execution_count": null,
   "id": "f115fcd5",
   "metadata": {},
   "outputs": [],
   "source": [
    "# Define a function 'test' that filters even numbers from dictionary values.\n",
    "def test(dictt):\n",
    "    # Use a dictionary comprehension to filter even numbers for each value in the dictionary.\n",
    "    result = {key: [idx for idx in val if not idx % 2] for key, val in dictt.items()}   \n",
    "    return result    \n",
    "\n",
    "# Create a dictionary 'students' with string keys (class names) and lists of integers as values.\n",
    "students = {'V' : [1, 4, 6, 10], 'VI' : [1, 4, 12], 'VII' : [1, 3, 8]} \n",
    "\n",
    "# Print a message indicating the start of the code section and the dictionary being processed.\n",
    "print(\"\\nOriginal Dictionary:\")\n",
    "print(students)\n",
    "\n",
    "# Call the 'test' function to filter even numbers from dictionary values and print the result.\n",
    "print(\"Filter even numbers from said dictionary values:\")\n",
    "print(test(students))\n",
    "\n",
    "# Create another dictionary 'students' with string keys (class names) and lists of integers as values.\n",
    "students = {'V' : [1, 3, 5], 'VI' : [1, 5], 'VII' : [2, 7, 9]} \n",
    "\n",
    "# Print a message indicating the start of the code section and the new dictionary being processed.\n",
    "print(\"\\nOriginal Dictionary:\")\n",
    "print(students)\n",
    "\n",
    "# Call the 'test' function to filter even numbers from dictionary values and print the result.\n",
    "print(\"Filter even numbers from said dictionary values:\")\n",
    "print(test(students)) \n"
   ]
  },
  {
   "cell_type": "markdown",
   "id": "462e5595",
   "metadata": {},
   "source": [
    "58. Write a Python program to get all combinations of key-value pairs in a given dictionary"
   ]
  },
  {
   "cell_type": "code",
   "execution_count": null,
   "id": "0f2abfba",
   "metadata": {},
   "outputs": [],
   "source": [
    "# Import the 'itertools' module to use its combination functions.\n",
    "import itertools\n",
    "\n",
    "# Define a function 'test' that takes a dictionary 'dictt' as an argument.\n",
    "def test(dictt):\n",
    "    # Generate all combinations of key-value pairs in the dictionary.\n",
    "    # Convert each combination into a dictionary and return a list of dictionaries.\n",
    "    result = list(map(dict, itertools.combinations(dictt.items(), 2)))\n",
    "    return result\n",
    "\n",
    "# Create a dictionary 'students' where the keys are grades ('V', 'VI', 'VII') and the values are lists of integers.\n",
    "students = {'V': [1, 4, 6, 10], 'VI': [1, 4, 12], 'VII': [1, 3, 8]}\n",
    "\n",
    "# Print a message indicating the start of the code section and the original dictionary.\n",
    "print(\"\\nOriginal Dictionary:\")\n",
    "print(students)\n",
    "\n",
    "# Print a message indicating the purpose and generate all combinations of key-value pairs for the 'students' dictionary using the 'test' function.\n",
    "print(\"\\nCombinations of key-value pairs of the said dictionary:\")\n",
    "print(test(students))\n",
    "\n",
    "# Create another dictionary 'students' with different values.\n",
    "students = {'V': [1, 3, 5], 'VI': [1, 5]}\n",
    "\n",
    "# Print a message indicating the start of the code section and the original dictionary.\n",
    "print(\"\\nOriginal Dictionary:\")\n",
    "print(students)\n",
    "\n",
    "# Print a message indicating the purpose and generate all combinations of key-value pairs for the new 'students' dictionary using the 'test' function.\n",
    "print(\"\\nCombinations of key-value pairs of the said dictionary:\")\n",
    "print(test(students))\n"
   ]
  },
  {
   "cell_type": "markdown",
   "id": "20d03443",
   "metadata": {},
   "source": [
    "59. Write a Python program to find the specified number of maximum values in a given dictionary"
   ]
  },
  {
   "cell_type": "code",
   "execution_count": null,
   "id": "230d4c24",
   "metadata": {},
   "outputs": [],
   "source": [
    "def test(dictt, N):\n",
    "    result = sorted(dictt, key=dictt.get, reverse=True)[:N]\n",
    "    return result \n",
    "dictt = {'a':5, 'b':14, 'c': 32, 'd':35, 'e':24, 'f': 100, 'g':57, 'h':8, 'i': 100}\n",
    "print(\"\\nOriginal Dictionary:\")\n",
    "print(dictt)\n",
    "N = 1\n",
    "print(\"\\n\",N,\"maximum value(s) in the said dictionary:\")\n",
    "print(test(dictt, N))\n",
    "N = 2\n",
    "print(\"\\n\",N,\"maximum value(s) in the said dictionary:\")\n",
    "print(test(dictt, N))\n",
    "N = 5\n",
    "print(\"\\n\",N,\"maximum value(s) in the said dictionary:\")\n",
    "print(test(dictt, N))\n"
   ]
  },
  {
   "cell_type": "markdown",
   "id": "3e887457",
   "metadata": {},
   "source": [
    "60. Write a Python program to find the shortest list of values for the keys in a given dictionary"
   ]
  },
  {
   "cell_type": "code",
   "execution_count": null,
   "id": "678d1805",
   "metadata": {},
   "outputs": [],
   "source": [
    "# Define a function 'test' that takes a dictionary 'dictt' as an argument.\n",
    "def test(dictt):\n",
    "    # Define a minimum value for the length of sublists (1 in this case).\n",
    "    min_value = 1\n",
    "\n",
    "    # Create a list of keys 'k' for which the length of the associated list 'v' is equal to 'min_value'.\n",
    "    result = [k for k, v in dictt.items() if len(v) == min_value]\n",
    "\n",
    "    # Return the list of keys.\n",
    "    return result\n",
    "\n",
    "# Create a dictionary 'dictt' where the keys represent grades ('V', 'VI', etc.) and the values are lists of integers.\n",
    "dictt = {\n",
    "    'V': [10, 12],\n",
    "    'VI': [10],\n",
    "    'VII': [10, 20, 30, 40],\n",
    "    'VIII': [20],\n",
    "    'IX': [10, 30, 50, 70],\n",
    "    'X': [80]\n",
    "}\n",
    "\n",
    "# Print a message indicating the start of the code section and display the original dictionary.\n",
    "print(\"\\nOriginal Dictionary:\")\n",
    "print(dictt)\n",
    "\n",
    "# Print a message indicating the purpose and generate a list of keys associated with the shortest lists in the 'dictt' dictionary using the 'test' function.\n",
    "print(\"\\nShortest list of values with the keys of the said dictionary:\")\n",
    "print(test(dictt)) \n"
   ]
  },
  {
   "cell_type": "markdown",
   "id": "123399cb",
   "metadata": {},
   "source": [
    "61. Write a Python program to count the frequency of a dictionary"
   ]
  },
  {
   "cell_type": "code",
   "execution_count": null,
   "id": "d2d82744",
   "metadata": {},
   "outputs": [],
   "source": [
    "# Import the 'Counter' class from the 'collections' module.\n",
    "from collections import Counter\n",
    "\n",
    "# Define a function 'test' that takes a dictionary 'dictt' as an argument.\n",
    "def test(dictt):\n",
    "    # Use the 'Counter' class to count the frequency of values in the dictionary.\n",
    "    result = Counter(dictt.values())\n",
    "    \n",
    "    # Return the result as a Counter object.\n",
    "    return result\n",
    "\n",
    "# Create a dictionary 'dictt' where the keys represent grades ('V', 'VI', etc.) and the values are integers.\n",
    "dictt = {\n",
    "    'V': 10,\n",
    "    'VI': 10,\n",
    "    'VII': 40,\n",
    "    'VIII': 20,\n",
    "    'IX': 70,\n",
    "    'X': 80,\n",
    "    'XI': 40,\n",
    "    'XII': 20\n",
    "}\n",
    "\n",
    "# Print a message indicating the start of the code section and display the original dictionary.\n",
    "print(\"\\nOriginal Dictionary:\")\n",
    "print(dictt)\n",
    "\n",
    "# Print a message indicating the purpose and generate a frequency count of values in the 'dictt' dictionary using the 'test' function.\n",
    "print(\"\\nCount the frequency of the said dictionary:\")\n",
    "print(test(dictt)) \n"
   ]
  },
  {
   "cell_type": "markdown",
   "id": "04a3938a",
   "metadata": {},
   "source": [
    "62. Write a Python program to extract values from a given dictionary and create a list of lists from those values"
   ]
  },
  {
   "cell_type": "code",
   "execution_count": null,
   "id": "d1e4f0dc",
   "metadata": {},
   "outputs": [],
   "source": [
    "# Define a function 'test' that takes a list of dictionaries 'dictt' and a tuple of 'keys' as arguments.\n",
    "def test(dictt, keys):\n",
    "    # Use a list comprehension to extract values from the dictionaries for the specified 'keys' and create a list of lists.\n",
    "    return [list(d[k] for k in keys) for d in dictt]\n",
    "\n",
    "# Create a list of dictionaries 'students' where each dictionary represents student information.\n",
    "students = [\n",
    "    {'student_id': 1, 'name': 'Jean Castro', 'class': 'V'},\n",
    "    {'student_id': 2, 'name': 'Lula Powell', 'class': 'V'},\n",
    "    {'student_id': 3, 'name': 'Brian Howell', 'class': 'VI'},\n",
    "    {'student_id': 4, 'name': 'Lynne Foster', 'class': 'VI'},\n",
    "    {'student_id': 5, 'name': 'Zachary Simon', 'class': 'VII'}\n",
    "]\n",
    "\n",
    "# Print a message indicating the start of the code section and display the original list of dictionaries.\n",
    "print(\"\\nOriginal Dictionary:\")\n",
    "print(students)\n",
    "\n",
    "# Print a message indicating the purpose and demonstrate the 'test' function's usage for different sets of 'keys'.\n",
    "print(\"\\nExtract values from the said dictionaries and create a list of lists using those values:\")\n",
    "print(\"\\n\", test(students, ('student_id', 'name', 'class')))\n",
    "print(\"\\n\", test(students, ('student_id', 'name')))\n",
    "print(\"\\n\", test(students, ('name', 'class')))\n"
   ]
  },
  {
   "cell_type": "markdown",
   "id": "4540b3a0",
   "metadata": {},
   "source": [
    "63. Write a Python program to convert a given list of lists to a dictionary"
   ]
  },
  {
   "cell_type": "code",
   "execution_count": null,
   "id": "169cb9b0",
   "metadata": {},
   "outputs": [],
   "source": [
    "# Define a function 'test' that takes a list of lists 'lst' as an argument.\n",
    "def test(lst):\n",
    "    # Use a dictionary comprehension to convert each list in 'lst' into a dictionary,\n",
    "    # where the first element is the key, and the rest of the elements are values.\n",
    "    result = {item[0]: item[1:] for item in lst}\n",
    "    return result\n",
    "\n",
    "# Create a list of lists 'students' where each inner list represents student information.\n",
    "students = [\n",
    "    [1, 'Jean Castro', 'V'],\n",
    "    [2, 'Lula Powell', 'V'],\n",
    "    [3, 'Brian Howell', 'VI'],\n",
    "    [4, 'Lynne Foster', 'VI'],\n",
    "    [5, 'Zachary Simon', 'VII']\n",
    "]\n",
    "\n",
    "# Print a message indicating the start of the code section and display the original list of lists.\n",
    "print(\"\\nOriginal list of lists:\")\n",
    "print(students)\n",
    "\n",
    "# Print a message indicating the purpose and demonstrate the 'test' function's usage to convert the list of lists to a dictionary.\n",
    "print(\"\\nConvert the said list of lists to a dictionary:\")\n",
    "print(test(students)) \n"
   ]
  },
  {
   "cell_type": "markdown",
   "id": "114c87a8",
   "metadata": {},
   "source": [
    "64. Write a Python program that creates key-value list pairings within a dictionary"
   ]
  },
  {
   "cell_type": "code",
   "execution_count": null,
   "id": "bfbb61d8",
   "metadata": {},
   "outputs": [],
   "source": [
    "# Import the 'product' function from the 'itertools' module.\n",
    "from itertools import product\n",
    "\n",
    "# Define a function 'test' that takes a dictionary 'dictt' as an argument.\n",
    "def test(dictt):\n",
    "    # Use a list comprehension to create a list of dictionaries by pairing keys from 'dictt'\n",
    "    # with all possible combinations of values from the input dictionary.\n",
    "    result = [dict(zip(dictt, sub)) for sub in product(*dictt.values())]\n",
    "    return result\n",
    "\n",
    "# Create a dictionary 'students' where keys are student IDs and values are lists with one name each.\n",
    "students = {1: ['Jean Castro'], 2: ['Lula Powell'], 3: ['Brian Howell'], 4: ['Lynne Foster'], 5: ['Zachary Simon']}\n",
    "\n",
    "# Print a message indicating the start of the code section and display the original dictionary.\n",
    "print(\"\\nOriginal dictionary:\")\n",
    "print(students)\n",
    "\n",
    "# Print a message indicating the purpose and demonstrate the 'test' function's usage\n",
    "# to generate key-value list pairings from the dictionary.\n",
    "print(\"\\nA key-value list pairings of the said dictionary:\")\n",
    "print(test(students)) \n"
   ]
  },
  {
   "cell_type": "markdown",
   "id": "648516b8",
   "metadata": {},
   "source": [
    "65. Write a Python program to get the total length of all values in a given dictionary with string values"
   ]
  },
  {
   "cell_type": "code",
   "execution_count": null,
   "id": "497eb920",
   "metadata": {},
   "outputs": [],
   "source": [
    "# Define a function 'test' that takes a dictionary 'dictt' as an argument.\n",
    "def test(dictt):\n",
    "    # Use a generator expression to calculate the sum of lengths of all values in the input dictionary.\n",
    "    result = sum((len(values) for values in dictt.values()))\n",
    "    return result\n",
    "\n",
    "# Create a dictionary 'color' with color codes as keys and color names as values.\n",
    "color = {'#FF0000':'Red', '#800000':'Maroon', '#FFFF00':'Yellow', '#808000':'Olive'}\n",
    "\n",
    "# Print a message indicating the start of the code section and display the original dictionary.\n",
    "print(\"\\nOriginal dictionary:\")\n",
    "print(color)\n",
    "\n",
    "# Print a message indicating the purpose and demonstrate the 'test' function's usage\n",
    "# to calculate the total length of all string values in the dictionary.\n",
    "print(\"\\nTotal length of all values of the said dictionary with string values:\")\n",
    "print(test(color)) \n"
   ]
  },
  {
   "cell_type": "markdown",
   "id": "3da29a1b",
   "metadata": {},
   "source": [
    "66. Write a Python program to check if a specific key and a value exist in a dictionary"
   ]
  },
  {
   "cell_type": "code",
   "execution_count": null,
   "id": "981cc912",
   "metadata": {},
   "outputs": [],
   "source": [
    "# Define a function 'test' that takes a list of dictionaries 'dictt', a 'key', and a 'value' as arguments.\n",
    "def test(dictt, key, value):\n",
    "    # Check if any sub-dictionary in the list 'dictt' has the given 'key' with the specified 'value'.\n",
    "    if any(sub[key] == value for sub in dictt):\n",
    "        return True  # If found, return True.\n",
    "    return False  # If not found, return False.\n",
    "\n",
    "# Create a list of dictionaries 'students' with student details.\n",
    "students = [\n",
    "    {'student_id': 1, 'name': 'Jean Castro', 'class': 'V'},\n",
    "    {'student_id': 2, 'name': 'Lula Powell', 'class': 'V'},\n",
    "    {'student_id': 3, 'name': 'Brian Howell', 'class': 'VI'},\n",
    "    {'student_id': 4, 'name': 'Lynne Foster', 'class': 'VI'},\n",
    "    {'student_id': 5, 'name': 'Zachary Simon', 'class': 'VII'}\n",
    "]\n",
    "\n",
    "# Print a message indicating the start of the code section and display the original dictionary.\n",
    "print(\"\\nOriginal dictionary:\")\n",
    "print(students)\n",
    "\n",
    "# Print a message indicating the purpose and demonstrate the 'test' function's usage\n",
    "# to check if specific keys and values exist in the dictionary.\n",
    "print(\"\\nCheck if a specific Key and a value exist in the said dictionary:\")\n",
    "print(test(students, 'student_id', 1))\n",
    "print(test(students, 'name', 'Brian Howell'))\n",
    "print(test(students, 'class', 'VII'))\n",
    "print(test(students, 'class', 'I'))\n",
    "print(test(students, 'name', 'Brian Howelll'))\n",
    "print(test(students, 'student_id', 11)) \n"
   ]
  },
  {
   "cell_type": "markdown",
   "id": "5cd84966",
   "metadata": {},
   "source": [
    "67. Write a Python program to invert a given dictionary with non-unique hashable values"
   ]
  },
  {
   "cell_type": "code",
   "execution_count": null,
   "id": "25982295",
   "metadata": {},
   "outputs": [],
   "source": [
    "# Import the 'defaultdict' class from the 'collections' module.\n",
    "from collections import defaultdict\n",
    "\n",
    "# Define a function 'test' that takes a dictionary 'students' as an argument.\n",
    "def test(students):\n",
    "  # Create a 'defaultdict' object 'obj' with a default value of an empty list.\n",
    "  obj = defaultdict(list)\n",
    "\n",
    "  # Iterate through the items (key-value pairs) in the 'students' dictionary.\n",
    "  for key, value in students.items():\n",
    "    # Append the 'key' to the list associated with the 'value' in the 'obj' dictionary.\n",
    "    obj[value].append(key)\n",
    "\n",
    "  # Convert the 'defaultdict' 'obj' back to a regular dictionary and return it.\n",
    "  return dict(obj)\n",
    "\n",
    "# Define a dictionary 'students' with student names as keys and grades as values.\n",
    "students = {\n",
    "  'Ora Mckinney': 8,\n",
    "  'Theodore Hollandl': 7,\n",
    "  'Mae Fleming': 7,\n",
    "  'Mathew Gilbert': 8,\n",
    "  'Ivan Little': 7,\n",
    "}\n",
    "\n",
    "# Call the 'test' function with the 'students' dictionary and print the result.\n",
    "print(test(students))\n"
   ]
  },
  {
   "cell_type": "markdown",
   "id": "84662136",
   "metadata": {},
   "source": [
    "68. Write a Python program to combine two or more dictionaries, creating a list of values for each key"
   ]
  },
  {
   "cell_type": "code",
   "execution_count": null,
   "id": "13361af5",
   "metadata": {},
   "outputs": [],
   "source": [
    "# Import the 'defaultdict' class from the 'collections' module.\n",
    "from collections import defaultdict\n",
    "\n",
    "# Define a function 'test' that takes any number of dictionaries as arguments (*dicts).\n",
    "def test(*dicts):\n",
    "  # Create a 'defaultdict' object 'result' with a default value of an empty list.\n",
    "  result = defaultdict(list)\n",
    "\n",
    "  # Iterate through the dictionaries passed as arguments.\n",
    "  for el in dicts:\n",
    "    # Iterate through the keys and values in each dictionary.\n",
    "    for key in el:\n",
    "      # Append the value associated with the 'key' to the list for that 'key' in 'result'.\n",
    "      result[key].append(el[key])\n",
    "\n",
    "  # Convert the 'defaultdict' 'result' back to a regular dictionary and return it.\n",
    "  return dict(result)\n",
    "\n",
    "# Define two dictionaries 'd1' and 'd2' with key-value pairs.\n",
    "d1 = {'w': 50, 'x': 100, 'y': 'Green', 'z': 400}\n",
    "d2 = {'x': 300, 'y': 'Red', 'z': 600}\n",
    "\n",
    "# Print the original dictionaries.\n",
    "print(\"Original dictionaries:\")\n",
    "print(d1)\n",
    "print(d2)\n",
    "\n",
    "# Call the 'test' function with 'd1' and 'd2' and print the combined dictionary.\n",
    "print(\"\\nCombined dictionaries, creating a list of values for each key:\")\n",
    "print(test(d1, d2)) \n"
   ]
  },
  {
   "cell_type": "markdown",
   "id": "c28009a7",
   "metadata": {},
   "source": [
    "69. Write a Python program to group the elements of a given list based on the given function"
   ]
  },
  {
   "cell_type": "code",
   "execution_count": null,
   "id": "8637849b",
   "metadata": {},
   "outputs": [],
   "source": [
    "# Import the 'defaultdict' class from the 'collections' module.\n",
    "from collections import defaultdict\n",
    "# Import the 'floor' function from the 'math' module.\n",
    "from math import floor\n",
    "\n",
    "# Define a function 'test' that takes a list 'lst' and a function 'fn' as arguments.\n",
    "def test(lst, fn):\n",
    "  # Create a 'defaultdict' object 'd' with a default value of an empty list.\n",
    "  d = defaultdict(list)\n",
    "\n",
    "  # Iterate through the elements 'el' in the input list 'lst'.\n",
    "  for el in lst:\n",
    "    # Apply the function 'fn' to the current element 'el' to determine the group key.\n",
    "    key = fn(el)\n",
    "\n",
    "    # Append the current element 'el' to the list associated with the calculated key.\n",
    "    d[key].append(el)\n",
    "\n",
    "  # Convert the 'defaultdict' 'd' back to a regular dictionary and return it.\n",
    "  return dict(d)\n",
    "\n",
    "# Define a list of numbers 'nums' and a function 'floor' for rounding down.\n",
    "nums = [7, 23, 3.2, 3.3, 8.4]\n",
    "\n",
    "# Print the original list and specify the function used for grouping.\n",
    "print(\"Original list &amp; function:\")\n",
    "print(nums, \" Function name: floor:\")\n",
    "\n",
    "# Call the 'test' function with 'nums' and the 'floor' function as arguments,\n",
    "# and print the result of grouping based on the 'floor' function.\n",
    "print(\"Group the elements of the said list based on the given function:\")\n",
    "print(test(nums, floor))\n",
    "print(\"\\n\")\n",
    "\n",
    "# Define a list of colors 'colors'.\n",
    "colors = ['Red', 'Green', 'Black', 'White', 'Pink']\n",
    "\n",
    "# Print the original list and specify the function used for grouping.\n",
    "print(\"Original list &amp; function:\")\n",
    "print(colors, \" Function name: len:\")\n",
    "\n",
    "# Call the 'test' function with 'colors' and the 'len' function as arguments,\n",
    "# and print the result of grouping based on the 'len' function.\n",
    "print(\"Group the elements of the said list based on the given function:\")\n",
    "print(test(colors, len)) \n"
   ]
  },
  {
   "cell_type": "markdown",
   "id": "af770256",
   "metadata": {},
   "source": [
    "70. Write a Python program to map the values of a given list to a dictionary using a function, where the key-value pairs consist of the original value as the key and the result of the function as the value"
   ]
  },
  {
   "cell_type": "code",
   "execution_count": null,
   "id": "44176d88",
   "metadata": {},
   "outputs": [],
   "source": [
    "# Define a function 'test' that takes two arguments: 'itr' (an iterable) and 'fn' (a function).\n",
    "def test(itr, fn):\n",
    "    # Use the 'zip' function to pair each element from 'itr' with the result of applying 'fn' to that element.\n",
    "    # Convert the zipped pairs into a dictionary where the elements from 'itr' are keys, and the results of 'fn' are values.\n",
    "    return dict(zip(itr, map(fn, itr)))\n",
    "\n",
    "# Call the 'test' function with an iterable [1, 2, 3, 4] and a lambda function that squares its input.\n",
    "# The lambda function calculates the square of each element in the iterable.\n",
    "result = test([1, 2, 3, 4], lambda x: x * x)\n",
    "\n",
    "# Print the resulting dictionary.\n",
    "print(result)\n"
   ]
  },
  {
   "cell_type": "markdown",
   "id": "3d184ef1",
   "metadata": {},
   "source": [
    "71. Write a Python program to retrieve the value of the nested key indicated by the given selector list from a dictionary or list"
   ]
  },
  {
   "cell_type": "code",
   "execution_count": null,
   "id": "7c1997d7",
   "metadata": {},
   "outputs": [],
   "source": [
    "# Import the 'reduce' function from the 'functools' module and the 'getitem' function from the 'operator' module.\n",
    "from functools import reduce\n",
    "from operator import getitem\n",
    "\n",
    "# Define a function 'test' that takes a dictionary 'd' and a list of 'selectors'.\n",
    "def test(d, selectors):\n",
    "    # Use 'reduce' to successively apply 'getitem' with each element in 'selectors' on the dictionary 'd'.\n",
    "    # This effectively drills down into the dictionary using the sequence of selectors.\n",
    "    return reduce(getitem, selectors, d)\n",
    "\n",
    "# Create a nested dictionary 'users'.\n",
    "users = {\n",
    "    'Carla ': {\n",
    "        'name': {\n",
    "            'first': 'Carla ',\n",
    "            'last': 'Russell'\n",
    "        },\n",
    "        'postIds': [1, 2, 3, 4, 5]\n",
    "    }\n",
    "}\n",
    "\n",
    "# Call the 'test' function with two sets of selectors to access specific values within the 'users' dictionary.\n",
    "# The first call accesses Carla's last name, and the second call accesses one of Carla's post IDs.\n",
    "print(test(users, ['Carla ', 'name', 'last']))\n",
    "print(test(users, ['Carla ', 'postIds', 1])) \n"
   ]
  },
  {
   "cell_type": "markdown",
   "id": "ade6aa7c",
   "metadata": {},
   "source": [
    "72. Write a Python program to invert a dictionary with unique hashable values"
   ]
  },
  {
   "cell_type": "code",
   "execution_count": null,
   "id": "50539749",
   "metadata": {},
   "outputs": [],
   "source": [
    "# Define a function 'test' that takes a dictionary 'students'.\n",
    "def test(students):\n",
    "    # Create a new dictionary where the keys and values from 'students' are swapped.\n",
    "    # The values become keys, and the keys become values in the new dictionary.\n",
    "    return {value: key for key, value in students.items()}\n",
    "\n",
    "# Create a dictionary 'students' with names as keys and corresponding grades as values.\n",
    "students = {\n",
    "    'Theodore': 10,\n",
    "    'Mathew': 11,\n",
    "    'Roxanne': 9,\n",
    "}\n",
    "\n",
    "# Call the 'test' function with the 'students' dictionary to swap keys and values.\n",
    "print(test(students)) \n"
   ]
  },
  {
   "cell_type": "markdown",
   "id": "6ac75919",
   "metadata": {},
   "source": [
    "73. Write a Python program to convert a list of dictionaries into a list of values corresponding to the specified key"
   ]
  },
  {
   "cell_type": "code",
   "execution_count": null,
   "id": "bda4c829",
   "metadata": {},
   "outputs": [],
   "source": [
    "# Define a function 'test' that takes a list of dictionaries 'lsts' and a 'key'.\n",
    "def test(lsts, key):\n",
    "    # Use a list comprehension to extract the value associated with the specified 'key' from each dictionary.\n",
    "    return [x.get(key) for x in lsts]\n",
    "\n",
    "# Create a list of dictionaries 'students', where each dictionary contains 'name' and 'age' keys.\n",
    "students = [\n",
    "    {'name': 'Theodore', 'age': 18},\n",
    "    {'name': 'Mathew', 'age': 22},\n",
    "    {'name': 'Roxanne', 'age': 20},\n",
    "    {'name': 'David', 'age': 18}\n",
    "]\n",
    "\n",
    "# Print the original list of dictionaries.\n",
    "print(\"Original list of dictionaries:\")\n",
    "print(students)\n",
    "\n",
    "# Call the 'test' function to extract 'age' values from the 'students' list of dictionaries.\n",
    "print(\"\\nConvert a list of dictionaries into a list of values corresponding to the specified key:\")\n",
    "print(test(students, 'age')) \n"
   ]
  },
  {
   "cell_type": "markdown",
   "id": "c360b3d9",
   "metadata": {},
   "source": [
    "74. Write a Python program to create a dictionary with the same keys as the given dictionary and values generated by running the given function for each value"
   ]
  },
  {
   "cell_type": "code",
   "execution_count": null,
   "id": "5ccb50b1",
   "metadata": {},
   "outputs": [],
   "source": [
    "# Define a function 'test' that takes a dictionary 'obj' and a function 'fn'.\n",
    "def test(obj, fn):\n",
    "    # Use a dictionary comprehension to apply the function 'fn' to each value in the 'obj' dictionary.\n",
    "    # The result is a new dictionary with the same keys, where each value is transformed by 'fn'.\n",
    "    return dict((k, fn(v)) for k, v in obj.items())\n",
    "\n",
    "# Create a dictionary 'users' where each key corresponds to a user and has associated data as a dictionary.\n",
    "users = {\n",
    "    'Theodore': {'user': 'Theodore', 'age': 45},\n",
    "    'Roxanne': {'user': 'Roxanne', 'age': 15},\n",
    "    'Mathew': {'user': 'Mathew', 'age': 21},\n",
    "}\n",
    "\n",
    "# Print the original dictionary elements.\n",
    "print(\"\\nOriginal dictionary elements:\")\n",
    "print(users)\n",
    "\n",
    "# Call the 'test' function to create a new dictionary with the same keys, but with 'age' values extracted.\n",
    "print(\"\\nDictionary with the same keys:\")\n",
    "print(test(users, lambda u: u['age'])) \n"
   ]
  },
  {
   "cell_type": "markdown",
   "id": "a367ca75",
   "metadata": {},
   "source": [
    "75. Write a Python program to find all keys in a dictionary that have the given value"
   ]
  },
  {
   "cell_type": "code",
   "execution_count": null,
   "id": "593e044b",
   "metadata": {},
   "outputs": [],
   "source": [
    "# Define a function 'test' that takes a dictionary 'dict' and a value 'val'.\n",
    "def test(dict, val):\n",
    "    # Use a list comprehension to find all keys in the dictionary where the corresponding value is equal to 'val'.\n",
    "    return list(key for key, value in dict.items() if value == val)\n",
    "\n",
    "# Create a dictionary 'students' where each key corresponds to a student's name, and the associated value is their age.\n",
    "students = {\n",
    "    'Theodore': 19,\n",
    "    'Roxanne': 20,\n",
    "    'Mathew': 21,\n",
    "    'Betty': 20\n",
    "}\n",
    "\n",
    "# Print the original dictionary elements.\n",
    "print(\"\\nOriginal dictionary elements:\")\n",
    "print(students)\n",
    "\n",
    "# Call the 'test' function to find all keys in the dictionary that have the specified value, which is 20 in this case.\n",
    "print(\"\\nFind all keys in the said dictionary that have the specified value:\")\n",
    "print(test(students, 20)) \n"
   ]
  },
  {
   "cell_type": "markdown",
   "id": "11ec2b78",
   "metadata": {},
   "source": [
    "76. Write a Python program to combine two lists into a dictionary"
   ]
  },
  {
   "cell_type": "code",
   "execution_count": null,
   "id": "c466fa9c",
   "metadata": {},
   "outputs": [],
   "source": [
    "# Define a function 'test' that takes two lists, 'keys' and 'values', and combines them into a dictionary.\n",
    "def test(keys, values):\n",
    "    # Use the 'zip' function to pair elements from 'keys' and 'values' lists, and then convert the result into a dictionary.\n",
    "    return dict(zip(keys, values))\n",
    "\n",
    "# Create two lists, 'l1' and 'l2', containing keys and values, respectively.\n",
    "l1 = ['a', 'b', 'c', 'd', 'e', 'f']\n",
    "l2 = [1, 2, 3, 4, 5]\n",
    "\n",
    "# Print the original lists.\n",
    "print(\"Original lists:\")\n",
    "print(l1)\n",
    "print(l2)\n",
    "\n",
    "# Call the 'test' function to combine the values of the two lists into a dictionary.\n",
    "print(\"\\nCombine the values of the said two lists into a dictionary:\")\n",
    "print(test(l1, l2))\n"
   ]
  },
  {
   "cell_type": "markdown",
   "id": "1c4f5e5f",
   "metadata": {},
   "source": [
    "77. Write a Python program to transform a dictionary into a list of tuples"
   ]
  },
  {
   "cell_type": "code",
   "execution_count": null,
   "id": "e2c28c5e",
   "metadata": {},
   "outputs": [],
   "source": [
    "# Define a function 'test' that takes a dictionary 'd' and converts it into a list of tuples using the 'items' method.\n",
    "def test(d):\n",
    "    # Use the 'items' method to convert the dictionary into a list of key-value pairs (tuples).\n",
    "    return list(d.items())\n",
    "\n",
    "# Create a dictionary 'd' with key-value pairs.\n",
    "d = {'Red': 1, 'Green': 3, 'White': 5, 'Black': 2, 'Pink': 4}\n",
    "\n",
    "# Print the original dictionary.\n",
    "print(\"Original Dictionary:\")\n",
    "print(d)\n",
    "\n",
    "# Call the 'test' function to convert the dictionary 'd' into a list of tuples (key-value pairs).\n",
    "print(\"\\nConvert the said dictionary to a list of tuples:\")\n",
    "print(test(d))\n"
   ]
  },
  {
   "cell_type": "markdown",
   "id": "341e8c44",
   "metadata": {},
   "source": [
    "78. Write a Python program to create a flat list of all the keys in a flat dictionary"
   ]
  },
  {
   "cell_type": "code",
   "execution_count": null,
   "id": "aa88fc32",
   "metadata": {},
   "outputs": [],
   "source": [
    "# Define a function 'test' that takes a dictionary 'flat_dict'.\n",
    "# The function returns a list of keys from the given dictionary.\n",
    "def test(flat_dict):\n",
    "    # Use the 'keys' method to extract all the keys from the dictionary and convert them to a list.\n",
    "    return list(flat_dict.keys())\n",
    "\n",
    "# Create a dictionary 'students' with key-value pairs.\n",
    "students = {\n",
    "    'Theodore': 19,\n",
    "    'Roxanne': 20,\n",
    "    'Mathew': 21,\n",
    "    'Betty': 20\n",
    "}\n",
    "\n",
    "# Print the original dictionary.\n",
    "print(\"\\nOriginal dictionary elements:\")\n",
    "print(students)\n",
    "\n",
    "# Call the 'test' function to create a flat list of all the keys in the 'students' dictionary.\n",
    "print(\"\\nCreate a flat list of all the keys of the said flat dictionary:\")\n",
    "print(test(students)) \n"
   ]
  },
  {
   "cell_type": "markdown",
   "id": "2952a3de",
   "metadata": {},
   "source": [
    "79. Write a Python program to create a flat list of all the values in a flat dictionary"
   ]
  },
  {
   "cell_type": "code",
   "execution_count": null,
   "id": "62ef0b4e",
   "metadata": {},
   "outputs": [],
   "source": [
    "# Define a function 'test' that takes a dictionary 'flat_dict'.\n",
    "# The function returns a list of values from the given dictionary.\n",
    "def test(flat_dict):\n",
    "    # Use the 'values' method to extract all the values from the dictionary and convert them to a list.\n",
    "    return list(flat_dict.values())\n",
    "\n",
    "# Create a dictionary 'students' with key-value pairs.\n",
    "students = {\n",
    "    'Theodore': 19,\n",
    "    'Roxanne': 20,\n",
    "    'Mathew': 21,\n",
    "    'Betty': 20\n",
    "}\n",
    "\n",
    "# Print the original dictionary.\n",
    "print(\"\\nOriginal dictionary elements:\")\n",
    "print(students)\n",
    "\n",
    "# Call the 'test' function to create a flat list of all the values in the 'students' dictionary.\n",
    "print(\"\\nCreate a flat list of all the values of the said flat dictionary:\")\n",
    "print(test(students))\n"
   ]
  },
  {
   "cell_type": "markdown",
   "id": "47e77661",
   "metadata": {},
   "source": [
    "80. Write a Python program to find the key of the maximum value in a dictionary"
   ]
  },
  {
   "cell_type": "code",
   "execution_count": null,
   "id": "ef106f5e",
   "metadata": {},
   "outputs": [],
   "source": [
    "# Define a function 'test' that takes a dictionary 'd'.\n",
    "# The function returns the keys of the maximum and minimum values in the dictionary.\n",
    "def test(d):\n",
    "    # Use the 'max' and 'min' functions to find the key corresponding to the maximum and minimum values in the dictionary.\n",
    "    # The 'key' argument specifies that the key should be determined based on the values using 'd.get'.\n",
    "    return max(d, key=d.get), min(d, key=d.get)\n",
    "\n",
    "# Create a dictionary 'students' with key-value pairs.\n",
    "students = {\n",
    "    'Theodore': 19,\n",
    "    'Roxanne': 22,\n",
    "    'Mathew': 21,\n",
    "    'Betty': 20\n",
    "}\n",
    "\n",
    "# Print the original dictionary.\n",
    "print(\"\\nOriginal dictionary elements:\")\n",
    "print(students)\n",
    "\n",
    "# Call the 'test' function to find the keys of the maximum and minimum values in the 'students' dictionary.\n",
    "print(\"\\nFinds the key of the maximum and minimum value of the said dictionary:\")\n",
    "print(test(students))\n"
   ]
  }
 ],
 "metadata": {
  "language_info": {
   "name": "python"
  }
 },
 "nbformat": 4,
 "nbformat_minor": 5
}
